{
 "cells": [
  {
   "cell_type": "markdown",
   "metadata": {},
   "source": [
    "# TP 3 : SVM"
   ]
  },
  {
   "cell_type": "markdown",
   "metadata": {
    "tags": []
   },
   "source": [
    "## 0 - Introduction\n",
    "\n",
    "L'objectif de ce premier TP est d'étudier le fonction des SVM.\n",
    "Il sera à réaliser en python 3. Les librairies utilisées sont installées sur les machines de l'université et de l'Ensicaen, vous pouvez néanmoins les installer sur vos propres machines à l'aide de l'utilitaire pip présent par défaut avec python.\n",
    "\t\n",
    "N'hésitez pas à regarder régulièrement la documentation de ces librairies, des exemples d'utilisation accompagnent généralement l'explication de chaque fonction.\n",
    "\n",
    "\n",
    "Langage utilisé:\n",
    "- Python 3: https://docs.python.org/3/\n",
    "\n",
    "Librairie de math:\n",
    "- Numpy: https://docs.scipy.org/doc/numpy/reference/\n",
    "- Scipy: https://docs.scipy.org/doc/scipy/reference/\n",
    "\n",
    "Librairie d'affichage de données:\n",
    "- Matplotilb: https://matplotlib.org/contents.html\n",
    "\n",
    "Librairie de traitement d'image:\n",
    "- Scikit-image: https://scikit-image.org/\n",
    "\n",
    "Librairie d'apprentissage automatique:\n",
    "- Scikit-learn: http://scikit-learn.org\n",
    "\n",
    "**Afin d'avoir un code optimisé, vous éviterez d'utiliser les instructions python3 `if`, `for` et `while` (sauf mention contraire dans le sujet).**"
   ]
  },
  {
   "cell_type": "code",
   "execution_count": 1,
   "metadata": {},
   "outputs": [],
   "source": [
    "#Ce bloc contient tous les imports nécessaires pour ce TP.\n",
    "\n",
    "# import de fonctions mathématiques\n",
    "import numpy as np\n",
    "import scipy as sc\n",
    "\n",
    "# import fonction d'affichage\n",
    "import matplotlib\n",
    "import matplotlib.pyplot as plt\n",
    "\n",
    "\n",
    "# import librairies d'apprentissage automatique\n",
    "import sklearn as skl\n",
    "import sklearn.datasets as data\n",
    "import sklearn.model_selection\n",
    "import sklearn.svm\n",
    "\n",
    "#Gestion des fichiers csv\n",
    "import csv"
   ]
  },
  {
   "cell_type": "markdown",
   "metadata": {},
   "source": [
    "Afin de vous guider dans la détection d'erreur dans votre code. Nous avons introduit des blocs de tests. Il n'est pas nécessaire que vous compreniez en détail le code de ces blocs. Vous devez uniquement les exécuter et corriger les erreurs de votre code si un des tests n'est pas valide. Il est important de noter que le fait de valider le test ne garantit pas que votre code ne contient pas d'erreur. Par contre un test non validé implique nécessairement que votre code contient une erreur.\n",
    "\n",
    "- Si tout les tests sont valides, vous aurez un message écrit en vert indiquant : Ok - Tous les tests sont validés.\n",
    "- Si un des tests n'est pas valide, vous aurez un message écrit en rouge indiquant : Au moins un test n'est pas validé.\n",
    "- Pour les tests non valides, vous aurez des éléments d'information sur le test non valide. En particulier, un message écrit en jaune vous détaillera la nature du test échoué."
   ]
  },
  {
   "cell_type": "markdown",
   "metadata": {},
   "source": [
    "Voici un exemple d'utilisation. Le bloc suivant est censé contenir l'affectation de la valeur 42 à la variable `a`. Le bloc de test d'après vérifie que vous avez correctement effectué l'affectation. Exécutez les deux blocs avec des valeurs de `a` correcte et incorrecte.\n",
    "Vous devez supprimer la ligne `raise NotImplementedError()` qui indique que vous n'avez pas encore fait l'implémentation."
   ]
  },
  {
   "cell_type": "code",
   "execution_count": 2,
   "metadata": {
    "deletable": false,
    "nbgrader": {
     "cell_type": "code",
     "checksum": "b3c21025d799c61c10270c9219d3923a",
     "grade": false,
     "grade_id": "cell-88522573cd72301b",
     "locked": false,
     "schema_version": 3,
     "solution": true,
     "task": false
    }
   },
   "outputs": [
    {
     "data": {
      "text/plain": [
       "42"
      ]
     },
     "execution_count": 2,
     "metadata": {},
     "output_type": "execute_result"
    }
   ],
   "source": [
    "a = 42\n",
    "a"
   ]
  },
  {
   "cell_type": "code",
   "execution_count": 3,
   "metadata": {
    "deletable": false,
    "editable": false,
    "nbgrader": {
     "cell_type": "code",
     "checksum": "b26746dd6374745a5ab6e5d40cd72cd2",
     "grade": true,
     "grade_id": "cell-4e42165ad95b4d7d",
     "locked": true,
     "points": 0,
     "schema_version": 3,
     "solution": false,
     "task": false
    }
   },
   "outputs": [
    {
     "name": "stdout",
     "output_type": "stream",
     "text": [
      "\u001b[92m Ok - Tous les tests sont validés.\u001b[00m\n"
     ]
    }
   ],
   "source": [
    "# Ce bloc permet de valider votre code. Vous ne devez pas le modifier.  \n",
    "try:\n",
    "    np.testing.assert_equal(a,42,err_msg=\"\\033[93m {}\\033[00m\" .format('Test 1 : a n\\'est pas égale à 42. Vérifiez que a==42'))\n",
    "except Exception as e: \n",
    "    print(\"\\033[91m {}\\033[00m\" .format('KO - Au moins un test n\\'est pas validé')) \n",
    "    print('Information sur le test non valide:')\n",
    "    print(e)\n",
    "    raise e\n",
    "else:\n",
    "    print(\"\\033[92m {}\\033[00m\" .format('Ok - Tous les tests sont validés.')) "
   ]
  },
  {
   "cell_type": "markdown",
   "metadata": {},
   "source": [
    "## 1 - Récupération des données d'apprentissage et de test\n"
   ]
  },
  {
   "cell_type": "markdown",
   "metadata": {},
   "source": [
    "Nous  allons  travailler  sur  des  donnees  d’apprentissage  reparties  en  deux  classes  non  lineairement séparables. Ces données sont dans le fichier `data2D.csv` disponible sur le moodle du cours. Chaque ligne de ce fichier comporte trois valeurs : des coordonnées bidimensionnelles et la classe (0 ou 1). Pour charger les données nous procéderons ainsi :"
   ]
  },
  {
   "cell_type": "code",
   "execution_count": 4,
   "metadata": {
    "deletable": false,
    "editable": false,
    "nbgrader": {
     "cell_type": "code",
     "checksum": "5a82e0246d8f64fbe40233628ed8434b",
     "grade": false,
     "grade_id": "cell-44d38a6444601c90",
     "locked": true,
     "schema_version": 3,
     "solution": false,
     "task": false
    }
   },
   "outputs": [
    {
     "ename": "FileNotFoundError",
     "evalue": "[Errno 2] No such file or directory: 'data2D.csv'",
     "output_type": "error",
     "traceback": [
      "\u001b[0;31m---------------------------------------------------------------------------\u001b[0m",
      "\u001b[0;31mFileNotFoundError\u001b[0m                         Traceback (most recent call last)",
      "Cell \u001b[0;32mIn[4], line 11\u001b[0m\n\u001b[1;32m      8\u001b[0m         data\u001b[38;5;241m.\u001b[39mappend(tmp)\n\u001b[1;32m      9\u001b[0m     \u001b[38;5;28;01mreturn\u001b[39;00m np\u001b[38;5;241m.\u001b[39marray(data[\u001b[38;5;241m0\u001b[39m])\n\u001b[0;32m---> 11\u001b[0m data \u001b[38;5;241m=\u001b[39m \u001b[43mlireCSV\u001b[49m\u001b[43m(\u001b[49m\u001b[38;5;124;43m'\u001b[39;49m\u001b[38;5;124;43mdata2D.csv\u001b[39;49m\u001b[38;5;124;43m'\u001b[39;49m\u001b[43m)\u001b[49m\n\u001b[1;32m     13\u001b[0m X \u001b[38;5;241m=\u001b[39m data[:,:\u001b[38;5;241m2\u001b[39m]\u001b[38;5;241m.\u001b[39mastype(np\u001b[38;5;241m.\u001b[39mfloat32)\n\u001b[1;32m     14\u001b[0m y \u001b[38;5;241m=\u001b[39m data[:,\u001b[38;5;241m2\u001b[39m]\u001b[38;5;241m.\u001b[39mastype(np\u001b[38;5;241m.\u001b[39mint)\n",
      "Cell \u001b[0;32mIn[4], line 3\u001b[0m, in \u001b[0;36mlireCSV\u001b[0;34m(fichier)\u001b[0m\n\u001b[1;32m      1\u001b[0m \u001b[38;5;28;01mdef\u001b[39;00m \u001b[38;5;21mlireCSV\u001b[39m(fichier):\n\u001b[1;32m      2\u001b[0m     data \u001b[38;5;241m=\u001b[39m []\n\u001b[0;32m----> 3\u001b[0m     \u001b[38;5;28;01mwith\u001b[39;00m \u001b[38;5;28;43mopen\u001b[39;49m\u001b[43m(\u001b[49m\u001b[43mfichier\u001b[49m\u001b[43m,\u001b[49m\u001b[43m \u001b[49m\u001b[38;5;124;43m'\u001b[39;49m\u001b[38;5;124;43mr\u001b[39;49m\u001b[38;5;124;43m'\u001b[39;49m\u001b[43m)\u001b[49m \u001b[38;5;28;01mas\u001b[39;00m csvfile:\n\u001b[1;32m      4\u001b[0m         spamreader \u001b[38;5;241m=\u001b[39m csv\u001b[38;5;241m.\u001b[39mreader(csvfile, delimiter\u001b[38;5;241m=\u001b[39m\u001b[38;5;124m'\u001b[39m\u001b[38;5;124m,\u001b[39m\u001b[38;5;124m'\u001b[39m, quotechar\u001b[38;5;241m=\u001b[39m\u001b[38;5;124m'\u001b[39m\u001b[38;5;124m|\u001b[39m\u001b[38;5;124m'\u001b[39m)\n\u001b[1;32m      5\u001b[0m         tmp \u001b[38;5;241m=\u001b[39m[]\n",
      "File \u001b[0;32m/usr/local/tp_python/lib/python3.10/site-packages/IPython/core/interactiveshell.py:282\u001b[0m, in \u001b[0;36m_modified_open\u001b[0;34m(file, *args, **kwargs)\u001b[0m\n\u001b[1;32m    275\u001b[0m \u001b[38;5;28;01mif\u001b[39;00m file \u001b[38;5;129;01min\u001b[39;00m {\u001b[38;5;241m0\u001b[39m, \u001b[38;5;241m1\u001b[39m, \u001b[38;5;241m2\u001b[39m}:\n\u001b[1;32m    276\u001b[0m     \u001b[38;5;28;01mraise\u001b[39;00m \u001b[38;5;167;01mValueError\u001b[39;00m(\n\u001b[1;32m    277\u001b[0m         \u001b[38;5;124mf\u001b[39m\u001b[38;5;124m\"\u001b[39m\u001b[38;5;124mIPython won\u001b[39m\u001b[38;5;124m'\u001b[39m\u001b[38;5;124mt let you open fd=\u001b[39m\u001b[38;5;132;01m{\u001b[39;00mfile\u001b[38;5;132;01m}\u001b[39;00m\u001b[38;5;124m by default \u001b[39m\u001b[38;5;124m\"\u001b[39m\n\u001b[1;32m    278\u001b[0m         \u001b[38;5;124m\"\u001b[39m\u001b[38;5;124mas it is likely to crash IPython. If you know what you are doing, \u001b[39m\u001b[38;5;124m\"\u001b[39m\n\u001b[1;32m    279\u001b[0m         \u001b[38;5;124m\"\u001b[39m\u001b[38;5;124myou can use builtins\u001b[39m\u001b[38;5;124m'\u001b[39m\u001b[38;5;124m open.\u001b[39m\u001b[38;5;124m\"\u001b[39m\n\u001b[1;32m    280\u001b[0m     )\n\u001b[0;32m--> 282\u001b[0m \u001b[38;5;28;01mreturn\u001b[39;00m \u001b[43mio_open\u001b[49m\u001b[43m(\u001b[49m\u001b[43mfile\u001b[49m\u001b[43m,\u001b[49m\u001b[43m \u001b[49m\u001b[38;5;241;43m*\u001b[39;49m\u001b[43margs\u001b[49m\u001b[43m,\u001b[49m\u001b[43m \u001b[49m\u001b[38;5;241;43m*\u001b[39;49m\u001b[38;5;241;43m*\u001b[39;49m\u001b[43mkwargs\u001b[49m\u001b[43m)\u001b[49m\n",
      "\u001b[0;31mFileNotFoundError\u001b[0m: [Errno 2] No such file or directory: 'data2D.csv'"
     ]
    }
   ],
   "source": [
    "def lireCSV(fichier):\n",
    "    data = []\n",
    "    with open(fichier, 'r') as csvfile:\n",
    "        spamreader = csv.reader(csvfile, delimiter=',', quotechar='|')\n",
    "        tmp =[]\n",
    "        for row in spamreader:\n",
    "            tmp.append(row)\n",
    "        data.append(tmp)\n",
    "    return np.array(data[0])\n",
    "\n",
    "data = lireCSV('data2D.csv')\n",
    "\n",
    "X = data[:,:2].astype(np.float32)\n",
    "y = data[:,2].astype(np.int)"
   ]
  },
  {
   "cell_type": "markdown",
   "metadata": {},
   "source": [
    "Affichez les données en utilisant une couleur différente pour chaque classe."
   ]
  },
  {
   "cell_type": "code",
   "execution_count": 88,
   "metadata": {
    "deletable": false,
    "nbgrader": {
     "cell_type": "code",
     "checksum": "ac0278af438823c5177b053eca9848c2",
     "grade": true,
     "grade_id": "cell-b18faf16fa79c4b8",
     "locked": false,
     "points": 1,
     "schema_version": 3,
     "solution": true,
     "task": false
    }
   },
   "outputs": [
    {
     "data": {
      "image/png": "[encoded data removed]",
      "text/plain": [
       "<Figure size 640x480 with 1 Axes>"
      ]
     },
     "metadata": {},
     "output_type": "display_data"
    }
   ],
   "source": [
    "plt.scatter(X[:,0], X[:,1], c=y)\n",
    "plt.show()"
   ]
  },
  {
   "cell_type": "markdown",
   "metadata": {},
   "source": [
    "En utilisant la fonction `train_test_split` de `scikit-learn` ( https://scikit-learn.org/stable/modules/generated/sklearn.model_selection.train_test_split.html ) découpez les données en deux ensembles (train et val).\n",
    "Vous utiliserez 40% des données pour test. Vous nommerez les données `X_train` et `X_test` et les labels `y_train` et `y_test`."
   ]
  },
  {
   "cell_type": "code",
   "execution_count": 89,
   "metadata": {
    "deletable": false,
    "nbgrader": {
     "cell_type": "code",
     "checksum": "5a0c248b3ee8cad2d42194971c8157aa",
     "grade": false,
     "grade_id": "cell-fd7b5a23f9228caa",
     "locked": false,
     "schema_version": 3,
     "solution": true,
     "task": false
    }
   },
   "outputs": [
    {
     "name": "stdout",
     "output_type": "stream",
     "text": [
      "Taille de l'ensemble d'entraînement :  60\n",
      "Taille de l'ensemble de validation :  40\n"
     ]
    }
   ],
   "source": [
    "from sklearn.model_selection import train_test_split\n",
    "\n",
    "# Diviser les données en ensembles d'entraînement et de validation\n",
    "X_train, X_test, y_train, y_test = train_test_split(X, y, test_size=0.4)\n",
    "\n",
    "# Afficher la taille des ensembles de données\n",
    "print(\"Taille de l'ensemble d'entraînement : \", len(X_train))\n",
    "print(\"Taille de l'ensemble de validation : \", len(X_test))\n"
   ]
  },
  {
   "cell_type": "code",
   "execution_count": 90,
   "metadata": {
    "deletable": false,
    "editable": false,
    "nbgrader": {
     "cell_type": "code",
     "checksum": "0f5ce5ddeef7c45439edef2be9a1a056",
     "grade": true,
     "grade_id": "cell-39aeb39d1a6412eb",
     "locked": true,
     "points": 1,
     "schema_version": 3,
     "solution": false,
     "task": false
    }
   },
   "outputs": [
    {
     "name": "stdout",
     "output_type": "stream",
     "text": [
      "\u001b[92m Ok - Tous les tests sont validés.\u001b[00m\n"
     ]
    },
    {
     "name": "stderr",
     "output_type": "stream",
     "text": [
      "/tmp/ipykernel_13571/483450079.py:6: DeprecationWarning: `np.int` is a deprecated alias for the builtin `int`. To silence this warning, use `int` by itself. Doing this will not modify any behavior and is safe. When replacing `np.int`, you may wish to use e.g. `np.int64` or `np.int32` to specify the precision. If you wish to review your current use, check the release note link for additional information.\n",
      "Deprecated in NumPy 1.20; for more details and guidance: https://numpy.org/devdocs/release/1.20.0-notes.html#deprecations\n",
      "  np.testing.assert_equal(y_train.dtype,np.int,err_msg=\"\\033[93m {}\\033[00m\" .format('Test 4 : Les labels d\\'entrainement doivent être des entiers.'))\n",
      "/tmp/ipykernel_13571/483450079.py:7: DeprecationWarning: `np.int` is a deprecated alias for the builtin `int`. To silence this warning, use `int` by itself. Doing this will not modify any behavior and is safe. When replacing `np.int`, you may wish to use e.g. `np.int64` or `np.int32` to specify the precision. If you wish to review your current use, check the release note link for additional information.\n",
      "Deprecated in NumPy 1.20; for more details and guidance: https://numpy.org/devdocs/release/1.20.0-notes.html#deprecations\n",
      "  np.testing.assert_equal(y_test.dtype,np.int,err_msg=\"\\033[93m {}\\033[00m\" .format('Test 5 : Les labels de test doivent être des entiers.'))\n"
     ]
    }
   ],
   "source": [
    "# Ce bloc permet de valider votre code. Vous ne devez pas le modifier.  \n",
    "try:\n",
    "    np.testing.assert_equal(X_train.shape[0]+X_test.shape[0],X.shape[0],err_msg=\"\\033[93m {}\\033[00m\" .format('Test 1 : Certains exemples ne sont utilisé ni dans Train ni dans Test.'))\n",
    "    np.testing.assert_equal(X_test.shape[0],X.shape[0]*.4,err_msg=\"\\033[93m {}\\033[00m\" .format('Test 2 : La proportion des exemples utilisés pour Test n\\'est pas correct.'))\n",
    "    np.testing.assert_equal(X_test.shape[1],2,err_msg=\"\\033[93m {}\\033[00m\" .format('Test 3 : Il manque des dimensions aux exemples de Test.'))\n",
    "    np.testing.assert_equal(y_train.dtype,np.int,err_msg=\"\\033[93m {}\\033[00m\" .format('Test 4 : Les labels d\\'entrainement doivent être des entiers.'))\n",
    "    np.testing.assert_equal(y_test.dtype,np.int,err_msg=\"\\033[93m {}\\033[00m\" .format('Test 5 : Les labels de test doivent être des entiers.'))\n",
    "except Exception as e: \n",
    "    print(\"\\033[91m {}\\033[00m\" .format('KO - Au moins un test n\\'est pas validé')) \n",
    "    print('Information sur le test non valide:')\n",
    "    print(e)\n",
    "    raise e\n",
    "else:\n",
    "    print(\"\\033[92m {}\\033[00m\" .format('Ok - Tous les tests sont validés.')) \n",
    "    "
   ]
  },
  {
   "cell_type": "markdown",
   "metadata": {},
   "source": [
    "Affichez sur une même figure les données d'apprentissage et de test. Vous utiliserez une couleur différente par classe et un marker différent pour train et test."
   ]
  },
  {
   "cell_type": "code",
   "execution_count": 91,
   "metadata": {
    "deletable": false,
    "nbgrader": {
     "cell_type": "code",
     "checksum": "ad7cee9a8547a08a25512be346eb02f1",
     "grade": true,
     "grade_id": "cell-3a2f7d252d7f1326",
     "locked": false,
     "points": 1,
     "schema_version": 3,
     "solution": true,
     "task": false
    }
   },
   "outputs": [
    {
     "data": {
      "image/png": "[encoded data removed]",
      "text/plain": [
       "<Figure size 640x480 with 1 Axes>"
      ]
     },
     "metadata": {},
     "output_type": "display_data"
    }
   ],
   "source": [
    "import matplotlib.pyplot as plt\n",
    "\n",
    "# Afficher les données d'apprentissage et de test\n",
    "plt.scatter(X_train[:,0], X_train[:,1], c=y_train, marker='o', label='train')\n",
    "plt.scatter(X_test[:,0], X_test[:,1], c=y_test, marker='x', label='test')\n",
    "plt.legend()\n",
    "plt.show()"
   ]
  },
  {
   "cell_type": "markdown",
   "metadata": {},
   "source": [
    "## 2 - SVM à l'aide de Scikit-learn \n"
   ]
  },
  {
   "cell_type": "markdown",
   "metadata": {},
   "source": [
    "Nous utiliseron dans cette partie les fonctions de la librairie `scikit-learn` pour l'utilisation des SVM. Les fonctions de la librairie exploitent eux même une autre librairie écrite en C appelé `libSVM`.\n",
    "\n",
    "Nous étudierons dans cette partie les différents éléments important des SVM à savoir:\n",
    "- le choix de la fonction noyau\n",
    "- le choix des paramètres associé à ce noyau (degré pour un noyau polynomail, largueur de bande pour un noyau Gausien...)\n",
    "- le choix des paramètres de régularisations.\n",
    "\n",
    "Pour plus d'information sur l'utilisation des SVM dans `scikit-learn`, vous pouvez vous référer à la documentation : https://scikit-learn.org/stable/modules/svm.html"
   ]
  },
  {
   "cell_type": "markdown",
   "metadata": {},
   "source": [
    "### 2.1 - SVM polynomial par défaut\n"
   ]
  },
  {
   "cell_type": "markdown",
   "metadata": {},
   "source": [
    "En vous basant sur la documentation ( https://scikit-learn.org/stable/modules/generated/sklearn.svm.SVC.html#sklearn.svm.SVC ), apprenez un SVM à noyau polynomial sur les données d'apprentissage que vous nommerez `clf_poly`."
   ]
  },
  {
   "cell_type": "code",
   "execution_count": 92,
   "metadata": {
    "deletable": false,
    "nbgrader": {
     "cell_type": "code",
     "checksum": "996029944ace6ebcb70d05f0baff4d1e",
     "grade": false,
     "grade_id": "cell-9d99bf9675eee9de",
     "locked": false,
     "schema_version": 3,
     "solution": true,
     "task": false
    }
   },
   "outputs": [
    {
     "data": {
      "text/html": [
       "<style>#sk-container-id-3 {color: black;background-color: white;}#sk-container-id-3 pre{padding: 0;}#sk-container-id-3 div.sk-toggleable {background-color: white;}#sk-container-id-3 label.sk-toggleable__label {cursor: pointer;display: block;width: 100%;margin-bottom: 0;padding: 0.3em;box-sizing: border-box;text-align: center;}#sk-container-id-3 label.sk-toggleable__label-arrow:before {content: \"▸\";float: left;margin-right: 0.25em;color: #696969;}#sk-container-id-3 label.sk-toggleable__label-arrow:hover:before {color: black;}#sk-container-id-3 div.sk-estimator:hover label.sk-toggleable__label-arrow:before {color: black;}#sk-container-id-3 div.sk-toggleable__content {max-height: 0;max-width: 0;overflow: hidden;text-align: left;background-color: #f0f8ff;}#sk-container-id-3 div.sk-toggleable__content pre {margin: 0.2em;color: black;border-radius: 0.25em;background-color: #f0f8ff;}#sk-container-id-3 input.sk-toggleable__control:checked~div.sk-toggleable__content {max-height: 200px;max-width: 100%;overflow: auto;}#sk-container-id-3 input.sk-toggleable__control:checked~label.sk-toggleable__label-arrow:before {content: \"▾\";}#sk-container-id-3 div.sk-estimator input.sk-toggleable__control:checked~label.sk-toggleable__label {background-color: #d4ebff;}#sk-container-id-3 div.sk-label input.sk-toggleable__control:checked~label.sk-toggleable__label {background-color: #d4ebff;}#sk-container-id-3 input.sk-hidden--visually {border: 0;clip: rect(1px 1px 1px 1px);clip: rect(1px, 1px, 1px, 1px);height: 1px;margin: -1px;overflow: hidden;padding: 0;position: absolute;width: 1px;}#sk-container-id-3 div.sk-estimator {font-family: monospace;background-color: #f0f8ff;border: 1px dotted black;border-radius: 0.25em;box-sizing: border-box;margin-bottom: 0.5em;}#sk-container-id-3 div.sk-estimator:hover {background-color: #d4ebff;}#sk-container-id-3 div.sk-parallel-item::after {content: \"\";width: 100%;border-bottom: 1px solid gray;flex-grow: 1;}#sk-container-id-3 div.sk-label:hover label.sk-toggleable__label {background-color: #d4ebff;}#sk-container-id-3 div.sk-serial::before {content: \"\";position: absolute;border-left: 1px solid gray;box-sizing: border-box;top: 0;bottom: 0;left: 50%;z-index: 0;}#sk-container-id-3 div.sk-serial {display: flex;flex-direction: column;align-items: center;background-color: white;padding-right: 0.2em;padding-left: 0.2em;position: relative;}#sk-container-id-3 div.sk-item {position: relative;z-index: 1;}#sk-container-id-3 div.sk-parallel {display: flex;align-items: stretch;justify-content: center;background-color: white;position: relative;}#sk-container-id-3 div.sk-item::before, #sk-container-id-3 div.sk-parallel-item::before {content: \"\";position: absolute;border-left: 1px solid gray;box-sizing: border-box;top: 0;bottom: 0;left: 50%;z-index: -1;}#sk-container-id-3 div.sk-parallel-item {display: flex;flex-direction: column;z-index: 1;position: relative;background-color: white;}#sk-container-id-3 div.sk-parallel-item:first-child::after {align-self: flex-end;width: 50%;}#sk-container-id-3 div.sk-parallel-item:last-child::after {align-self: flex-start;width: 50%;}#sk-container-id-3 div.sk-parallel-item:only-child::after {width: 0;}#sk-container-id-3 div.sk-dashed-wrapped {border: 1px dashed gray;margin: 0 0.4em 0.5em 0.4em;box-sizing: border-box;padding-bottom: 0.4em;background-color: white;}#sk-container-id-3 div.sk-label label {font-family: monospace;font-weight: bold;display: inline-block;line-height: 1.2em;}#sk-container-id-3 div.sk-label-container {text-align: center;}#sk-container-id-3 div.sk-container {/* jupyter's `normalize.less` sets `[hidden] { display: none; }` but bootstrap.min.css set `[hidden] { display: none !important; }` so we also need the `!important` here to be able to override the default hidden behavior on the sphinx rendered scikit-learn.org. See: https://github.com/scikit-learn/scikit-learn/issues/21755 */display: inline-block !important;position: relative;}#sk-container-id-3 div.sk-text-repr-fallback {display: none;}</style><div id=\"sk-container-id-3\" class=\"sk-top-container\"><div class=\"sk-text-repr-fallback\"><pre>SVC(kernel=&#x27;poly&#x27;)</pre><b>In a Jupyter environment, please rerun this cell to show the HTML representation or trust the notebook. <br />On GitHub, the HTML representation is unable to render, please try loading this page with nbviewer.org.</b></div><div class=\"sk-container\" hidden><div class=\"sk-item\"><div class=\"sk-estimator sk-toggleable\"><input class=\"sk-toggleable__control sk-hidden--visually\" id=\"sk-estimator-id-3\" type=\"checkbox\" checked><label for=\"sk-estimator-id-3\" class=\"sk-toggleable__label sk-toggleable__label-arrow\">SVC</label><div class=\"sk-toggleable__content\"><pre>SVC(kernel=&#x27;poly&#x27;)</pre></div></div></div></div></div>"
      ],
      "text/plain": [
       "SVC(kernel='poly')"
      ]
     },
     "execution_count": 92,
     "metadata": {},
     "output_type": "execute_result"
    }
   ],
   "source": [
    "from sklearn.svm import SVC\n",
    "\n",
    "clf_poly = SVC(kernel='poly')\n",
    "clf_poly.fit(X_train, y_train)"
   ]
  },
  {
   "cell_type": "code",
   "execution_count": 93,
   "metadata": {
    "deletable": false,
    "editable": false,
    "nbgrader": {
     "cell_type": "code",
     "checksum": "32c6ba96233774c6a1e02ea519414075",
     "grade": true,
     "grade_id": "cell-126cecae925ffdd4",
     "locked": true,
     "points": 1,
     "schema_version": 3,
     "solution": false,
     "task": false
    }
   },
   "outputs": [
    {
     "name": "stdout",
     "output_type": "stream",
     "text": [
      "\u001b[92m Ok - Tous les tests sont validés.\u001b[00m\n"
     ]
    }
   ],
   "source": [
    "\n",
    "# Ce bloc permet de valider votre code. Vous ne devez pas le modifier.  \n",
    "try:\n",
    "    np.testing.assert_equal(type(clf_poly),skl.svm._classes.SVC,err_msg=\"\\033[93m {}\\033[00m\" .format('Test 1 : Le type de clf_poly est incorrect.'))\n",
    "    try:\n",
    "        assert 'support_' in clf_poly.__dict__\n",
    "    except Exception as e:\n",
    "        raise AssertionError(\"\\033[93m {}\\033[00m\" .format('Test 2 : Vous n\\'avez pas appris clf_poly.'))\n",
    "except Exception as e: \n",
    "    print(\"\\033[91m {}\\033[00m\" .format('KO - Au moins un test n\\'est pas validé')) \n",
    "    print('Information sur le test non valide:')\n",
    "    print(e)\n",
    "    raise e\n",
    "else:\n",
    "    print(\"\\033[92m {}\\033[00m\" .format('Ok - Tous les tests sont validés.')) "
   ]
  },
  {
   "cell_type": "markdown",
   "metadata": {},
   "source": [
    "En utilisant un code similaire au TP2, affichez avec deux couleurs différentes les zones associés à chaque classe retournée par le classifieur que vous venez d'apprendre."
   ]
  },
  {
   "cell_type": "code",
   "execution_count": 94,
   "metadata": {
    "deletable": false,
    "nbgrader": {
     "cell_type": "code",
     "checksum": "8063fe34c76ac0c8514410ad9ffba463",
     "grade": true,
     "grade_id": "cell-b54d9aae574e9f9b",
     "locked": false,
     "points": 1,
     "schema_version": 3,
     "solution": true,
     "task": false
    }
   },
   "outputs": [
    {
     "data": {
      "text/html": [
       "<style>#sk-container-id-4 {color: black;background-color: white;}#sk-container-id-4 pre{padding: 0;}#sk-container-id-4 div.sk-toggleable {background-color: white;}#sk-container-id-4 label.sk-toggleable__label {cursor: pointer;display: block;width: 100%;margin-bottom: 0;padding: 0.3em;box-sizing: border-box;text-align: center;}#sk-container-id-4 label.sk-toggleable__label-arrow:before {content: \"▸\";float: left;margin-right: 0.25em;color: #696969;}#sk-container-id-4 label.sk-toggleable__label-arrow:hover:before {color: black;}#sk-container-id-4 div.sk-estimator:hover label.sk-toggleable__label-arrow:before {color: black;}#sk-container-id-4 div.sk-toggleable__content {max-height: 0;max-width: 0;overflow: hidden;text-align: left;background-color: #f0f8ff;}#sk-container-id-4 div.sk-toggleable__content pre {margin: 0.2em;color: black;border-radius: 0.25em;background-color: #f0f8ff;}#sk-container-id-4 input.sk-toggleable__control:checked~div.sk-toggleable__content {max-height: 200px;max-width: 100%;overflow: auto;}#sk-container-id-4 input.sk-toggleable__control:checked~label.sk-toggleable__label-arrow:before {content: \"▾\";}#sk-container-id-4 div.sk-estimator input.sk-toggleable__control:checked~label.sk-toggleable__label {background-color: #d4ebff;}#sk-container-id-4 div.sk-label input.sk-toggleable__control:checked~label.sk-toggleable__label {background-color: #d4ebff;}#sk-container-id-4 input.sk-hidden--visually {border: 0;clip: rect(1px 1px 1px 1px);clip: rect(1px, 1px, 1px, 1px);height: 1px;margin: -1px;overflow: hidden;padding: 0;position: absolute;width: 1px;}#sk-container-id-4 div.sk-estimator {font-family: monospace;background-color: #f0f8ff;border: 1px dotted black;border-radius: 0.25em;box-sizing: border-box;margin-bottom: 0.5em;}#sk-container-id-4 div.sk-estimator:hover {background-color: #d4ebff;}#sk-container-id-4 div.sk-parallel-item::after {content: \"\";width: 100%;border-bottom: 1px solid gray;flex-grow: 1;}#sk-container-id-4 div.sk-label:hover label.sk-toggleable__label {background-color: #d4ebff;}#sk-container-id-4 div.sk-serial::before {content: \"\";position: absolute;border-left: 1px solid gray;box-sizing: border-box;top: 0;bottom: 0;left: 50%;z-index: 0;}#sk-container-id-4 div.sk-serial {display: flex;flex-direction: column;align-items: center;background-color: white;padding-right: 0.2em;padding-left: 0.2em;position: relative;}#sk-container-id-4 div.sk-item {position: relative;z-index: 1;}#sk-container-id-4 div.sk-parallel {display: flex;align-items: stretch;justify-content: center;background-color: white;position: relative;}#sk-container-id-4 div.sk-item::before, #sk-container-id-4 div.sk-parallel-item::before {content: \"\";position: absolute;border-left: 1px solid gray;box-sizing: border-box;top: 0;bottom: 0;left: 50%;z-index: -1;}#sk-container-id-4 div.sk-parallel-item {display: flex;flex-direction: column;z-index: 1;position: relative;background-color: white;}#sk-container-id-4 div.sk-parallel-item:first-child::after {align-self: flex-end;width: 50%;}#sk-container-id-4 div.sk-parallel-item:last-child::after {align-self: flex-start;width: 50%;}#sk-container-id-4 div.sk-parallel-item:only-child::after {width: 0;}#sk-container-id-4 div.sk-dashed-wrapped {border: 1px dashed gray;margin: 0 0.4em 0.5em 0.4em;box-sizing: border-box;padding-bottom: 0.4em;background-color: white;}#sk-container-id-4 div.sk-label label {font-family: monospace;font-weight: bold;display: inline-block;line-height: 1.2em;}#sk-container-id-4 div.sk-label-container {text-align: center;}#sk-container-id-4 div.sk-container {/* jupyter's `normalize.less` sets `[hidden] { display: none; }` but bootstrap.min.css set `[hidden] { display: none !important; }` so we also need the `!important` here to be able to override the default hidden behavior on the sphinx rendered scikit-learn.org. See: https://github.com/scikit-learn/scikit-learn/issues/21755 */display: inline-block !important;position: relative;}#sk-container-id-4 div.sk-text-repr-fallback {display: none;}</style><div id=\"sk-container-id-4\" class=\"sk-top-container\"><div class=\"sk-text-repr-fallback\"><pre>SVC(kernel=&#x27;poly&#x27;)</pre><b>In a Jupyter environment, please rerun this cell to show the HTML representation or trust the notebook. <br />On GitHub, the HTML representation is unable to render, please try loading this page with nbviewer.org.</b></div><div class=\"sk-container\" hidden><div class=\"sk-item\"><div class=\"sk-estimator sk-toggleable\"><input class=\"sk-toggleable__control sk-hidden--visually\" id=\"sk-estimator-id-4\" type=\"checkbox\" checked><label for=\"sk-estimator-id-4\" class=\"sk-toggleable__label sk-toggleable__label-arrow\">SVC</label><div class=\"sk-toggleable__content\"><pre>SVC(kernel=&#x27;poly&#x27;)</pre></div></div></div></div></div>"
      ],
      "text/plain": [
       "SVC(kernel='poly')"
      ]
     },
     "execution_count": 94,
     "metadata": {},
     "output_type": "execute_result"
    }
   ],
   "source": [
    "clf_poly = SVC(kernel='poly')\n",
    "\n",
    "clf_poly.fit(X_train, y_train)"
   ]
  },
  {
   "cell_type": "markdown",
   "metadata": {},
   "source": [
    "En utilisant la fonction `classification_report` ( https://scikit-learn.org/stable/modules/generated/sklearn.metrics.classification_report.html ) de `scikit_learn`, affichez les performances du classifieurs sur la base de test."
   ]
  },
  {
   "cell_type": "code",
   "execution_count": 95,
   "metadata": {
    "deletable": false,
    "nbgrader": {
     "cell_type": "code",
     "checksum": "94ba275c0d6e1bf26d432906e34c00c1",
     "grade": true,
     "grade_id": "cell-718902294bec4a23",
     "locked": false,
     "points": 1,
     "schema_version": 3,
     "solution": true,
     "task": false
    }
   },
   "outputs": [
    {
     "name": "stderr",
     "output_type": "stream",
     "text": [
      "/tmp/ipykernel_13571/3929989298.py:10: UserWarning: You passed a edgecolor/edgecolors ('black') for an unfilled marker ('x').  Matplotlib is ignoring the edgecolor in favor of the facecolor.  This behavior may change in the future.\n",
      "  plt.scatter(X_test[:, 0], X_test[:, 1], c=y_test, cmap='coolwarm', marker='x', edgecolors='black')\n"
     ]
    },
    {
     "data": {
      "image/png": "[encoded data removed]",
      "text/plain": [
       "<Figure size 1000x800 with 1 Axes>"
      ]
     },
     "metadata": {},
     "output_type": "display_data"
    }
   ],
   "source": [
    "xmin, xmax = X_train[:, 0].min() - 0.1, X_train[:, 0].max() + 0.1\n",
    "ymin, ymax = X_train[:, 1].min() - 0.1, X_train[:, 1].max() + 0.1\n",
    "xx, yy = np.meshgrid(np.arange(xmin, xmax, 0.01), np.arange(ymin, ymax, 0.01))\n",
    "Z_poly = clf_poly.predict(np.c_[xx.ravel(), yy.ravel()])\n",
    "Z_poly = Z_poly.reshape(xx.shape)\n",
    "\n",
    "plt.figure(figsize=(10, 8))\n",
    "plt.contourf(xx, yy, Z_poly, alpha=0.3, cmap='coolwarm')\n",
    "plt.scatter(X_train[:, 0], X_train[:, 1], c=y_train, cmap='coolwarm', edgecolors='black')\n",
    "plt.scatter(X_test[:, 0], X_test[:, 1], c=y_test, cmap='coolwarm', marker='x', edgecolors='black')\n",
    "plt.title('SVM à noyau polynomial')\n",
    "plt.xlabel('X1')\n",
    "plt.ylabel('X2')\n",
    "plt.show()"
   ]
  },
  {
   "cell_type": "markdown",
   "metadata": {},
   "source": [
    "### 2.2 Influence du degré du polynomial pour un SVM polynomial"
   ]
  },
  {
   "cell_type": "markdown",
   "metadata": {},
   "source": [
    "Faites varier le degrée du polynôme utilisé pour la fonction noyau entre 1 et 30 (en prenant une valeur sur 3) et visualisez le changement dans la fonction apprise."
   ]
  },
  {
   "cell_type": "code",
   "execution_count": 96,
   "metadata": {
    "deletable": false,
    "nbgrader": {
     "cell_type": "code",
     "checksum": "20a69d8659e83c82f68ecee6f0deb581",
     "grade": true,
     "grade_id": "cell-895492df6f8ebec8",
     "locked": false,
     "points": 1,
     "schema_version": 3,
     "solution": true,
     "task": false
    }
   },
   "outputs": [
    {
     "name": "stderr",
     "output_type": "stream",
     "text": [
      "/tmp/ipykernel_13571/287469904.py:5: DeprecationWarning: `np.int` is a deprecated alias for the builtin `int`. To silence this warning, use `int` by itself. Doing this will not modify any behavior and is safe. When replacing `np.int`, you may wish to use e.g. `np.int64` or `np.int32` to specify the precision. If you wish to review your current use, check the release note link for additional information.\n",
      "Deprecated in NumPy 1.20; for more details and guidance: https://numpy.org/devdocs/release/1.20.0-notes.html#deprecations\n",
      "  y = data[:, 2].astype(np.int)\n"
     ]
    },
    {
     "data": {
      "image/png": "[encoded data removed]",
      "text/plain": [
       "<Figure size 640x480 with 1 Axes>"
      ]
     },
     "metadata": {},
     "output_type": "display_data"
    }
   ],
   "source": [
    "# Sélectionnez les deux colonnes qui contiennent les coordonnées des points\n",
    "X = data[:, :2].astype(np.float32)\n",
    "\n",
    "# Sélectionnez la colonne contenant les étiquettes de classe\n",
    "y = data[:, 2].astype(np.int)\n",
    "\n",
    "# Divisez les données en ensembles d'entraînement et de test\n",
    "X_train, X_test, y_train, y_test = train_test_split(X, y, test_size=0.4, random_state=42)\n",
    "\n",
    "# Créez un SVM à noyau polynomial avec un degré donné\n",
    "degree = 5\n",
    "clf_poly = skl.svm.SVC(kernel='poly', degree=degree)\n",
    "\n",
    "# Entraînez le SVM sur les données d'entraînement\n",
    "clf_poly.fit(X_train, y_train)\n",
    "\n",
    "# Tracer les données d'apprentissage et de test\n",
    "plt.scatter(X_train[:, 0], X_train[:, 1], c=y_train, cmap='bwr', marker='o')\n",
    "plt.scatter(X_test[:, 0], X_test[:, 1], c=y_test, cmap='bwr', marker='x')\n",
    "\n",
    "# Créer une grille de points qui recouvre toute la région des données\n",
    "xx, yy = np.meshgrid(np.linspace(np.min(X[:, 0]), np.max(X[:, 0]), 500),\n",
    "                     np.linspace(np.min(X[:, 1]), np.max(X[:, 1]), 500))\n",
    "\n",
    "# Calculer la prédiction pour chaque point de la grille\n",
    "Z = clf_poly.predict(np.c_[xx.ravel(), yy.ravel()])\n",
    "Z = Z.reshape(xx.shape)\n",
    "\n",
    "# Tracer la frontière\n"
   ]
  },
  {
   "cell_type": "markdown",
   "metadata": {},
   "source": [
    "### 2.3 Influence du paramètre de régularisation sur un SVM polynomial"
   ]
  },
  {
   "cell_type": "markdown",
   "metadata": {},
   "source": [
    "Apprenez des classifieurs polynomiaux de degré 2 avec un paramètre de régularisation variant de 0.001 à 100 pour chaque puissance de 10."
   ]
  },
  {
   "cell_type": "code",
   "execution_count": 97,
   "metadata": {
    "deletable": false,
    "nbgrader": {
     "cell_type": "code",
     "checksum": "2ddebba52a9829d708f1a010e5c9d1aa",
     "grade": true,
     "grade_id": "cell-1dd10dc4c35cb404",
     "locked": false,
     "points": 1,
     "schema_version": 3,
     "solution": true,
     "task": false
    }
   },
   "outputs": [],
   "source": [
    "Cs = [0.001, 0.01, 0.1, 1, 10, 100]\n",
    "\n",
    "classifiers = []\n",
    "for C in Cs:\n",
    "    clf = skl.svm.SVC(kernel='poly', degree=2, C=C)\n",
    "    clf.fit(X_train, y_train)\n",
    "    classifiers.append(clf)"
   ]
  },
  {
   "cell_type": "markdown",
   "metadata": {},
   "source": [
    "### 2.4 SVM avec d'autres noyaux"
   ]
  },
  {
   "cell_type": "markdown",
   "metadata": {},
   "source": [
    "Comparez les résultats de classification en changeant de noyau. Vous testerez notamment le noyau linéaire et le noyau gaussien."
   ]
  },
  {
   "cell_type": "code",
   "execution_count": 98,
   "metadata": {
    "deletable": false,
    "nbgrader": {
     "cell_type": "code",
     "checksum": "b79e73e64b45afe4db533d10ed55b082",
     "grade": true,
     "grade_id": "cell-0e133e42174d26af",
     "locked": false,
     "points": 1,
     "schema_version": 3,
     "solution": true,
     "task": false
    }
   },
   "outputs": [
    {
     "name": "stdout",
     "output_type": "stream",
     "text": [
      "Précision (SVM linéaire) : 0.85\n",
      "Précision (SVM gaussien) : 0.8\n"
     ]
    }
   ],
   "source": [
    "# SVM linéaire\n",
    "clf_linear = skl.svm.SVC(kernel='linear')\n",
    "clf_linear.fit(X_train, y_train)\n",
    "y_pred_linear = clf_linear.predict(X_test)\n",
    "acc_linear = skl.metrics.accuracy_score(y_test, y_pred_linear)\n",
    "\n",
    "# SVM gaussien\n",
    "clf_rbf = skl.svm.SVC(kernel='rbf')\n",
    "clf_rbf.fit(X_train, y_train)\n",
    "y_pred_rbf = clf_rbf.predict(X_test)\n",
    "acc_rbf = skl.metrics.accuracy_score(y_test, y_pred_rbf)\n",
    "\n",
    "print('Précision (SVM linéaire) :', acc_linear)\n",
    "print('Précision (SVM gaussien) :', acc_rbf)\n"
   ]
  },
  {
   "cell_type": "markdown",
   "metadata": {},
   "source": [
    "### 2.5 La validation croisée"
   ]
  },
  {
   "cell_type": "markdown",
   "metadata": {},
   "source": [
    "Le nombre de paramètres à explorer est potentiellement important et il n'est pas toujours évident de connaiter les meilleurs combinaisons à utiliser pour un problème donné. `Scikit-learrn` met à disposition plusieurs solution pour explorer les paramètres possibles et calculer les performances finales. Vous retrouverez ces information à l'adresse: https://scikit-learn.org/stable/model_selection.html .\n",
    "Nous allons dans cette partie, nous concentrer plus particulièrement sur la validation croisée: https://scikit-learn.org/stable/modules/cross_validation.html .\n",
    "Commencez par lire en détail la documentation."
   ]
  },
  {
   "cell_type": "markdown",
   "metadata": {},
   "source": [
    "À l'aide de la classe `GridSearchCV` https://scikit-learn.org/stable/modules/generated/sklearn.model_selection.GridSearchCV.html , trouvez les meilleurs paramètres parmi les configurations suivantes pour une fonction de coût de type `accuracy`:\n",
    "- Noyaux gaussiens avec gamma parmi [$10^{-1},10^{-2},10^{-3}$] et C parmi [$0.1,1,10,100$],\n",
    "- Noyaux polynomial de degré 1, 2 ou 3; décalage 0.1,1 ou 10 ;  C parmi [$0.1,1,10,100$]."
   ]
  },
  {
   "cell_type": "code",
   "execution_count": 99,
   "metadata": {
    "deletable": false,
    "nbgrader": {
     "cell_type": "code",
     "checksum": "65830b68c5324c7a3af49ba85352b67d",
     "grade": true,
     "grade_id": "cell-ece71733a01e91e1",
     "locked": false,
     "points": 1,
     "schema_version": 3,
     "solution": true,
     "task": false
    }
   },
   "outputs": [
    {
     "name": "stderr",
     "output_type": "stream",
     "text": [
      "/tmp/ipykernel_13571/2969205108.py:6: DeprecationWarning: `np.int` is a deprecated alias for the builtin `int`. To silence this warning, use `int` by itself. Doing this will not modify any behavior and is safe. When replacing `np.int`, you may wish to use e.g. `np.int64` or `np.int32` to specify the precision. If you wish to review your current use, check the release note link for additional information.\n",
      "Deprecated in NumPy 1.20; for more details and guidance: https://numpy.org/devdocs/release/1.20.0-notes.html#deprecations\n",
      "  y = data[:, 2].astype(np.int)\n"
     ]
    },
    {
     "name": "stdout",
     "output_type": "stream",
     "text": [
      "Meilleurs param: {'C': 0.1, 'coef0': 0.1, 'degree': 3, 'kernel': 'poly'}\n",
      "Meilleure précision de class: 0.9833333333333332\n"
     ]
    }
   ],
   "source": [
    "from sklearn.model_selection import GridSearchCV\n",
    "from sklearn.svm import SVC\n",
    "import numpy as np\n",
    "\n",
    "X = data[:, :2].astype(np.float32)\n",
    "y = data[:, 2].astype(np.int)\n",
    "\n",
    "X_train, X_test, y_train, y_test = train_test_split(X, y, test_size=0.4, random_state=42)\n",
    "\n",
    "param_grid = [\n",
    "    {'kernel': ['rbf'], 'gamma': [0.1, 0.01, 0.001], 'C': [0.1, 1, 10, 100]},\n",
    "    {'kernel': ['poly'], 'degree': [1, 2, 3], 'coef0': [0.1, 1, 10], 'C': [0.1, 1, 10, 100]}\n",
    "]\n",
    "\n",
    "svc = SVC(kernel='linear')\n",
    "grid_search = GridSearchCV(svc, param_grid, scoring='accuracy', cv=5)\n",
    "\n",
    "grid_search.fit(X_train, y_train)\n",
    "\n",
    "print(\"Meilleurs param:\", grid_search.best_params_)\n",
    "print(\"Meilleure précision de class:\", grid_search.best_score_)\n"
   ]
  },
  {
   "cell_type": "markdown",
   "metadata": {},
   "source": [
    " Calculez les performances de classification de la meilleur solution et  affichez la frontière de décision et les vecteurs de support de la meilleure combinaison de paramètre"
   ]
  },
  {
   "cell_type": "code",
   "execution_count": 100,
   "metadata": {
    "deletable": false,
    "nbgrader": {
     "cell_type": "code",
     "checksum": "822481422bff1b185d93a77bde8f31ef",
     "grade": true,
     "grade_id": "cell-b772a9014680a089",
     "locked": false,
     "points": 1,
     "schema_version": 3,
     "solution": true,
     "task": false
    }
   },
   "outputs": [
    {
     "name": "stdout",
     "output_type": "stream",
     "text": [
      "Accuracy: 0.85\n"
     ]
    },
    {
     "name": "stderr",
     "output_type": "stream",
     "text": [
      "/tmp/ipykernel_13571/3260409552.py:32: UserWarning: You passed a edgecolor/edgecolors ('black') for an unfilled marker ('x').  Matplotlib is ignoring the edgecolor in favor of the facecolor.  This behavior may change in the future.\n",
      "  plt.scatter(X_test[:, 0], X_test[:, 1], c=y_test, cmap='coolwarm', marker='x', edgecolors='black')\n"
     ]
    },
    {
     "data": {
      "image/png": "[encoded data removed]",
      "text/plain": [
       "<Figure size 1000x800 with 1 Axes>"
      ]
     },
     "metadata": {},
     "output_type": "display_data"
    }
   ],
   "source": [
    "from sklearn.model_selection import GridSearchCV\n",
    "from sklearn.metrics import accuracy_score\n",
    "\n",
    "# Grille de paramètres pour le noyau gaussien\n",
    "param_grid_gaussian = {'C': [0.1, 1, 10, 100], 'gamma': [0.1, 0.01, 0.001]}\n",
    "\n",
    "# Grille de paramètres pour le noyau polynomial\n",
    "param_grid_poly = {'C': [0.1, 1, 10, 100], 'degree': [1, 2, 3], 'coef0': [0.1, 1, 10]}\n",
    "\n",
    "# Création des classifieurs avec les deux types de noyaux\n",
    "svc_gaussian = SVC(kernel='rbf')\n",
    "svc_poly = SVC(kernel='poly')\n",
    "\n",
    "# Recherche des meilleurs paramètres avec la cross-validation\n",
    "grid_search_gaussian = GridSearchCV(svc_gaussian, param_grid_gaussian, cv=5)\n",
    "grid_search_gaussian.fit(X_train, y_train)\n",
    "\n",
    "grid_search_poly = GridSearchCV(svc_poly, param_grid_poly, cv=5)\n",
    "grid_search_poly.fit(X_train, y_train)\n",
    "\n",
    "# Meilleur modèle\n",
    "best_model = grid_search_gaussian.best_estimator_\n",
    "\n",
    "# Performance sur l'ensemble de test\n",
    "y_pred = best_model.predict(X_test)\n",
    "accuracy = accuracy_score(y_test, y_pred)\n",
    "print('Accuracy: {:.2f}'.format(accuracy))\n",
    "\n",
    "# Affichage de la frontière de décision et des vecteurs de support\n",
    "plt.figure(figsize=(10, 8))\n",
    "plt.scatter(X_train[:, 0], X_train[:, 1], c=y_train, cmap='coolwarm', edgecolors='black')\n",
    "plt.scatter(X_test[:, 0], X_test[:, 1], c=y_test, cmap='coolwarm', marker='x', edgecolors='black')\n",
    "\n",
    "xmin, xmax = X_train[:, 0].min() - 0.1, X_train[:, 0].max() + 0.1\n",
    "ymin, ymax = X_train[:, 1].min() - 0.1, X_train[:, 1].max() + 0.1\n",
    "xx, yy = np.meshgrid(np.arange(xmin, xmax, 0.01), np.arange(ymin, ymax, 0.01))\n",
    "\n",
    "Z = best_model.predict(np.c_[xx.ravel(), yy.ravel()])\n",
    "Z = Z.reshape(xx.shape)\n",
    "\n",
    "plt.contourf(xx, yy, Z, alpha=0.3, cmap='coolwarm')\n",
    "plt.scatter(best_model.support_vectors_[:, 0], best_model.support_vectors_[:, 1], s=100, linewidth=1, facecolors='none', edgecolors='k')\n",
    "plt.title('SVM with Gaussian Kernel')\n",
    "plt.xlabel('X1')\n",
    "plt.ylabel('X2')\n",
    "plt.show()\n"
   ]
  },
  {
   "cell_type": "markdown",
   "metadata": {},
   "source": [
    "## 3 - SVM à l'aide de l'algorithme SMO\n"
   ]
  },
  {
   "cell_type": "markdown",
   "metadata": {},
   "source": [
    "Nous allons dans cette partie faire une implémentation simplifiée de l'algorithme SMO (Sequential minimal optimization) pour la résolution d'un SVM dans le dual. L'algorithème SMO est un algorithme itératif. À chaque itération deux multiplicateurs de lagrange $\\alpha_i$ et $\\alpha_j$ sont choisis et optimisés sur la fonction de coût du SVM. Les nouvelles valeurs $\\alpha'_i$ et $\\alpha'_j$ sont choisies de manière à satisfaire $y_1\\alpha'_1+y_2\\alpha'_2= y_1\\alpha_1+y_2\\alpha_2 = cst$ afin de respecter la contrainte $\\sum_i \\alpha_i y_i = 0$."
   ]
  },
  {
   "cell_type": "markdown",
   "metadata": {},
   "source": [
    "Nous nous appuierons dans cette partie sur la solution proposée dans le livre *Machine Learning in action* de Peter Harrigton, édition Manning."
   ]
  },
  {
   "cell_type": "markdown",
   "metadata": {},
   "source": [
    "Les labels précédement utilisés sont 0 ou 1. Définissez `y_train2` et `y_test2` correspondant aux labels ramenené au valeurs -1 et 1. Dans la suite de cette partie, nous utiliserons uniquement ces nouvelles variables."
   ]
  },
  {
   "cell_type": "code",
   "execution_count": 101,
   "metadata": {
    "deletable": false,
    "nbgrader": {
     "cell_type": "code",
     "checksum": "68fb07656f41e90f9458cdae80813418",
     "grade": false,
     "grade_id": "cell-1e01650238050014",
     "locked": false,
     "schema_version": 3,
     "solution": true,
     "task": false
    }
   },
   "outputs": [],
   "source": [
    "# Ensemble de tous les labels entre -1 et 1:\n",
    "y2 = y*2-1\n",
    "y_train2 = y_train*2-1\n",
    "y_test2 = y_test*2-1"
   ]
  },
  {
   "cell_type": "code",
   "execution_count": 102,
   "metadata": {
    "deletable": false,
    "editable": false,
    "nbgrader": {
     "cell_type": "code",
     "checksum": "411d819b46b6b4753cb8ccd3e8b57f84",
     "grade": true,
     "grade_id": "cell-ac676d6093fef145",
     "locked": true,
     "points": 1,
     "schema_version": 3,
     "solution": false,
     "task": false
    }
   },
   "outputs": [
    {
     "name": "stdout",
     "output_type": "stream",
     "text": [
      "\u001b[92m Ok - Tous les tests sont validés.\u001b[00m\n"
     ]
    },
    {
     "name": "stderr",
     "output_type": "stream",
     "text": [
      "/tmp/ipykernel_13571/3118631069.py:5: DeprecationWarning: `np.int` is a deprecated alias for the builtin `int`. To silence this warning, use `int` by itself. Doing this will not modify any behavior and is safe. When replacing `np.int`, you may wish to use e.g. `np.int64` or `np.int32` to specify the precision. If you wish to review your current use, check the release note link for additional information.\n",
      "Deprecated in NumPy 1.20; for more details and guidance: https://numpy.org/devdocs/release/1.20.0-notes.html#deprecations\n",
      "  np.testing.assert_equal(y_train2.dtype,np.int,err_msg=\"\\033[93m {}\\033[00m\" .format('Test 3 : Le type des valeurs dans y_train2 est incorrect.'))\n",
      "/tmp/ipykernel_13571/3118631069.py:6: DeprecationWarning: `np.int` is a deprecated alias for the builtin `int`. To silence this warning, use `int` by itself. Doing this will not modify any behavior and is safe. When replacing `np.int`, you may wish to use e.g. `np.int64` or `np.int32` to specify the precision. If you wish to review your current use, check the release note link for additional information.\n",
      "Deprecated in NumPy 1.20; for more details and guidance: https://numpy.org/devdocs/release/1.20.0-notes.html#deprecations\n",
      "  np.testing.assert_equal(y_test2.dtype,np.int,err_msg=\"\\033[93m {}\\033[00m\" .format('Test 4 : Le type des valeurs dans y_test2 est incorrect.'))\n"
     ]
    }
   ],
   "source": [
    "# Ce bloc permet de valider votre code. Vous ne devez pas le modifier.  \n",
    "try:\n",
    "    np.testing.assert_equal(len(y_train2),60,err_msg=\"\\033[93m {}\\033[00m\" .format('Test 1 : Le nombre de valeurs dans y_train2 est incorrect.'))\n",
    "    np.testing.assert_equal(len(y_test2),40,err_msg=\"\\033[93m {}\\033[00m\" .format('Test 2 : Le nombre de valeurs dans y_test2 est incorrect.'))\n",
    "    np.testing.assert_equal(y_train2.dtype,np.int,err_msg=\"\\033[93m {}\\033[00m\" .format('Test 3 : Le type des valeurs dans y_train2 est incorrect.'))\n",
    "    np.testing.assert_equal(y_test2.dtype,np.int,err_msg=\"\\033[93m {}\\033[00m\" .format('Test 4 : Le type des valeurs dans y_test2 est incorrect.'))\n",
    "    np.testing.assert_equal(np.min(y_train2),-1,err_msg=\"\\033[93m {}\\033[00m\" .format('Test 5 : Les valeurs minimal de y_train2 doivent être -1.'))\n",
    "    np.testing.assert_equal(np.min(y_test2 ),-1,err_msg=\"\\033[93m {}\\033[00m\" .format('Test 6 : Les valeurs minimal de y_test2 doivent être -1.'))\n",
    "    np.testing.assert_equal(np.max(y_train2),1,err_msg=\"\\033[93m {}\\033[00m\" .format('Test 7 : Les valeurs maximal de y_train2 doivent être 1.'))\n",
    "    np.testing.assert_equal(np.max(y_test2 ),1,err_msg=\"\\033[93m {}\\033[00m\" .format('Test 8 : Les valeurs maximal de y_test2 doivent être 1.'))\n",
    "    np.testing.assert_equal(2*y_train-y_train2,np.ones(y_train2.shape),err_msg=\"\\033[93m {}\\033[00m\" .format('Test 9 : Certaines valeurs de y_train2 sont fausses.'))\n",
    "except Exception as e: \n",
    "    print(\"\\033[91m {}\\033[00m\" .format('KO - Au moins un test n\\'est pas validé')) \n",
    "    print('Information sur le test non valide:')\n",
    "    print(e)\n",
    "    raise e\n",
    "else:\n",
    "    print(\"\\033[92m {}\\033[00m\" .format('Ok - Tous les tests sont validés.')) "
   ]
  },
  {
   "cell_type": "markdown",
   "metadata": {},
   "source": [
    "Écrivez une fonction qui tire un entier entre 0 et n (non compris) sauf le nombre j. Pour faire cela vous tirez un entier entre 0 et n-1 et y ajouter +1 si le nombre tiré est supérieur ou égale à j. Vous pouvez utiliser un `if` pour cette question."
   ]
  },
  {
   "cell_type": "code",
   "execution_count": 103,
   "metadata": {
    "deletable": false,
    "nbgrader": {
     "cell_type": "code",
     "checksum": "64611c726fb38a7eed5db3141e5630b3",
     "grade": false,
     "grade_id": "cell-87eca405235f95c4",
     "locked": false,
     "schema_version": 3,
     "solution": true,
     "task": false
    }
   },
   "outputs": [],
   "source": [
    "import random\n",
    "\n",
    "def tirage_without(n, j):\n",
    "    r = random.randint(0, n - 2)\n",
    "    if r >= j:\n",
    "        r += 1\n",
    "    return r"
   ]
  },
  {
   "cell_type": "code",
   "execution_count": 104,
   "metadata": {
    "deletable": false,
    "editable": false,
    "nbgrader": {
     "cell_type": "code",
     "checksum": "381858a92ca3e37c10260d797e9ede7e",
     "grade": true,
     "grade_id": "cell-a03cc42754191f8b",
     "locked": true,
     "points": 1,
     "schema_version": 3,
     "solution": false,
     "task": false
    }
   },
   "outputs": [
    {
     "name": "stdout",
     "output_type": "stream",
     "text": [
      "\u001b[92m Ok - Tous les tests sont validés.\u001b[00m\n"
     ]
    },
    {
     "name": "stderr",
     "output_type": "stream",
     "text": [
      "/tmp/ipykernel_13571/114413934.py:4: DeprecationWarning: `np.int` is a deprecated alias for the builtin `int`. To silence this warning, use `int` by itself. Doing this will not modify any behavior and is safe. When replacing `np.int`, you may wish to use e.g. `np.int64` or `np.int32` to specify the precision. If you wish to review your current use, check the release note link for additional information.\n",
      "Deprecated in NumPy 1.20; for more details and guidance: https://numpy.org/devdocs/release/1.20.0-notes.html#deprecations\n",
      "  np.testing.assert_equal(type(tirage_without(10,4)),np.int,\n"
     ]
    }
   ],
   "source": [
    "# Ce bloc permet de valider votre code. Vous ne devez pas le modifier.  \n",
    "try:\n",
    "    for i in range(1000):\n",
    "        np.testing.assert_equal(type(tirage_without(10,4)),np.int,\n",
    "                                err_msg=\"\\033[93m {}\\033[00m\" .format('Test 1 : Les valeurs de tirage_without doivent être entière.')\n",
    "                               )\n",
    "        np.testing.assert_array_less(tirage_without(10,4),10,\n",
    "                                err_msg=\"\\033[93m {}\\033[00m\" .format('Test 2 : Les valeurs de tirage_without doivent être entre 0 et n.')\n",
    "                               )\n",
    "        np.testing.assert_array_less(-1,tirage_without(10,4),\n",
    "                                err_msg=\"\\033[93m {}\\033[00m\" .format('Test 3 : Les valeurs de tirage_without doivent être entre 0 et n.')\n",
    "                               )\n",
    "        np.testing.assert_array_less(0.1,np.abs(tirage_without(10,4)-4),\n",
    "                                err_msg=\"\\033[93m {}\\033[00m\" .format('Test 4 : Les valeurs de tirage_without ne doivent pas contenir j.')\n",
    "                               )\n",
    "except Exception as e: \n",
    "    print(\"\\033[91m {}\\033[00m\" .format('KO - Au moins un test n\\'est pas validé')) \n",
    "    print('Information sur le test non valide:')\n",
    "    print(e)\n",
    "    raise e\n",
    "else:\n",
    "    print(\"\\033[92m {}\\033[00m\" .format('Ok - Tous les tests sont validés.')) "
   ]
  },
  {
   "cell_type": "markdown",
   "metadata": {},
   "source": [
    "Définissez une fonction `f` qui évalue un classifieur SVM avec sa forme dual. Pour rappel: $f(x) = \\sum_i \\alpha_i y_i \\langle x,x_i\\rangle$+b."
   ]
  },
  {
   "cell_type": "code",
   "execution_count": 105,
   "metadata": {
    "deletable": false,
    "nbgrader": {
     "cell_type": "code",
     "checksum": "20f2da69b757631f53caf3bce420d25b",
     "grade": false,
     "grade_id": "cell-7d2a7d324a784c5a",
     "locked": false,
     "schema_version": 3,
     "solution": true,
     "task": false
    }
   },
   "outputs": [],
   "source": [
    "def f(x, v_supports, y_supports, alphas, b):\n",
    "    '''\n",
    "    Calcul le résultat d'un classifieur SVM pour des exemples.\n",
    "    :param x: exemple(s) que l'on souhaite évaluer. Chaque ligne correspond à un exemple. Dans le cas où il n'y a qu'un exemple, les dimensions sont (1,dimension du descripteur).\n",
    "    :param v_supports: exemples de la base d'apprentissage ou vecteurs supports appris\n",
    "    :param y_supports: labels des exemples d'apprentissage ou des vecteurs supports sélectionnés\n",
    "    :param alphas: poids des vecteurs supports, les valeurs peuvent être nulles si toute la base d'apprentissage est donnée.\n",
    "    :param b: paramètre de biais\n",
    "    :return: le résultat de classification pour les exemples de x. f(x) = \\sum alpha_i y_i <x_i,y> + b\n",
    "    '''\n",
    "    return np.dot(alphas * y_supports, np.dot(v_supports, x.T)) + b\n"
   ]
  },
  {
   "cell_type": "code",
   "execution_count": 106,
   "metadata": {
    "deletable": false,
    "editable": false,
    "nbgrader": {
     "cell_type": "code",
     "checksum": "4bc2b0e5c964acb6528fa1757d1c0363",
     "grade": true,
     "grade_id": "cell-f5c62afc014a458c",
     "locked": true,
     "points": 1,
     "schema_version": 3,
     "solution": false,
     "task": false
    }
   },
   "outputs": [
    {
     "name": "stdout",
     "output_type": "stream",
     "text": [
      "\u001b[92m Ok - Tous les tests sont validés.\u001b[00m\n"
     ]
    }
   ],
   "source": [
    "# Ce bloc permet de valider votre code. Vous ne devez pas le modifier.  \n",
    "try:\n",
    "    svm = skl.svm.SVC(kernel='linear')\n",
    "    svm.fit(X_train,y_train)\n",
    "    np.testing.assert_almost_equal(f(X_test[None,12],svm.support_vectors_,y_train2[svm.support_],np.abs(svm.dual_coef_.squeeze()),svm.intercept_),\n",
    "                            svm.decision_function(X_test[None,12]),\n",
    "                            err_msg=\"\\033[93m {}\\033[00m\" .format('Test 2 : Test de f sur l\\'exemple 12 de test incorrect.')\n",
    "                           )\n",
    "    np.testing.assert_almost_equal(f(X_test,svm.support_vectors_,y_train2[svm.support_],np.abs(svm.dual_coef_.squeeze()),svm.intercept_),\n",
    "                            svm.decision_function(X_test),\n",
    "                            err_msg=\"\\033[93m {}\\033[00m\" .format('Test 3 : Test de f sur tout les exemples de test incorrect.')\n",
    "                           )\n",
    "except Exception as e: \n",
    "    print(\"\\033[91m {}\\033[00m\" .format('KO - Au moins un test n\\'est pas validé')) \n",
    "    print('Information sur le test non valide:')\n",
    "    print(e)\n",
    "    raise e\n",
    "else:\n",
    "    print(\"\\033[92m {}\\033[00m\" .format('Ok - Tous les tests sont validés.')) "
   ]
  },
  {
   "cell_type": "markdown",
   "metadata": {},
   "source": [
    "Soit `xi` un point de la base de données (le point d'indice `i`). Calculez l'écart entre l'évaluation de `f` pour `x` et le label attendu. Vous nommerez cette valeur `Ei`."
   ]
  },
  {
   "cell_type": "code",
   "execution_count": 107,
   "metadata": {
    "deletable": false,
    "nbgrader": {
     "cell_type": "code",
     "checksum": "b43882970c31b71efe4742e5ebac84ce",
     "grade": false,
     "grade_id": "cell-993ee994daabf67d",
     "locked": false,
     "schema_version": 3,
     "solution": true,
     "task": false
    }
   },
   "outputs": [
    {
     "name": "stdout",
     "output_type": "stream",
     "text": [
      "12124.301503716737\n"
     ]
    }
   ],
   "source": [
    "i = 0\n",
    "\n",
    "xi = X[i]\n",
    "v_supports = np.array([[99.8278578 , 72.36925193],\n",
    "                       [62.0730638 , 96.76882412],\n",
    "                       [50.53478829, 48.85581153],\n",
    "                       [34.21206098, 44.2095286 ],\n",
    "                       [75.39561147, 85.75993667]])\n",
    "y_supports = np.array([1, 1, 0, 0, 1])\n",
    "alphas = np.array([0.3, 0.2, 1, 0, 0.8])\n",
    "b = 12\n",
    "\n",
    "print(f(xi, v_supports, y_supports, alphas, b))"
   ]
  },
  {
   "cell_type": "code",
   "execution_count": 108,
   "metadata": {
    "deletable": false,
    "editable": false,
    "nbgrader": {
     "cell_type": "code",
     "checksum": "07f66c7d409040178dba152b63a8edf6",
     "grade": true,
     "grade_id": "cell-32d285f374a3f2c3",
     "locked": true,
     "points": 1,
     "schema_version": 3,
     "solution": false,
     "task": false
    }
   },
   "outputs": [
    {
     "name": "stdout",
     "output_type": "stream",
     "text": [
      "\u001b[91m KO - Au moins un test n'est pas validé\u001b[00m\n",
      "Information sur le test non valide:\n",
      "\n",
      "Arrays are not almost equal to 7 decimals\n",
      "\u001b[93m Test 1: valeur de Ei fausse.\u001b[00m\n",
      " ACTUAL: 12123.301503716737\n",
      " DESIRED: 12125.3009706\n"
     ]
    },
    {
     "ename": "AssertionError",
     "evalue": "\nArrays are not almost equal to 7 decimals\n\u001b[93m Test 1: valeur de Ei fausse.\u001b[00m\n ACTUAL: 12123.301503716737\n DESIRED: 12125.3009706",
     "output_type": "error",
     "traceback": [
      "\u001b[0;31m---------------------------------------------------------------------------\u001b[0m",
      "\u001b[0;31mAssertionError\u001b[0m                            Traceback (most recent call last)",
      "Cell \u001b[0;32mIn [108], line 10\u001b[0m\n\u001b[1;32m      8\u001b[0m     \u001b[38;5;28mprint\u001b[39m(\u001b[38;5;124m'\u001b[39m\u001b[38;5;124mInformation sur le test non valide:\u001b[39m\u001b[38;5;124m'\u001b[39m)\n\u001b[1;32m      9\u001b[0m     \u001b[38;5;28mprint\u001b[39m(e)\n\u001b[0;32m---> 10\u001b[0m     \u001b[38;5;28;01mraise\u001b[39;00m e\n\u001b[1;32m     11\u001b[0m \u001b[38;5;28;01melse\u001b[39;00m:\n\u001b[1;32m     12\u001b[0m     \u001b[38;5;28mprint\u001b[39m(\u001b[38;5;124m\"\u001b[39m\u001b[38;5;130;01m\\033\u001b[39;00m\u001b[38;5;124m[92m \u001b[39m\u001b[38;5;132;01m{}\u001b[39;00m\u001b[38;5;130;01m\\033\u001b[39;00m\u001b[38;5;124m[00m\u001b[39m\u001b[38;5;124m\"\u001b[39m \u001b[38;5;241m.\u001b[39mformat(\u001b[38;5;124m'\u001b[39m\u001b[38;5;124mOk - Tous les tests sont validés.\u001b[39m\u001b[38;5;124m'\u001b[39m))\n",
      "Cell \u001b[0;32mIn [108], line 3\u001b[0m\n\u001b[1;32m      1\u001b[0m \u001b[38;5;66;03m# Ce bloc permet de valider votre code. Vous ne devez pas le modifier.  \u001b[39;00m\n\u001b[1;32m      2\u001b[0m \u001b[38;5;28;01mtry\u001b[39;00m:\n\u001b[0;32m----> 3\u001b[0m     \u001b[43mnp\u001b[49m\u001b[38;5;241;43m.\u001b[39;49m\u001b[43mtesting\u001b[49m\u001b[38;5;241;43m.\u001b[39;49m\u001b[43massert_almost_equal\u001b[49m\u001b[43m(\u001b[49m\u001b[43mEi\u001b[49m\u001b[43m,\u001b[49m\u001b[38;5;241;43m12125.3009706\u001b[39;49m\u001b[43m,\u001b[49m\n\u001b[1;32m      4\u001b[0m \u001b[43m                            \u001b[49m\u001b[43merr_msg\u001b[49m\u001b[38;5;241;43m=\u001b[39;49m\u001b[38;5;124;43m\"\u001b[39;49m\u001b[38;5;130;43;01m\\033\u001b[39;49;00m\u001b[38;5;124;43m[93m \u001b[39;49m\u001b[38;5;132;43;01m{}\u001b[39;49;00m\u001b[38;5;130;43;01m\\033\u001b[39;49;00m\u001b[38;5;124;43m[00m\u001b[39;49m\u001b[38;5;124;43m\"\u001b[39;49m\u001b[43m \u001b[49m\u001b[38;5;241;43m.\u001b[39;49m\u001b[43mformat\u001b[49m\u001b[43m(\u001b[49m\u001b[38;5;124;43m'\u001b[39;49m\u001b[38;5;124;43mTest 1: valeur de Ei fausse.\u001b[39;49m\u001b[38;5;124;43m'\u001b[39;49m\u001b[43m)\u001b[49m\n\u001b[1;32m      5\u001b[0m \u001b[43m                           \u001b[49m\u001b[43m)\u001b[49m\n\u001b[1;32m      6\u001b[0m \u001b[38;5;28;01mexcept\u001b[39;00m \u001b[38;5;167;01mException\u001b[39;00m \u001b[38;5;28;01mas\u001b[39;00m e: \n\u001b[1;32m      7\u001b[0m     \u001b[38;5;28mprint\u001b[39m(\u001b[38;5;124m\"\u001b[39m\u001b[38;5;130;01m\\033\u001b[39;00m\u001b[38;5;124m[91m \u001b[39m\u001b[38;5;132;01m{}\u001b[39;00m\u001b[38;5;130;01m\\033\u001b[39;00m\u001b[38;5;124m[00m\u001b[39m\u001b[38;5;124m\"\u001b[39m \u001b[38;5;241m.\u001b[39mformat(\u001b[38;5;124m'\u001b[39m\u001b[38;5;124mKO - Au moins un test n\u001b[39m\u001b[38;5;130;01m\\'\u001b[39;00m\u001b[38;5;124mest pas validé\u001b[39m\u001b[38;5;124m'\u001b[39m)) \n",
      "File \u001b[0;32m~/.local/lib/python3.8/site-packages/numpy/testing/_private/utils.py:599\u001b[0m, in \u001b[0;36massert_almost_equal\u001b[0;34m(actual, desired, decimal, err_msg, verbose)\u001b[0m\n\u001b[1;32m    597\u001b[0m     \u001b[38;5;28;01mpass\u001b[39;00m\n\u001b[1;32m    598\u001b[0m \u001b[38;5;28;01mif\u001b[39;00m \u001b[38;5;28mabs\u001b[39m(desired \u001b[38;5;241m-\u001b[39m actual) \u001b[38;5;241m>\u001b[39m\u001b[38;5;241m=\u001b[39m \u001b[38;5;241m1.5\u001b[39m \u001b[38;5;241m*\u001b[39m \u001b[38;5;241m10.0\u001b[39m\u001b[38;5;241m*\u001b[39m\u001b[38;5;241m*\u001b[39m(\u001b[38;5;241m-\u001b[39mdecimal):\n\u001b[0;32m--> 599\u001b[0m     \u001b[38;5;28;01mraise\u001b[39;00m \u001b[38;5;167;01mAssertionError\u001b[39;00m(_build_err_msg())\n",
      "\u001b[0;31mAssertionError\u001b[0m: \nArrays are not almost equal to 7 decimals\n\u001b[93m Test 1: valeur de Ei fausse.\u001b[00m\n ACTUAL: 12123.301503716737\n DESIRED: 12125.3009706"
     ]
    }
   ],
   "source": [
    "# Ce bloc permet de valider votre code. Vous ne devez pas le modifier.  \n",
    "try:\n",
    "    np.testing.assert_almost_equal(Ei,12125.3009706,\n",
    "                            err_msg=\"\\033[93m {}\\033[00m\" .format('Test 1: valeur de Ei fausse.')\n",
    "                           )\n",
    "except Exception as e: \n",
    "    print(\"\\033[91m {}\\033[00m\" .format('KO - Au moins un test n\\'est pas validé')) \n",
    "    print('Information sur le test non valide:')\n",
    "    print(e)\n",
    "    raise e\n",
    "else:\n",
    "    print(\"\\033[92m {}\\033[00m\" .format('Ok - Tous les tests sont validés.')) "
   ]
  },
  {
   "cell_type": "markdown",
   "metadata": {},
   "source": [
    "Faites de même avec le `xj`. Calculez l'erreur `Ej`."
   ]
  },
  {
   "cell_type": "code",
   "execution_count": null,
   "metadata": {
    "deletable": false,
    "nbgrader": {
     "cell_type": "code",
     "checksum": "b78c7fe8faf9e6fd57476ae553c53b73",
     "grade": false,
     "grade_id": "cell-89dc2a54023d4082",
     "locked": false,
     "schema_version": 3,
     "solution": true,
     "task": false
    }
   },
   "outputs": [],
   "source": [
    "j = 2\n",
    "xj = X[j]\n",
    "\n",
    "\n",
    "from sklearn.metrics.pairwise import linear_kernel\n",
    "\n",
    "yi = y_train[i]\n",
    "K = linear_kernel(xi.reshape(1,-1), v_supports)\n",
    "Ei = f(xi,v_supports, y_supports, alphas, b) - yi\n",
    "Ej = f(xj,v_supports, y_supports, alphas, b) - y_train[j]\n"
   ]
  },
  {
   "cell_type": "code",
   "execution_count": null,
   "metadata": {
    "deletable": false,
    "editable": false,
    "nbgrader": {
     "cell_type": "code",
     "checksum": "90b459771a2a211801f8c2b84572f10d",
     "grade": true,
     "grade_id": "cell-ceeaf8c4729a7da0",
     "locked": true,
     "points": 1,
     "schema_version": 3,
     "solution": false,
     "task": false
    }
   },
   "outputs": [],
   "source": [
    "# Ce bloc permet de valider votre code. Vous ne devez pas le modifier.  \n",
    "try:\n",
    "    np.testing.assert_almost_equal(Ej,11689.158114,\n",
    "                            err_msg=\"\\033[93m {}\\033[00m\" .format('Test 1: valeur de Ej fausse.')\n",
    "                           )\n",
    "except Exception as e: \n",
    "    print(\"\\033[91m {}\\033[00m\" .format('KO - Au moins un test n\\'est pas validé')) \n",
    "    print('Information sur le test non valide:')\n",
    "    print(e)\n",
    "    raise e\n",
    "else:\n",
    "    print(\"\\033[92m {}\\033[00m\" .format('Ok - Tous les tests sont validés.')) "
   ]
  },
  {
   "cell_type": "markdown",
   "metadata": {},
   "source": [
    "Calculez `eta` tel que $\\eta = \\|x_i-x_j\\|^2 = -2\\langle x_i,x_j \\rangle + \\|x_i\\|^2 + \\|x_j\\|^2$."
   ]
  },
  {
   "cell_type": "code",
   "execution_count": null,
   "metadata": {
    "deletable": false,
    "nbgrader": {
     "cell_type": "code",
     "checksum": "845ed66f32b94b75f43acc9ae487a671",
     "grade": false,
     "grade_id": "cell-a606542f7c7652b4",
     "locked": false,
     "schema_version": 3,
     "solution": true,
     "task": false
    }
   },
   "outputs": [],
   "source": [
    "xi = X[i]\n",
    "xj = X[j]\n",
    "eta = linear_kernel(xi.reshape(1, -1), xj.reshape(1, -1))[0, 0]\n"
   ]
  },
  {
   "cell_type": "code",
   "execution_count": null,
   "metadata": {
    "deletable": false,
    "editable": false,
    "nbgrader": {
     "cell_type": "code",
     "checksum": "8a182e0f944834ae77802a932fb20d58",
     "grade": true,
     "grade_id": "cell-414b535965c1471e",
     "locked": true,
     "points": 1,
     "schema_version": 3,
     "solution": false,
     "task": false
    }
   },
   "outputs": [],
   "source": [
    "# Ce bloc permet de valider votre code. Vous ne devez pas le modifier.  \n",
    "try:\n",
    "    np.testing.assert_almost_equal(eta,27.737514826863844,\n",
    "                            err_msg=\"\\033[93m {}\\033[00m\" .format('Test 1: valeur de eta fausse.')\n",
    "                           )\n",
    "except Exception as e: \n",
    "    print(\"\\033[91m {}\\033[00m\" .format('KO - Au moins un test n\\'est pas validé')) \n",
    "    print('Information sur le test non valide:')\n",
    "    print(e)\n",
    "    raise e\n",
    "else:\n",
    "    print(\"\\033[92m {}\\033[00m\" .format('Ok - Tous les tests sont validés.')) "
   ]
  },
  {
   "cell_type": "markdown",
   "metadata": {},
   "source": [
    "Calculez la nouvelle valeur de $\\alpha_j$. Cette valeur correspond à un pas de descente de gradient : $\\alpha_j : = \\alpha_j + \\dfrac{y_j (E_i-E_j)}{\\eta}$. Vous placerez le résultat dans la variable `alpha_j_new`."
   ]
  },
  {
   "cell_type": "code",
   "execution_count": 109,
   "metadata": {
    "deletable": false,
    "nbgrader": {
     "cell_type": "code",
     "checksum": "e44cd46e98319f8f6d2aac541f4ae876",
     "grade": false,
     "grade_id": "cell-e1be0935e752fcd4",
     "locked": false,
     "schema_version": 3,
     "solution": true,
     "task": false
    }
   },
   "outputs": [
    {
     "ename": "NotImplementedError",
     "evalue": "",
     "output_type": "error",
     "traceback": [
      "\u001b[0;31m---------------------------------------------------------------------------\u001b[0m",
      "\u001b[0;31mNotImplementedError\u001b[0m                       Traceback (most recent call last)",
      "Cell \u001b[0;32mIn [109], line 2\u001b[0m\n\u001b[1;32m      1\u001b[0m \u001b[38;5;66;03m# YOUR CODE HERE\u001b[39;00m\n\u001b[0;32m----> 2\u001b[0m \u001b[38;5;28;01mraise\u001b[39;00m \u001b[38;5;167;01mNotImplementedError\u001b[39;00m()\n",
      "\u001b[0;31mNotImplementedError\u001b[0m: "
     ]
    }
   ],
   "source": [
    "# YOUR CODE HERE\n",
    "raise NotImplementedError()"
   ]
  },
  {
   "cell_type": "code",
   "execution_count": 83,
   "metadata": {
    "deletable": false,
    "editable": false,
    "nbgrader": {
     "cell_type": "code",
     "checksum": "f9172deae4c847b5a7d8b1f840975104",
     "grade": true,
     "grade_id": "cell-59e006dcdc887ec6",
     "locked": true,
     "points": 1,
     "schema_version": 3,
     "solution": false,
     "task": false
    }
   },
   "outputs": [
    {
     "name": "stdout",
     "output_type": "stream",
     "text": [
      "\u001b[91m KO - Au moins un test n'est pas validé\u001b[00m\n",
      "Information sur le test non valide:\n",
      "name 'alpha_j_new' is not defined\n"
     ]
    },
    {
     "ename": "NameError",
     "evalue": "name 'alpha_j_new' is not defined",
     "output_type": "error",
     "traceback": [
      "\u001b[0;31m---------------------------------------------------------------------------\u001b[0m",
      "\u001b[0;31mNameError\u001b[0m                                 Traceback (most recent call last)",
      "Cell \u001b[0;32mIn [83], line 10\u001b[0m\n\u001b[1;32m      8\u001b[0m     \u001b[38;5;28mprint\u001b[39m(\u001b[38;5;124m'\u001b[39m\u001b[38;5;124mInformation sur le test non valide:\u001b[39m\u001b[38;5;124m'\u001b[39m)\n\u001b[1;32m      9\u001b[0m     \u001b[38;5;28mprint\u001b[39m(e)\n\u001b[0;32m---> 10\u001b[0m     \u001b[38;5;28;01mraise\u001b[39;00m e\n\u001b[1;32m     11\u001b[0m \u001b[38;5;28;01melse\u001b[39;00m:\n\u001b[1;32m     12\u001b[0m     \u001b[38;5;28mprint\u001b[39m(\u001b[38;5;124m\"\u001b[39m\u001b[38;5;130;01m\\033\u001b[39;00m\u001b[38;5;124m[92m \u001b[39m\u001b[38;5;132;01m{}\u001b[39;00m\u001b[38;5;130;01m\\033\u001b[39;00m\u001b[38;5;124m[00m\u001b[39m\u001b[38;5;124m\"\u001b[39m \u001b[38;5;241m.\u001b[39mformat(\u001b[38;5;124m'\u001b[39m\u001b[38;5;124mOk - Tous les tests sont validés.\u001b[39m\u001b[38;5;124m'\u001b[39m))\n",
      "Cell \u001b[0;32mIn [83], line 3\u001b[0m\n\u001b[1;32m      1\u001b[0m \u001b[38;5;66;03m# Ce bloc permet de valider votre code. Vous ne devez pas le modifier.  \u001b[39;00m\n\u001b[1;32m      2\u001b[0m \u001b[38;5;28;01mtry\u001b[39;00m:\n\u001b[0;32m----> 3\u001b[0m     np\u001b[38;5;241m.\u001b[39mtesting\u001b[38;5;241m.\u001b[39massert_almost_equal(\u001b[43malpha_j_new\u001b[49m,\u001b[38;5;241m-\u001b[39m\u001b[38;5;241m14.7239341\u001b[39m,\n\u001b[1;32m      4\u001b[0m                             err_msg\u001b[38;5;241m=\u001b[39m\u001b[38;5;124m\"\u001b[39m\u001b[38;5;130;01m\\033\u001b[39;00m\u001b[38;5;124m[93m \u001b[39m\u001b[38;5;132;01m{}\u001b[39;00m\u001b[38;5;130;01m\\033\u001b[39;00m\u001b[38;5;124m[00m\u001b[39m\u001b[38;5;124m\"\u001b[39m \u001b[38;5;241m.\u001b[39mformat(\u001b[38;5;124m'\u001b[39m\u001b[38;5;124mTest 1: valeur de alpha_j_new fausse.\u001b[39m\u001b[38;5;124m'\u001b[39m)\n\u001b[1;32m      5\u001b[0m                            )\n\u001b[1;32m      6\u001b[0m \u001b[38;5;28;01mexcept\u001b[39;00m \u001b[38;5;167;01mException\u001b[39;00m \u001b[38;5;28;01mas\u001b[39;00m e: \n\u001b[1;32m      7\u001b[0m     \u001b[38;5;28mprint\u001b[39m(\u001b[38;5;124m\"\u001b[39m\u001b[38;5;130;01m\\033\u001b[39;00m\u001b[38;5;124m[91m \u001b[39m\u001b[38;5;132;01m{}\u001b[39;00m\u001b[38;5;130;01m\\033\u001b[39;00m\u001b[38;5;124m[00m\u001b[39m\u001b[38;5;124m\"\u001b[39m \u001b[38;5;241m.\u001b[39mformat(\u001b[38;5;124m'\u001b[39m\u001b[38;5;124mKO - Au moins un test n\u001b[39m\u001b[38;5;130;01m\\'\u001b[39;00m\u001b[38;5;124mest pas validé\u001b[39m\u001b[38;5;124m'\u001b[39m)) \n",
      "\u001b[0;31mNameError\u001b[0m: name 'alpha_j_new' is not defined"
     ]
    }
   ],
   "source": [
    "# Ce bloc permet de valider votre code. Vous ne devez pas le modifier.  \n",
    "try:\n",
    "    np.testing.assert_almost_equal(alpha_j_new,-14.7239341,\n",
    "                            err_msg=\"\\033[93m {}\\033[00m\" .format('Test 1: valeur de alpha_j_new fausse.')\n",
    "                           )\n",
    "except Exception as e: \n",
    "    print(\"\\033[91m {}\\033[00m\" .format('KO - Au moins un test n\\'est pas validé')) \n",
    "    print('Information sur le test non valide:')\n",
    "    print(e)\n",
    "    raise e\n",
    "else:\n",
    "    print(\"\\033[92m {}\\033[00m\" .format('Ok - Tous les tests sont validés.')) "
   ]
  },
  {
   "cell_type": "markdown",
   "metadata": {},
   "source": [
    "En utilisant la fonction `np.clip` ( https://numpy.org/doc/stable/reference/generated/numpy.clip.html ) seuillez la nouvele valeur d'$\\alpha_j$ pour avoir des valeurs entre $L$ et $H$. $\\alpha_j := \\left\\{\\begin{array}{ccc}\n",
    "H &si&H<\\alpha_j\\\\ \n",
    "\\alpha_j &si&L\\leq\\alpha_j\\leq H\\\\\n",
    "L &si&\\alpha_j<L\\\\\n",
    "\\end{array}\n",
    "\\right.$."
   ]
  },
  {
   "cell_type": "code",
   "execution_count": null,
   "metadata": {
    "deletable": false,
    "nbgrader": {
     "cell_type": "code",
     "checksum": "fa043c79444a3dd4f6d0688092ebadb5",
     "grade": false,
     "grade_id": "cell-497258049a424b7e",
     "locked": false,
     "schema_version": 3,
     "solution": true,
     "task": false
    }
   },
   "outputs": [],
   "source": [
    "L = 2\n",
    "H = 10\n",
    "\n",
    "# YOUR CODE HERE\n",
    "raise NotImplementedError()"
   ]
  },
  {
   "cell_type": "code",
   "execution_count": null,
   "metadata": {
    "deletable": false,
    "editable": false,
    "nbgrader": {
     "cell_type": "code",
     "checksum": "0abbe3e5d382b7983884ee1de398e00b",
     "grade": true,
     "grade_id": "cell-44b9f4d532429fdd",
     "locked": true,
     "points": 1,
     "schema_version": 3,
     "solution": false,
     "task": false
    }
   },
   "outputs": [],
   "source": [
    "# Ce bloc permet de valider votre code. Vous ne devez pas le modifier.  \n",
    "try:\n",
    "    np.testing.assert_array_less(L-1e-9,alpha_j_new,\n",
    "                            err_msg=\"\\033[93m {}\\033[00m\" .format('Test 1: valeur alpha_j_new doit être au moins de L.')\n",
    "                           )\n",
    "    np.testing.assert_array_less(alpha_j_new,H+1e-9,\n",
    "                            err_msg=\"\\033[93m {}\\033[00m\" .format('Test 2: valeur de alpha_j_new doit être au plus à H.')\n",
    "                           )\n",
    "except Exception as e: \n",
    "    print(\"\\033[91m {}\\033[00m\" .format('KO - Au moins un test n\\'est pas validé')) \n",
    "    print('Information sur le test non valide:')\n",
    "    print(e)\n",
    "    raise e\n",
    "else:\n",
    "    print(\"\\033[92m {}\\033[00m\" .format('Ok - Tous les tests sont validés.')) "
   ]
  },
  {
   "cell_type": "markdown",
   "metadata": {},
   "source": [
    "Calculez la nouvelle version de $\\alpha_i$ à l'aide de l'équation suivante: $\\alpha_i := \\alpha_i + y_i y_j (\\alpha_j^\\text{old}-\\alpha_j)$. La valeur de $\\alpha_i$ est choisi pour conserver l'égalité $\\sum_i \\alpha_i y_i = 0$. Vous placerez le résultat dans `alpha_i_new`."
   ]
  },
  {
   "cell_type": "code",
   "execution_count": null,
   "metadata": {
    "deletable": false,
    "nbgrader": {
     "cell_type": "code",
     "checksum": "748dcd67ed659662f70565a3857c1ce4",
     "grade": false,
     "grade_id": "cell-1ea724ba1cb7bf1c",
     "locked": false,
     "schema_version": 3,
     "solution": true,
     "task": false
    }
   },
   "outputs": [],
   "source": [
    "# YOUR CODE HERE\n",
    "raise NotImplementedError()"
   ]
  },
  {
   "cell_type": "code",
   "execution_count": null,
   "metadata": {
    "deletable": false,
    "editable": false,
    "nbgrader": {
     "cell_type": "code",
     "checksum": "a8cb406506b24c10f8652883cc4b05d9",
     "grade": true,
     "grade_id": "cell-bce24bcc7361a8f3",
     "locked": true,
     "points": 1,
     "schema_version": 3,
     "solution": false,
     "task": false
    }
   },
   "outputs": [],
   "source": [
    "# Ce bloc permet de valider votre code. Vous ne devez pas le modifier.  \n",
    "try:\n",
    "    np.testing.assert_almost_equal(alpha_i_new,-0.7,\n",
    "                            err_msg=\"\\033[93m {}\\033[00m\" .format('Test 1: valeur de alpha_i_new fausse.')\n",
    "                           )\n",
    "except Exception as e: \n",
    "    print(\"\\033[91m {}\\033[00m\" .format('KO - Au moins un test n\\'est pas validé')) \n",
    "    print('Information sur le test non valide:')\n",
    "    print(e)\n",
    "    raise e\n",
    "else:\n",
    "    print(\"\\033[92m {}\\033[00m\" .format('Ok - Tous les tests sont validés.')) "
   ]
  },
  {
   "cell_type": "markdown",
   "metadata": {},
   "source": [
    "Calculez la nouvelle valeur de $b$ (que vous mettrez dans `b_new`). En utilisant la formule suivante:\n",
    "    $b := \\left\\{\\begin{array}{ccc}\n",
    "b_1 &si&0<\\alpha_i<C\\\\ \n",
    "b_2 &si&0<\\alpha_j<C\\\\\n",
    "\\dfrac{b_1+b_2}{2} &sinon&\\\\\n",
    "\\end{array}\n",
    "\\right.$, avec $b_1 = b - E_i -y_i (\\alpha_i-\\alpha_i^\\text{old})\\|x_i\\|^2 - y_j (\\alpha_j-\\alpha_j^\\text{old})\\langle x_i,x_j\\rangle$ \n",
    "et $b_2 = b - E_j -y_j (\\alpha_j-\\alpha_j^\\text{old})\\|x_j\\|^2 - y_i (\\alpha_i-\\alpha_i^\\text{old})\\langle x_i,x_j\\rangle$.\n",
    "\n",
    "Vous pouvez utiliser un `if` pour cette question."
   ]
  },
  {
   "cell_type": "code",
   "execution_count": null,
   "metadata": {
    "deletable": false,
    "nbgrader": {
     "cell_type": "code",
     "checksum": "81ed1be4d3bb43bcf2962ef401c37951",
     "grade": false,
     "grade_id": "cell-701c07724a91a3ba",
     "locked": false,
     "schema_version": 3,
     "solution": true,
     "task": false
    }
   },
   "outputs": [],
   "source": [
    "C = 1\n",
    "# YOUR CODE HERE\n",
    "raise NotImplementedError()"
   ]
  },
  {
   "cell_type": "code",
   "execution_count": null,
   "metadata": {
    "deletable": false,
    "editable": false,
    "nbgrader": {
     "cell_type": "code",
     "checksum": "768edbe8422919b66a6c4ec86ad0eb71",
     "grade": true,
     "grade_id": "cell-4216bd76c8af51c5",
     "locked": true,
     "points": 1,
     "schema_version": 3,
     "solution": false,
     "task": false
    }
   },
   "outputs": [],
   "source": [
    "# Ce bloc permet de valider votre code. Vous ne devez pas le modifier.  \n",
    "try:\n",
    "    np.testing.assert_almost_equal(b_new,-12238.6711933,\n",
    "                            err_msg=\"\\033[93m {}\\033[00m\" .format('Test 1: valeur de b_new fausse.')\n",
    "                           )\n",
    "except Exception as e: \n",
    "    print(\"\\033[91m {}\\033[00m\" .format('KO - Au moins un test n\\'est pas validé')) \n",
    "    print('Information sur le test non valide:')\n",
    "    print(e)\n",
    "    raise e\n",
    "else:\n",
    "    print(\"\\033[92m {}\\033[00m\" .format('Ok - Tous les tests sont validés.')) "
   ]
  },
  {
   "cell_type": "markdown",
   "metadata": {},
   "source": [
    "En utilisant les questions précédentes, complétez le code suivant:"
   ]
  },
  {
   "cell_type": "code",
   "execution_count": null,
   "metadata": {
    "deletable": false,
    "nbgrader": {
     "cell_type": "code",
     "checksum": "89f28a1709896adfbcf1b2d930cd2692",
     "grade": true,
     "grade_id": "cell-989ea155c1452b65",
     "locked": false,
     "points": 2,
     "schema_version": 3,
     "solution": true,
     "task": false
    }
   },
   "outputs": [],
   "source": [
    "def smoSimple(X,y,C,tol,maxIter):\n",
    "    '''\n",
    "    :param X: X données d'apprentissage. Chaque ligne correspond à un exemple.\n",
    "    :param y: y labels des exemples d'apprentissage (-1 ou 1).\n",
    "    :param C: paramètre de régularisation\n",
    "    :param tol: tolérance sur le respect des contraintes\n",
    "    :param maxIter: nombre maximale d'itération de l'algorithme.\n",
    "    :return : retourne les poids des vecteurs suppérieurs (alphas) et le bias (b) du classifieur. Les poids sont à 0 pour les exemples d'apprentissages qui ne sont pas vecteur support.\n",
    "    '''\n",
    "    m,n = X.shape\n",
    "    # Initialisation du classifieur\n",
    "    b = 0\n",
    "    alphas = np.zeros(X.shape[0])\n",
    "    \n",
    "    for t in range(maxIter):\n",
    "        alphaPairsChanged = 0\n",
    "        for i in range(m):\n",
    "            # Évaluation de la fonction pour l'exemple i (fXi)\n",
    "            ### BEGIN SOLUTION\n",
    "            fXi = f(X[i,None,:],X,y,alphas,b)#np.sum(alphas * y * (X @ X[i,:])) + b\n",
    "            \n",
    "            # Erreur de l'exemple i (Ei)\n",
    "            # YOUR CODE HERE\n",
    "            raise NotImplementedError()\n",
    "            \n",
    "            # Si la contraintes n'est pas saturé et que |Ei|>tolerance\n",
    "            if ((y[i]*Ei<-tol) and (alphas[i]<C)) or ((y[i]*Ei>tol)and (alphas[i]>0)):\n",
    "                # Tirage aléatoire du deuxième points différent du premier et calcul de fXj et Ej.\n",
    "                # YOUR CODE HERE\n",
    "                raise NotImplementedError()\n",
    "                \n",
    "                alphaIold = alphas[i]\n",
    "                alphaJold = alphas[j]\n",
    "                \n",
    "                if y[i] != y[j]:\n",
    "                    L = max(0,alphas[j]-alphas[i])\n",
    "                    H = min(C,C+alphas[j]-alphas[i])\n",
    "                else:\n",
    "                    L = max(0,alphas[j]+alphas[i] - C)\n",
    "                    H = min(C,alphas[j]+alphas[i])\n",
    "                if L == H :\n",
    "                    continue         \n",
    "                    \n",
    "                # Calcul de Eta\n",
    "                # YOUR CODE HERE\n",
    "                raise NotImplementedError()\n",
    "                \n",
    "                if eta <= 0:\n",
    "                    continue\n",
    "\n",
    "                # Mise à jour de alpha_j. Changez directement alphas[j].\n",
    "                # YOUR CODE HERE\n",
    "                raise NotImplementedError()\n",
    "                \n",
    "                if np.abs(alphas[j]-alphaJold)<0.00001:\n",
    "                    continue\n",
    "                # Mise à jour de alpha_i. Changez directement alphas[i].\n",
    "                # YOUR CODE HERE\n",
    "                raise NotImplementedError()\n",
    "                \n",
    "                # Calcul de b\n",
    "                # YOUR CODE HERE\n",
    "                raise NotImplementedError()\n",
    "                alphaPairsChanged += 1\n",
    "\n",
    "    return alphas,b\n",
    "                \n"
   ]
  },
  {
   "cell_type": "code",
   "execution_count": null,
   "metadata": {},
   "outputs": [],
   "source": [
    "alphas,b = smoSimple(X_train,y_train*2-1,C=1e0,tol=1e-4,maxIter=1000)"
   ]
  },
  {
   "cell_type": "markdown",
   "metadata": {},
   "source": [
    "Affichez dans une figure matplotlib les points d'apprentissage ainsi que les vecteurs supports sélectionnés."
   ]
  },
  {
   "cell_type": "code",
   "execution_count": null,
   "metadata": {
    "deletable": false,
    "nbgrader": {
     "cell_type": "code",
     "checksum": "29ce96d3239cbda7ead44d046867b214",
     "grade": true,
     "grade_id": "cell-f794b4637cc49ebb",
     "locked": false,
     "points": 1,
     "schema_version": 3,
     "solution": true,
     "task": false
    },
    "tags": []
   },
   "outputs": [],
   "source": [
    "# YOUR CODE HERE\n",
    "raise NotImplementedError()"
   ]
  },
  {
   "cell_type": "code",
   "execution_count": null,
   "metadata": {},
   "outputs": [],
   "source": []
  },
  {
   "cell_type": "code",
   "execution_count": null,
   "metadata": {},
   "outputs": [],
   "source": []
  },
  {
   "cell_type": "code",
   "execution_count": null,
   "metadata": {},
   "outputs": [],
   "source": []
  },
  {
   "cell_type": "code",
   "execution_count": null,
   "metadata": {},
   "outputs": [],
   "source": []
  },
  {
   "cell_type": "code",
   "execution_count": null,
   "metadata": {},
   "outputs": [],
   "source": []
  },
  {
   "cell_type": "code",
   "execution_count": null,
   "metadata": {},
   "outputs": [],
   "source": []
  }
 ],
 "metadata": {
  "kernelspec": {
   "display_name": "Python 3 (ipykernel)",
   "language": "python",
   "name": "python3"
  },
  "language_info": {
   "codemirror_mode": {
    "name": "ipython",
    "version": 3
   },
   "file_extension": ".py",
   "mimetype": "text/x-python",
   "name": "python",
   "nbconvert_exporter": "python",
   "pygments_lexer": "ipython3",
   "version": "3.10.12"
  }
 },
 "nbformat": 4,
 "nbformat_minor": 4
}
