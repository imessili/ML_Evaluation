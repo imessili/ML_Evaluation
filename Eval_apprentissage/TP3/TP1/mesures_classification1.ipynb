{
 "cells": [
  {
   "cell_type": "markdown",
   "id": "7754f9bc",
   "metadata": {},
   "source": [
    "## Calcul des performances et des matrices de confusion avec scikit-learn\n",
    "\n",
    "* Complétez le notebook"
   ]
  },
  {
   "cell_type": "code",
   "execution_count": 1,
   "id": "455571b5",
   "metadata": {},
   "outputs": [],
   "source": [
    "import os\n",
    "import pandas as pd"
   ]
  },
  {
   "cell_type": "markdown",
   "id": "54ee6e5a",
   "metadata": {},
   "source": [
    "### Cas 1 : classification binaire : les ligands actifs ou inactifs sur CDC4\n",
    " * https://en.wikipedia.org/wiki/Cell_division_control_protein_4"
   ]
  },
  {
   "cell_type": "markdown",
   "id": "56fdaadf",
   "metadata": {},
   "source": [
    "#### Lecture des données\n",
    "* Les données sont dans le fichier CDC4.csv fourni sur ecampus\n",
    "* La partition Entraînement/Test est déjà faite sur ces données"
   ]
  },
  {
   "cell_type": "code",
   "execution_count": 4,
   "id": "ff8a6aa4",
   "metadata": {},
   "outputs": [],
   "source": [
    "def data_loading(target_directory, target_filename):\n",
    "    target_address = os.path.join(target_directory,target_filename)\n",
    "    data =  pd.read_csv(target_address, sep='\\t')\n",
    "    targets = data.iloc[:, 1]\n",
    "    descriptions = data.iloc[:, 4:]\n",
    "    training_descriptions = descriptions.loc[data['training/test set'] == 'training']\n",
    "    test_descriptions =  descriptions.loc[data['training/test set'] == 'test']\n",
    "    training_targets = targets.loc[data['training/test set'] == 'training']\n",
    "    test_targets =  targets.loc[data['training/test set'] == 'test']\n",
    "    return(training_descriptions, test_descriptions,training_targets, test_targets)"
   ]
  },
  {
   "cell_type": "code",
   "execution_count": 5,
   "id": "97a6dd8d",
   "metadata": {},
   "outputs": [],
   "source": [
    "(training_descriptions, test_descriptions,training_targets, test_targets) =\\\n",
    "data_loading(\"./DonneesCDC4\",\"CDC4.csv\")"
   ]
  },
  {
   "cell_type": "markdown",
   "id": "cc1e1188",
   "metadata": {},
   "source": [
    "##### Appréhension des données\n",
    "* Accéder à une donnée\n",
    "* Données les dimensions des trames des échantillons d'apprentissage et de test"
   ]
  },
  {
   "cell_type": "code",
   "execution_count": 6,
   "id": "59ece1eb",
   "metadata": {},
   "outputs": [
    {
     "data": {
      "text/html": [
       "<div>\n",
       "<style scoped>\n",
       "    .dataframe tbody tr th:only-of-type {\n",
       "        vertical-align: middle;\n",
       "    }\n",
       "\n",
       "    .dataframe tbody tr th {\n",
       "        vertical-align: top;\n",
       "    }\n",
       "\n",
       "    .dataframe thead th {\n",
       "        text-align: right;\n",
       "    }\n",
       "</style>\n",
       "<table border=\"1\" class=\"dataframe\">\n",
       "  <thead>\n",
       "    <tr style=\"text-align: right;\">\n",
       "      <th></th>\n",
       "      <th>MinAbsPartialCharge</th>\n",
       "      <th>NumRadicalElectrons</th>\n",
       "      <th>HeavyAtomMolWt</th>\n",
       "      <th>MaxAbsEStateIndex</th>\n",
       "      <th>MaxAbsPartialCharge</th>\n",
       "      <th>MaxEStateIndex</th>\n",
       "      <th>MinPartialCharge</th>\n",
       "      <th>ExactMolWt</th>\n",
       "      <th>MolWt</th>\n",
       "      <th>NumValenceElectrons</th>\n",
       "      <th>...</th>\n",
       "      <th>fr_sulfide</th>\n",
       "      <th>fr_sulfonamd</th>\n",
       "      <th>fr_sulfone</th>\n",
       "      <th>fr_term_acetylene</th>\n",
       "      <th>fr_tetrazole</th>\n",
       "      <th>fr_thiazole</th>\n",
       "      <th>fr_thiocyan</th>\n",
       "      <th>fr_thiophene</th>\n",
       "      <th>fr_unbrch_alkane</th>\n",
       "      <th>fr_urea</th>\n",
       "    </tr>\n",
       "  </thead>\n",
       "  <tbody>\n",
       "    <tr>\n",
       "      <th>0</th>\n",
       "      <td>0.163204</td>\n",
       "      <td>0.0</td>\n",
       "      <td>304.293</td>\n",
       "      <td>4.712992</td>\n",
       "      <td>0.364542</td>\n",
       "      <td>4.712992</td>\n",
       "      <td>-0.364542</td>\n",
       "      <td>318.093917</td>\n",
       "      <td>318.405</td>\n",
       "      <td>112.0</td>\n",
       "      <td>...</td>\n",
       "      <td>0.0</td>\n",
       "      <td>0.0</td>\n",
       "      <td>0.0</td>\n",
       "      <td>0.0</td>\n",
       "      <td>0.0</td>\n",
       "      <td>0.0</td>\n",
       "      <td>0.0</td>\n",
       "      <td>1.0</td>\n",
       "      <td>0.0</td>\n",
       "      <td>0.0</td>\n",
       "    </tr>\n",
       "    <tr>\n",
       "      <th>2</th>\n",
       "      <td>0.323558</td>\n",
       "      <td>0.0</td>\n",
       "      <td>390.319</td>\n",
       "      <td>13.009941</td>\n",
       "      <td>0.496764</td>\n",
       "      <td>13.009941</td>\n",
       "      <td>-0.496764</td>\n",
       "      <td>405.089560</td>\n",
       "      <td>405.439</td>\n",
       "      <td>144.0</td>\n",
       "      <td>...</td>\n",
       "      <td>0.0</td>\n",
       "      <td>0.0</td>\n",
       "      <td>0.0</td>\n",
       "      <td>0.0</td>\n",
       "      <td>0.0</td>\n",
       "      <td>0.0</td>\n",
       "      <td>0.0</td>\n",
       "      <td>1.0</td>\n",
       "      <td>0.0</td>\n",
       "      <td>0.0</td>\n",
       "    </tr>\n",
       "    <tr>\n",
       "      <th>4</th>\n",
       "      <td>0.278556</td>\n",
       "      <td>0.0</td>\n",
       "      <td>433.321</td>\n",
       "      <td>13.647662</td>\n",
       "      <td>0.338197</td>\n",
       "      <td>13.647662</td>\n",
       "      <td>-0.338197</td>\n",
       "      <td>455.186987</td>\n",
       "      <td>455.497</td>\n",
       "      <td>170.0</td>\n",
       "      <td>...</td>\n",
       "      <td>0.0</td>\n",
       "      <td>0.0</td>\n",
       "      <td>0.0</td>\n",
       "      <td>0.0</td>\n",
       "      <td>0.0</td>\n",
       "      <td>0.0</td>\n",
       "      <td>0.0</td>\n",
       "      <td>0.0</td>\n",
       "      <td>0.0</td>\n",
       "      <td>0.0</td>\n",
       "    </tr>\n",
       "    <tr>\n",
       "      <th>5</th>\n",
       "      <td>0.230801</td>\n",
       "      <td>0.0</td>\n",
       "      <td>290.217</td>\n",
       "      <td>5.446311</td>\n",
       "      <td>0.453595</td>\n",
       "      <td>5.446311</td>\n",
       "      <td>-0.453595</td>\n",
       "      <td>305.116427</td>\n",
       "      <td>305.337</td>\n",
       "      <td>114.0</td>\n",
       "      <td>...</td>\n",
       "      <td>0.0</td>\n",
       "      <td>0.0</td>\n",
       "      <td>0.0</td>\n",
       "      <td>0.0</td>\n",
       "      <td>0.0</td>\n",
       "      <td>0.0</td>\n",
       "      <td>0.0</td>\n",
       "      <td>0.0</td>\n",
       "      <td>0.0</td>\n",
       "      <td>0.0</td>\n",
       "    </tr>\n",
       "    <tr>\n",
       "      <th>6</th>\n",
       "      <td>0.278329</td>\n",
       "      <td>0.0</td>\n",
       "      <td>330.242</td>\n",
       "      <td>13.223167</td>\n",
       "      <td>0.376358</td>\n",
       "      <td>13.223167</td>\n",
       "      <td>-0.376358</td>\n",
       "      <td>351.169525</td>\n",
       "      <td>351.410</td>\n",
       "      <td>134.0</td>\n",
       "      <td>...</td>\n",
       "      <td>0.0</td>\n",
       "      <td>0.0</td>\n",
       "      <td>0.0</td>\n",
       "      <td>0.0</td>\n",
       "      <td>0.0</td>\n",
       "      <td>0.0</td>\n",
       "      <td>0.0</td>\n",
       "      <td>0.0</td>\n",
       "      <td>0.0</td>\n",
       "      <td>0.0</td>\n",
       "    </tr>\n",
       "    <tr>\n",
       "      <th>...</th>\n",
       "      <td>...</td>\n",
       "      <td>...</td>\n",
       "      <td>...</td>\n",
       "      <td>...</td>\n",
       "      <td>...</td>\n",
       "      <td>...</td>\n",
       "      <td>...</td>\n",
       "      <td>...</td>\n",
       "      <td>...</td>\n",
       "      <td>...</td>\n",
       "      <td>...</td>\n",
       "      <td>...</td>\n",
       "      <td>...</td>\n",
       "      <td>...</td>\n",
       "      <td>...</td>\n",
       "      <td>...</td>\n",
       "      <td>...</td>\n",
       "      <td>...</td>\n",
       "      <td>...</td>\n",
       "      <td>...</td>\n",
       "      <td>...</td>\n",
       "    </tr>\n",
       "    <tr>\n",
       "      <th>1323</th>\n",
       "      <td>0.270250</td>\n",
       "      <td>0.0</td>\n",
       "      <td>258.176</td>\n",
       "      <td>12.072978</td>\n",
       "      <td>0.376358</td>\n",
       "      <td>12.072978</td>\n",
       "      <td>-0.376358</td>\n",
       "      <td>275.138225</td>\n",
       "      <td>275.312</td>\n",
       "      <td>106.0</td>\n",
       "      <td>...</td>\n",
       "      <td>0.0</td>\n",
       "      <td>0.0</td>\n",
       "      <td>0.0</td>\n",
       "      <td>0.0</td>\n",
       "      <td>0.0</td>\n",
       "      <td>0.0</td>\n",
       "      <td>0.0</td>\n",
       "      <td>0.0</td>\n",
       "      <td>0.0</td>\n",
       "      <td>0.0</td>\n",
       "    </tr>\n",
       "    <tr>\n",
       "      <th>1325</th>\n",
       "      <td>0.229319</td>\n",
       "      <td>0.0</td>\n",
       "      <td>378.308</td>\n",
       "      <td>11.489740</td>\n",
       "      <td>0.367667</td>\n",
       "      <td>11.489740</td>\n",
       "      <td>-0.367667</td>\n",
       "      <td>399.136511</td>\n",
       "      <td>399.476</td>\n",
       "      <td>146.0</td>\n",
       "      <td>...</td>\n",
       "      <td>0.0</td>\n",
       "      <td>1.0</td>\n",
       "      <td>0.0</td>\n",
       "      <td>0.0</td>\n",
       "      <td>0.0</td>\n",
       "      <td>0.0</td>\n",
       "      <td>0.0</td>\n",
       "      <td>0.0</td>\n",
       "      <td>1.0</td>\n",
       "      <td>0.0</td>\n",
       "    </tr>\n",
       "    <tr>\n",
       "      <th>1328</th>\n",
       "      <td>0.252832</td>\n",
       "      <td>0.0</td>\n",
       "      <td>390.297</td>\n",
       "      <td>12.124998</td>\n",
       "      <td>0.496743</td>\n",
       "      <td>12.124998</td>\n",
       "      <td>-0.496743</td>\n",
       "      <td>415.200825</td>\n",
       "      <td>415.497</td>\n",
       "      <td>158.0</td>\n",
       "      <td>...</td>\n",
       "      <td>0.0</td>\n",
       "      <td>0.0</td>\n",
       "      <td>0.0</td>\n",
       "      <td>0.0</td>\n",
       "      <td>0.0</td>\n",
       "      <td>0.0</td>\n",
       "      <td>0.0</td>\n",
       "      <td>0.0</td>\n",
       "      <td>0.0</td>\n",
       "      <td>0.0</td>\n",
       "    </tr>\n",
       "    <tr>\n",
       "      <th>1330</th>\n",
       "      <td>0.252832</td>\n",
       "      <td>0.0</td>\n",
       "      <td>378.286</td>\n",
       "      <td>12.117207</td>\n",
       "      <td>0.378793</td>\n",
       "      <td>12.117207</td>\n",
       "      <td>-0.378793</td>\n",
       "      <td>405.216475</td>\n",
       "      <td>405.502</td>\n",
       "      <td>156.0</td>\n",
       "      <td>...</td>\n",
       "      <td>0.0</td>\n",
       "      <td>0.0</td>\n",
       "      <td>0.0</td>\n",
       "      <td>0.0</td>\n",
       "      <td>0.0</td>\n",
       "      <td>0.0</td>\n",
       "      <td>0.0</td>\n",
       "      <td>0.0</td>\n",
       "      <td>0.0</td>\n",
       "      <td>0.0</td>\n",
       "    </tr>\n",
       "    <tr>\n",
       "      <th>1331</th>\n",
       "      <td>0.129724</td>\n",
       "      <td>0.0</td>\n",
       "      <td>302.228</td>\n",
       "      <td>5.401836</td>\n",
       "      <td>0.496407</td>\n",
       "      <td>5.401836</td>\n",
       "      <td>-0.496407</td>\n",
       "      <td>321.147727</td>\n",
       "      <td>321.380</td>\n",
       "      <td>122.0</td>\n",
       "      <td>...</td>\n",
       "      <td>0.0</td>\n",
       "      <td>0.0</td>\n",
       "      <td>0.0</td>\n",
       "      <td>0.0</td>\n",
       "      <td>0.0</td>\n",
       "      <td>0.0</td>\n",
       "      <td>0.0</td>\n",
       "      <td>0.0</td>\n",
       "      <td>0.0</td>\n",
       "      <td>0.0</td>\n",
       "    </tr>\n",
       "  </tbody>\n",
       "</table>\n",
       "<p>1062 rows × 196 columns</p>\n",
       "</div>"
      ],
      "text/plain": [
       "      MinAbsPartialCharge  NumRadicalElectrons  HeavyAtomMolWt  \\\n",
       "0                0.163204                  0.0         304.293   \n",
       "2                0.323558                  0.0         390.319   \n",
       "4                0.278556                  0.0         433.321   \n",
       "5                0.230801                  0.0         290.217   \n",
       "6                0.278329                  0.0         330.242   \n",
       "...                   ...                  ...             ...   \n",
       "1323             0.270250                  0.0         258.176   \n",
       "1325             0.229319                  0.0         378.308   \n",
       "1328             0.252832                  0.0         390.297   \n",
       "1330             0.252832                  0.0         378.286   \n",
       "1331             0.129724                  0.0         302.228   \n",
       "\n",
       "      MaxAbsEStateIndex  MaxAbsPartialCharge  MaxEStateIndex  \\\n",
       "0              4.712992             0.364542        4.712992   \n",
       "2             13.009941             0.496764       13.009941   \n",
       "4             13.647662             0.338197       13.647662   \n",
       "5              5.446311             0.453595        5.446311   \n",
       "6             13.223167             0.376358       13.223167   \n",
       "...                 ...                  ...             ...   \n",
       "1323          12.072978             0.376358       12.072978   \n",
       "1325          11.489740             0.367667       11.489740   \n",
       "1328          12.124998             0.496743       12.124998   \n",
       "1330          12.117207             0.378793       12.117207   \n",
       "1331           5.401836             0.496407        5.401836   \n",
       "\n",
       "      MinPartialCharge  ExactMolWt    MolWt  NumValenceElectrons  ...  \\\n",
       "0            -0.364542  318.093917  318.405                112.0  ...   \n",
       "2            -0.496764  405.089560  405.439                144.0  ...   \n",
       "4            -0.338197  455.186987  455.497                170.0  ...   \n",
       "5            -0.453595  305.116427  305.337                114.0  ...   \n",
       "6            -0.376358  351.169525  351.410                134.0  ...   \n",
       "...                ...         ...      ...                  ...  ...   \n",
       "1323         -0.376358  275.138225  275.312                106.0  ...   \n",
       "1325         -0.367667  399.136511  399.476                146.0  ...   \n",
       "1328         -0.496743  415.200825  415.497                158.0  ...   \n",
       "1330         -0.378793  405.216475  405.502                156.0  ...   \n",
       "1331         -0.496407  321.147727  321.380                122.0  ...   \n",
       "\n",
       "      fr_sulfide  fr_sulfonamd  fr_sulfone  fr_term_acetylene  fr_tetrazole  \\\n",
       "0            0.0           0.0         0.0                0.0           0.0   \n",
       "2            0.0           0.0         0.0                0.0           0.0   \n",
       "4            0.0           0.0         0.0                0.0           0.0   \n",
       "5            0.0           0.0         0.0                0.0           0.0   \n",
       "6            0.0           0.0         0.0                0.0           0.0   \n",
       "...          ...           ...         ...                ...           ...   \n",
       "1323         0.0           0.0         0.0                0.0           0.0   \n",
       "1325         0.0           1.0         0.0                0.0           0.0   \n",
       "1328         0.0           0.0         0.0                0.0           0.0   \n",
       "1330         0.0           0.0         0.0                0.0           0.0   \n",
       "1331         0.0           0.0         0.0                0.0           0.0   \n",
       "\n",
       "      fr_thiazole  fr_thiocyan  fr_thiophene  fr_unbrch_alkane  fr_urea  \n",
       "0             0.0          0.0           1.0               0.0      0.0  \n",
       "2             0.0          0.0           1.0               0.0      0.0  \n",
       "4             0.0          0.0           0.0               0.0      0.0  \n",
       "5             0.0          0.0           0.0               0.0      0.0  \n",
       "6             0.0          0.0           0.0               0.0      0.0  \n",
       "...           ...          ...           ...               ...      ...  \n",
       "1323          0.0          0.0           0.0               0.0      0.0  \n",
       "1325          0.0          0.0           0.0               1.0      0.0  \n",
       "1328          0.0          0.0           0.0               0.0      0.0  \n",
       "1330          0.0          0.0           0.0               0.0      0.0  \n",
       "1331          0.0          0.0           0.0               0.0      0.0  \n",
       "\n",
       "[1062 rows x 196 columns]"
      ]
     },
     "metadata": {},
     "output_type": "display_data"
    }
   ],
   "source": [
    "display(training_descriptions)"
   ]
  },
  {
   "cell_type": "code",
   "execution_count": 7,
   "id": "f87dd30f",
   "metadata": {},
   "outputs": [
    {
     "data": {
      "text/html": [
       "<div>\n",
       "<style scoped>\n",
       "    .dataframe tbody tr th:only-of-type {\n",
       "        vertical-align: middle;\n",
       "    }\n",
       "\n",
       "    .dataframe tbody tr th {\n",
       "        vertical-align: top;\n",
       "    }\n",
       "\n",
       "    .dataframe thead th {\n",
       "        text-align: right;\n",
       "    }\n",
       "</style>\n",
       "<table border=\"1\" class=\"dataframe\">\n",
       "  <thead>\n",
       "    <tr style=\"text-align: right;\">\n",
       "      <th></th>\n",
       "      <th>MinAbsPartialCharge</th>\n",
       "      <th>NumRadicalElectrons</th>\n",
       "      <th>HeavyAtomMolWt</th>\n",
       "      <th>MaxAbsEStateIndex</th>\n",
       "      <th>MaxAbsPartialCharge</th>\n",
       "      <th>MaxEStateIndex</th>\n",
       "      <th>MinPartialCharge</th>\n",
       "      <th>ExactMolWt</th>\n",
       "      <th>MolWt</th>\n",
       "      <th>NumValenceElectrons</th>\n",
       "      <th>...</th>\n",
       "      <th>fr_sulfide</th>\n",
       "      <th>fr_sulfonamd</th>\n",
       "      <th>fr_sulfone</th>\n",
       "      <th>fr_term_acetylene</th>\n",
       "      <th>fr_tetrazole</th>\n",
       "      <th>fr_thiazole</th>\n",
       "      <th>fr_thiocyan</th>\n",
       "      <th>fr_thiophene</th>\n",
       "      <th>fr_unbrch_alkane</th>\n",
       "      <th>fr_urea</th>\n",
       "    </tr>\n",
       "  </thead>\n",
       "  <tbody>\n",
       "    <tr>\n",
       "      <th>1</th>\n",
       "      <td>0.216434</td>\n",
       "      <td>0.0</td>\n",
       "      <td>290.221</td>\n",
       "      <td>10.935117</td>\n",
       "      <td>0.367667</td>\n",
       "      <td>10.935117</td>\n",
       "      <td>-0.367667</td>\n",
       "      <td>307.143310</td>\n",
       "      <td>307.357</td>\n",
       "      <td>116.0</td>\n",
       "      <td>...</td>\n",
       "      <td>0.0</td>\n",
       "      <td>0.0</td>\n",
       "      <td>0.0</td>\n",
       "      <td>0.0</td>\n",
       "      <td>0.0</td>\n",
       "      <td>0.0</td>\n",
       "      <td>0.0</td>\n",
       "      <td>0.0</td>\n",
       "      <td>1.0</td>\n",
       "      <td>0.0</td>\n",
       "    </tr>\n",
       "    <tr>\n",
       "      <th>3</th>\n",
       "      <td>0.136856</td>\n",
       "      <td>0.0</td>\n",
       "      <td>340.257</td>\n",
       "      <td>5.402057</td>\n",
       "      <td>0.496745</td>\n",
       "      <td>5.402057</td>\n",
       "      <td>-0.496745</td>\n",
       "      <td>364.189926</td>\n",
       "      <td>364.449</td>\n",
       "      <td>140.0</td>\n",
       "      <td>...</td>\n",
       "      <td>0.0</td>\n",
       "      <td>0.0</td>\n",
       "      <td>0.0</td>\n",
       "      <td>0.0</td>\n",
       "      <td>0.0</td>\n",
       "      <td>0.0</td>\n",
       "      <td>0.0</td>\n",
       "      <td>0.0</td>\n",
       "      <td>0.0</td>\n",
       "      <td>0.0</td>\n",
       "    </tr>\n",
       "    <tr>\n",
       "      <th>7</th>\n",
       "      <td>0.278583</td>\n",
       "      <td>0.0</td>\n",
       "      <td>424.360</td>\n",
       "      <td>13.587801</td>\n",
       "      <td>0.496768</td>\n",
       "      <td>13.587801</td>\n",
       "      <td>-0.496768</td>\n",
       "      <td>448.168145</td>\n",
       "      <td>448.552</td>\n",
       "      <td>164.0</td>\n",
       "      <td>...</td>\n",
       "      <td>0.0</td>\n",
       "      <td>0.0</td>\n",
       "      <td>0.0</td>\n",
       "      <td>0.0</td>\n",
       "      <td>0.0</td>\n",
       "      <td>0.0</td>\n",
       "      <td>0.0</td>\n",
       "      <td>1.0</td>\n",
       "      <td>0.0</td>\n",
       "      <td>0.0</td>\n",
       "    </tr>\n",
       "    <tr>\n",
       "      <th>21</th>\n",
       "      <td>0.278411</td>\n",
       "      <td>0.0</td>\n",
       "      <td>380.282</td>\n",
       "      <td>13.648067</td>\n",
       "      <td>0.376358</td>\n",
       "      <td>13.648067</td>\n",
       "      <td>-0.376358</td>\n",
       "      <td>404.196074</td>\n",
       "      <td>404.474</td>\n",
       "      <td>154.0</td>\n",
       "      <td>...</td>\n",
       "      <td>0.0</td>\n",
       "      <td>0.0</td>\n",
       "      <td>0.0</td>\n",
       "      <td>0.0</td>\n",
       "      <td>0.0</td>\n",
       "      <td>0.0</td>\n",
       "      <td>0.0</td>\n",
       "      <td>0.0</td>\n",
       "      <td>0.0</td>\n",
       "      <td>0.0</td>\n",
       "    </tr>\n",
       "    <tr>\n",
       "      <th>28</th>\n",
       "      <td>0.161118</td>\n",
       "      <td>0.0</td>\n",
       "      <td>302.228</td>\n",
       "      <td>5.365676</td>\n",
       "      <td>0.496743</td>\n",
       "      <td>5.365676</td>\n",
       "      <td>-0.496743</td>\n",
       "      <td>321.147727</td>\n",
       "      <td>321.380</td>\n",
       "      <td>122.0</td>\n",
       "      <td>...</td>\n",
       "      <td>0.0</td>\n",
       "      <td>0.0</td>\n",
       "      <td>0.0</td>\n",
       "      <td>0.0</td>\n",
       "      <td>0.0</td>\n",
       "      <td>0.0</td>\n",
       "      <td>0.0</td>\n",
       "      <td>0.0</td>\n",
       "      <td>0.0</td>\n",
       "      <td>0.0</td>\n",
       "    </tr>\n",
       "    <tr>\n",
       "      <th>...</th>\n",
       "      <td>...</td>\n",
       "      <td>...</td>\n",
       "      <td>...</td>\n",
       "      <td>...</td>\n",
       "      <td>...</td>\n",
       "      <td>...</td>\n",
       "      <td>...</td>\n",
       "      <td>...</td>\n",
       "      <td>...</td>\n",
       "      <td>...</td>\n",
       "      <td>...</td>\n",
       "      <td>...</td>\n",
       "      <td>...</td>\n",
       "      <td>...</td>\n",
       "      <td>...</td>\n",
       "      <td>...</td>\n",
       "      <td>...</td>\n",
       "      <td>...</td>\n",
       "      <td>...</td>\n",
       "      <td>...</td>\n",
       "      <td>...</td>\n",
       "    </tr>\n",
       "    <tr>\n",
       "      <th>1324</th>\n",
       "      <td>0.365061</td>\n",
       "      <td>0.0</td>\n",
       "      <td>323.258</td>\n",
       "      <td>13.110820</td>\n",
       "      <td>0.416564</td>\n",
       "      <td>13.110820</td>\n",
       "      <td>-0.365061</td>\n",
       "      <td>335.070403</td>\n",
       "      <td>335.354</td>\n",
       "      <td>118.0</td>\n",
       "      <td>...</td>\n",
       "      <td>0.0</td>\n",
       "      <td>0.0</td>\n",
       "      <td>0.0</td>\n",
       "      <td>0.0</td>\n",
       "      <td>0.0</td>\n",
       "      <td>0.0</td>\n",
       "      <td>0.0</td>\n",
       "      <td>1.0</td>\n",
       "      <td>0.0</td>\n",
       "      <td>0.0</td>\n",
       "    </tr>\n",
       "    <tr>\n",
       "      <th>1326</th>\n",
       "      <td>0.270504</td>\n",
       "      <td>0.0</td>\n",
       "      <td>314.265</td>\n",
       "      <td>12.258071</td>\n",
       "      <td>0.377774</td>\n",
       "      <td>12.258071</td>\n",
       "      <td>-0.377774</td>\n",
       "      <td>329.094646</td>\n",
       "      <td>329.385</td>\n",
       "      <td>118.0</td>\n",
       "      <td>...</td>\n",
       "      <td>0.0</td>\n",
       "      <td>0.0</td>\n",
       "      <td>0.0</td>\n",
       "      <td>0.0</td>\n",
       "      <td>0.0</td>\n",
       "      <td>0.0</td>\n",
       "      <td>0.0</td>\n",
       "      <td>1.0</td>\n",
       "      <td>0.0</td>\n",
       "      <td>0.0</td>\n",
       "    </tr>\n",
       "    <tr>\n",
       "      <th>1327</th>\n",
       "      <td>0.164878</td>\n",
       "      <td>0.0</td>\n",
       "      <td>286.229</td>\n",
       "      <td>5.149728</td>\n",
       "      <td>0.471841</td>\n",
       "      <td>5.149728</td>\n",
       "      <td>-0.471841</td>\n",
       "      <td>301.121512</td>\n",
       "      <td>301.349</td>\n",
       "      <td>112.0</td>\n",
       "      <td>...</td>\n",
       "      <td>0.0</td>\n",
       "      <td>0.0</td>\n",
       "      <td>0.0</td>\n",
       "      <td>0.0</td>\n",
       "      <td>0.0</td>\n",
       "      <td>0.0</td>\n",
       "      <td>0.0</td>\n",
       "      <td>0.0</td>\n",
       "      <td>0.0</td>\n",
       "      <td>0.0</td>\n",
       "    </tr>\n",
       "    <tr>\n",
       "      <th>1329</th>\n",
       "      <td>0.129722</td>\n",
       "      <td>0.0</td>\n",
       "      <td>238.185</td>\n",
       "      <td>5.057252</td>\n",
       "      <td>0.471904</td>\n",
       "      <td>5.057252</td>\n",
       "      <td>-0.471904</td>\n",
       "      <td>251.105862</td>\n",
       "      <td>251.289</td>\n",
       "      <td>94.0</td>\n",
       "      <td>...</td>\n",
       "      <td>0.0</td>\n",
       "      <td>0.0</td>\n",
       "      <td>0.0</td>\n",
       "      <td>0.0</td>\n",
       "      <td>0.0</td>\n",
       "      <td>0.0</td>\n",
       "      <td>0.0</td>\n",
       "      <td>0.0</td>\n",
       "      <td>0.0</td>\n",
       "      <td>0.0</td>\n",
       "    </tr>\n",
       "    <tr>\n",
       "      <th>1332</th>\n",
       "      <td>0.163212</td>\n",
       "      <td>0.0</td>\n",
       "      <td>286.233</td>\n",
       "      <td>4.876149</td>\n",
       "      <td>0.353415</td>\n",
       "      <td>4.876149</td>\n",
       "      <td>-0.353415</td>\n",
       "      <td>305.164046</td>\n",
       "      <td>305.385</td>\n",
       "      <td>116.0</td>\n",
       "      <td>...</td>\n",
       "      <td>0.0</td>\n",
       "      <td>0.0</td>\n",
       "      <td>0.0</td>\n",
       "      <td>0.0</td>\n",
       "      <td>0.0</td>\n",
       "      <td>0.0</td>\n",
       "      <td>0.0</td>\n",
       "      <td>0.0</td>\n",
       "      <td>0.0</td>\n",
       "      <td>0.0</td>\n",
       "    </tr>\n",
       "  </tbody>\n",
       "</table>\n",
       "<p>271 rows × 196 columns</p>\n",
       "</div>"
      ],
      "text/plain": [
       "      MinAbsPartialCharge  NumRadicalElectrons  HeavyAtomMolWt  \\\n",
       "1                0.216434                  0.0         290.221   \n",
       "3                0.136856                  0.0         340.257   \n",
       "7                0.278583                  0.0         424.360   \n",
       "21               0.278411                  0.0         380.282   \n",
       "28               0.161118                  0.0         302.228   \n",
       "...                   ...                  ...             ...   \n",
       "1324             0.365061                  0.0         323.258   \n",
       "1326             0.270504                  0.0         314.265   \n",
       "1327             0.164878                  0.0         286.229   \n",
       "1329             0.129722                  0.0         238.185   \n",
       "1332             0.163212                  0.0         286.233   \n",
       "\n",
       "      MaxAbsEStateIndex  MaxAbsPartialCharge  MaxEStateIndex  \\\n",
       "1             10.935117             0.367667       10.935117   \n",
       "3              5.402057             0.496745        5.402057   \n",
       "7             13.587801             0.496768       13.587801   \n",
       "21            13.648067             0.376358       13.648067   \n",
       "28             5.365676             0.496743        5.365676   \n",
       "...                 ...                  ...             ...   \n",
       "1324          13.110820             0.416564       13.110820   \n",
       "1326          12.258071             0.377774       12.258071   \n",
       "1327           5.149728             0.471841        5.149728   \n",
       "1329           5.057252             0.471904        5.057252   \n",
       "1332           4.876149             0.353415        4.876149   \n",
       "\n",
       "      MinPartialCharge  ExactMolWt    MolWt  NumValenceElectrons  ...  \\\n",
       "1            -0.367667  307.143310  307.357                116.0  ...   \n",
       "3            -0.496745  364.189926  364.449                140.0  ...   \n",
       "7            -0.496768  448.168145  448.552                164.0  ...   \n",
       "21           -0.376358  404.196074  404.474                154.0  ...   \n",
       "28           -0.496743  321.147727  321.380                122.0  ...   \n",
       "...                ...         ...      ...                  ...  ...   \n",
       "1324         -0.365061  335.070403  335.354                118.0  ...   \n",
       "1326         -0.377774  329.094646  329.385                118.0  ...   \n",
       "1327         -0.471841  301.121512  301.349                112.0  ...   \n",
       "1329         -0.471904  251.105862  251.289                 94.0  ...   \n",
       "1332         -0.353415  305.164046  305.385                116.0  ...   \n",
       "\n",
       "      fr_sulfide  fr_sulfonamd  fr_sulfone  fr_term_acetylene  fr_tetrazole  \\\n",
       "1            0.0           0.0         0.0                0.0           0.0   \n",
       "3            0.0           0.0         0.0                0.0           0.0   \n",
       "7            0.0           0.0         0.0                0.0           0.0   \n",
       "21           0.0           0.0         0.0                0.0           0.0   \n",
       "28           0.0           0.0         0.0                0.0           0.0   \n",
       "...          ...           ...         ...                ...           ...   \n",
       "1324         0.0           0.0         0.0                0.0           0.0   \n",
       "1326         0.0           0.0         0.0                0.0           0.0   \n",
       "1327         0.0           0.0         0.0                0.0           0.0   \n",
       "1329         0.0           0.0         0.0                0.0           0.0   \n",
       "1332         0.0           0.0         0.0                0.0           0.0   \n",
       "\n",
       "      fr_thiazole  fr_thiocyan  fr_thiophene  fr_unbrch_alkane  fr_urea  \n",
       "1             0.0          0.0           0.0               1.0      0.0  \n",
       "3             0.0          0.0           0.0               0.0      0.0  \n",
       "7             0.0          0.0           1.0               0.0      0.0  \n",
       "21            0.0          0.0           0.0               0.0      0.0  \n",
       "28            0.0          0.0           0.0               0.0      0.0  \n",
       "...           ...          ...           ...               ...      ...  \n",
       "1324          0.0          0.0           1.0               0.0      0.0  \n",
       "1326          0.0          0.0           1.0               0.0      0.0  \n",
       "1327          0.0          0.0           0.0               0.0      0.0  \n",
       "1329          0.0          0.0           0.0               0.0      0.0  \n",
       "1332          0.0          0.0           0.0               0.0      0.0  \n",
       "\n",
       "[271 rows x 196 columns]"
      ]
     },
     "metadata": {},
     "output_type": "display_data"
    }
   ],
   "source": [
    "display(test_descriptions)"
   ]
  },
  {
   "cell_type": "code",
   "execution_count": 8,
   "id": "6fba3fc6",
   "metadata": {},
   "outputs": [
    {
     "name": "stdout",
     "output_type": "stream",
     "text": [
      "le jeu d'apprentissage :  (1062, 196)\n",
      "le jeu de test :  (271, 196)\n"
     ]
    }
   ],
   "source": [
    "print(\"le jeu d'apprentissage : \",training_descriptions.shape)\n",
    "print(\"le jeu de test : \",test_descriptions.shape)"
   ]
  },
  {
   "cell_type": "markdown",
   "id": "a2098c7b",
   "metadata": {},
   "source": [
    "### Un arbre de décision avec Scikit Learn¶"
   ]
  },
  {
   "cell_type": "code",
   "execution_count": 9,
   "id": "248662a8",
   "metadata": {},
   "outputs": [],
   "source": [
    "import sklearn.tree as dt"
   ]
  },
  {
   "cell_type": "markdown",
   "id": "147ba4f0",
   "metadata": {},
   "source": [
    "* Documentation à https://scikit-learn.org/dev/modules/tree.html#tree"
   ]
  },
  {
   "cell_type": "markdown",
   "id": "ac80612d",
   "metadata": {},
   "source": [
    "* Initialisez un arbre de décision avant apprentissage."
   ]
  },
  {
   "cell_type": "code",
   "execution_count": 10,
   "id": "0a5740bb",
   "metadata": {},
   "outputs": [],
   "source": [
    "DT_CDC4 = dt.DecisionTreeClassifier()"
   ]
  },
  {
   "cell_type": "markdown",
   "id": "e1cbf8b1",
   "metadata": {},
   "source": [
    "* Entrainez l'arbre avec les données d'apprentissage."
   ]
  },
  {
   "cell_type": "code",
   "execution_count": 11,
   "id": "d7ce1f57",
   "metadata": {},
   "outputs": [
    {
     "data": {
      "text/html": [
       "<style>#sk-container-id-1 {color: black;}#sk-container-id-1 pre{padding: 0;}#sk-container-id-1 div.sk-toggleable {background-color: white;}#sk-container-id-1 label.sk-toggleable__label {cursor: pointer;display: block;width: 100%;margin-bottom: 0;padding: 0.3em;box-sizing: border-box;text-align: center;}#sk-container-id-1 label.sk-toggleable__label-arrow:before {content: \"▸\";float: left;margin-right: 0.25em;color: #696969;}#sk-container-id-1 label.sk-toggleable__label-arrow:hover:before {color: black;}#sk-container-id-1 div.sk-estimator:hover label.sk-toggleable__label-arrow:before {color: black;}#sk-container-id-1 div.sk-toggleable__content {max-height: 0;max-width: 0;overflow: hidden;text-align: left;background-color: #f0f8ff;}#sk-container-id-1 div.sk-toggleable__content pre {margin: 0.2em;color: black;border-radius: 0.25em;background-color: #f0f8ff;}#sk-container-id-1 input.sk-toggleable__control:checked~div.sk-toggleable__content {max-height: 200px;max-width: 100%;overflow: auto;}#sk-container-id-1 input.sk-toggleable__control:checked~label.sk-toggleable__label-arrow:before {content: \"▾\";}#sk-container-id-1 div.sk-estimator input.sk-toggleable__control:checked~label.sk-toggleable__label {background-color: #d4ebff;}#sk-container-id-1 div.sk-label input.sk-toggleable__control:checked~label.sk-toggleable__label {background-color: #d4ebff;}#sk-container-id-1 input.sk-hidden--visually {border: 0;clip: rect(1px 1px 1px 1px);clip: rect(1px, 1px, 1px, 1px);height: 1px;margin: -1px;overflow: hidden;padding: 0;position: absolute;width: 1px;}#sk-container-id-1 div.sk-estimator {font-family: monospace;background-color: #f0f8ff;border: 1px dotted black;border-radius: 0.25em;box-sizing: border-box;margin-bottom: 0.5em;}#sk-container-id-1 div.sk-estimator:hover {background-color: #d4ebff;}#sk-container-id-1 div.sk-parallel-item::after {content: \"\";width: 100%;border-bottom: 1px solid gray;flex-grow: 1;}#sk-container-id-1 div.sk-label:hover label.sk-toggleable__label {background-color: #d4ebff;}#sk-container-id-1 div.sk-serial::before {content: \"\";position: absolute;border-left: 1px solid gray;box-sizing: border-box;top: 0;bottom: 0;left: 50%;z-index: 0;}#sk-container-id-1 div.sk-serial {display: flex;flex-direction: column;align-items: center;background-color: white;padding-right: 0.2em;padding-left: 0.2em;position: relative;}#sk-container-id-1 div.sk-item {position: relative;z-index: 1;}#sk-container-id-1 div.sk-parallel {display: flex;align-items: stretch;justify-content: center;background-color: white;position: relative;}#sk-container-id-1 div.sk-item::before, #sk-container-id-1 div.sk-parallel-item::before {content: \"\";position: absolute;border-left: 1px solid gray;box-sizing: border-box;top: 0;bottom: 0;left: 50%;z-index: -1;}#sk-container-id-1 div.sk-parallel-item {display: flex;flex-direction: column;z-index: 1;position: relative;background-color: white;}#sk-container-id-1 div.sk-parallel-item:first-child::after {align-self: flex-end;width: 50%;}#sk-container-id-1 div.sk-parallel-item:last-child::after {align-self: flex-start;width: 50%;}#sk-container-id-1 div.sk-parallel-item:only-child::after {width: 0;}#sk-container-id-1 div.sk-dashed-wrapped {border: 1px dashed gray;margin: 0 0.4em 0.5em 0.4em;box-sizing: border-box;padding-bottom: 0.4em;background-color: white;}#sk-container-id-1 div.sk-label label {font-family: monospace;font-weight: bold;display: inline-block;line-height: 1.2em;}#sk-container-id-1 div.sk-label-container {text-align: center;}#sk-container-id-1 div.sk-container {/* jupyter's `normalize.less` sets `[hidden] { display: none; }` but bootstrap.min.css set `[hidden] { display: none !important; }` so we also need the `!important` here to be able to override the default hidden behavior on the sphinx rendered scikit-learn.org. See: https://github.com/scikit-learn/scikit-learn/issues/21755 */display: inline-block !important;position: relative;}#sk-container-id-1 div.sk-text-repr-fallback {display: none;}</style><div id=\"sk-container-id-1\" class=\"sk-top-container\"><div class=\"sk-text-repr-fallback\"><pre>DecisionTreeClassifier()</pre><b>In a Jupyter environment, please rerun this cell to show the HTML representation or trust the notebook. <br />On GitHub, the HTML representation is unable to render, please try loading this page with nbviewer.org.</b></div><div class=\"sk-container\" hidden><div class=\"sk-item\"><div class=\"sk-estimator sk-toggleable\"><input class=\"sk-toggleable__control sk-hidden--visually\" id=\"sk-estimator-id-1\" type=\"checkbox\" checked><label for=\"sk-estimator-id-1\" class=\"sk-toggleable__label sk-toggleable__label-arrow\">DecisionTreeClassifier</label><div class=\"sk-toggleable__content\"><pre>DecisionTreeClassifier()</pre></div></div></div></div></div>"
      ],
      "text/plain": [
       "DecisionTreeClassifier()"
      ]
     },
     "execution_count": 11,
     "metadata": {},
     "output_type": "execute_result"
    }
   ],
   "source": [
    "DT_CDC4.fit(training_descriptions, training_targets)"
   ]
  },
  {
   "cell_type": "markdown",
   "id": "477b20b2",
   "metadata": {},
   "source": [
    "* Utilisez l'arbre précedent pour prédire la valeur d'activité du premier exemple du jeu de test."
   ]
  },
  {
   "cell_type": "code",
   "execution_count": 13,
   "id": "d52e9e5b",
   "metadata": {},
   "outputs": [],
   "source": [
    "y_perd = DT_CDC4.predict(test_descriptions)"
   ]
  },
  {
   "cell_type": "markdown",
   "id": "8f6715f3",
   "metadata": {},
   "source": [
    "#### Visualisation de l'arbre"
   ]
  },
  {
   "cell_type": "code",
   "execution_count": 14,
   "id": "f06da2e9",
   "metadata": {},
   "outputs": [
    {
     "name": "stdout",
     "output_type": "stream",
     "text": [
      "['MinAbsPartialCharge', 'NumRadicalElectrons', 'HeavyAtomMolWt', 'MaxAbsEStateIndex', 'MaxAbsPartialCharge', 'MaxEStateIndex', 'MinPartialCharge', 'ExactMolWt', 'MolWt', 'NumValenceElectrons', 'MinEStateIndex', 'MinAbsEStateIndex', 'MaxPartialCharge', 'BalabanJ', 'BertzCT', 'Chi0', 'Chi0n', 'Chi0v', 'Chi1', 'Chi1n', 'Chi1v', 'Chi2n', 'Chi2v', 'Chi3n', 'Chi3v', 'Chi4n', 'Chi4v', 'HallKierAlpha', 'Ipc', 'Kappa1', 'Kappa2', 'Kappa3', 'LabuteASA', 'PEOE_VSA1', 'PEOE_VSA10', 'PEOE_VSA11', 'PEOE_VSA12', 'PEOE_VSA13', 'PEOE_VSA14', 'PEOE_VSA2', 'PEOE_VSA3', 'PEOE_VSA4', 'PEOE_VSA5', 'PEOE_VSA6', 'PEOE_VSA7', 'PEOE_VSA8', 'PEOE_VSA9', 'SMR_VSA1', 'SMR_VSA10', 'SMR_VSA2', 'SMR_VSA3', 'SMR_VSA4', 'SMR_VSA5', 'SMR_VSA6', 'SMR_VSA7', 'SMR_VSA8', 'SMR_VSA9', 'SlogP_VSA1', 'SlogP_VSA10', 'SlogP_VSA11', 'SlogP_VSA12', 'SlogP_VSA2', 'SlogP_VSA3', 'SlogP_VSA4', 'SlogP_VSA5', 'SlogP_VSA6', 'SlogP_VSA7', 'SlogP_VSA8', 'SlogP_VSA9', 'TPSA', 'EState_VSA1', 'EState_VSA10', 'EState_VSA11', 'EState_VSA2', 'EState_VSA3', 'EState_VSA4', 'EState_VSA5', 'EState_VSA6', 'EState_VSA7', 'EState_VSA8', 'EState_VSA9', 'VSA_EState1', 'VSA_EState10', 'VSA_EState2', 'VSA_EState3', 'VSA_EState4', 'VSA_EState5', 'VSA_EState6', 'VSA_EState7', 'VSA_EState8', 'VSA_EState9', 'FractionCSP3', 'HeavyAtomCount', 'NHOHCount', 'NOCount', 'NumAliphaticCarbocycles', 'NumAliphaticHeterocycles', 'NumAliphaticRings', 'NumAromaticCarbocycles', 'NumAromaticHeterocycles', 'NumAromaticRings', 'NumHAcceptors', 'NumHDonors', 'NumHeteroatoms', 'NumRotatableBonds', 'NumSaturatedCarbocycles', 'NumSaturatedHeterocycles', 'NumSaturatedRings', 'RingCount', 'MolLogP', 'MolMR', 'fr_Al_COO', 'fr_Al_OH', 'fr_Al_OH_noTert', 'fr_ArN', 'fr_Ar_COO', 'fr_Ar_N', 'fr_Ar_NH', 'fr_Ar_OH', 'fr_COO', 'fr_COO2', 'fr_C_O', 'fr_C_O_noCOO', 'fr_C_S', 'fr_HOCCN', 'fr_Imine', 'fr_NH0', 'fr_NH1', 'fr_NH2', 'fr_N_O', 'fr_Ndealkylation1', 'fr_Ndealkylation2', 'fr_Nhpyrrole', 'fr_SH', 'fr_aldehyde', 'fr_alkyl_carbamate', 'fr_alkyl_halide', 'fr_allylic_oxid', 'fr_amide', 'fr_amidine', 'fr_aniline', 'fr_aryl_methyl', 'fr_azide', 'fr_azo', 'fr_barbitur', 'fr_benzene', 'fr_benzodiazepine', 'fr_bicyclic', 'fr_diazo', 'fr_dihydropyridine', 'fr_epoxide', 'fr_ester', 'fr_ether', 'fr_furan', 'fr_guanido', 'fr_halogen', 'fr_hdrzine', 'fr_hdrzone', 'fr_imidazole', 'fr_imide', 'fr_isocyan', 'fr_isothiocyan', 'fr_ketone', 'fr_ketone_Topliss', 'fr_lactam', 'fr_lactone', 'fr_methoxy', 'fr_morpholine', 'fr_nitrile', 'fr_nitro', 'fr_nitro_arom', 'fr_nitro_arom_nonortho', 'fr_nitroso', 'fr_oxazole', 'fr_oxime', 'fr_para_hydroxylation', 'fr_phenol', 'fr_phenol_noOrthoHbond', 'fr_phos_acid', 'fr_phos_ester', 'fr_piperdine', 'fr_piperzine', 'fr_priamide', 'fr_prisulfonamd', 'fr_pyridine', 'fr_quatN', 'fr_sulfide', 'fr_sulfonamd', 'fr_sulfone', 'fr_term_acetylene', 'fr_tetrazole', 'fr_thiazole', 'fr_thiocyan', 'fr_thiophene', 'fr_unbrch_alkane', 'fr_urea']\n"
     ]
    }
   ],
   "source": [
    "list_of_the_attributes = list(training_descriptions.columns.values)\n",
    "print(\"%s\"%(list_of_the_attributes))"
   ]
  },
  {
   "cell_type": "markdown",
   "id": "29818c43",
   "metadata": {},
   "source": [
    "* Si votre arbre s'appelle DT1, l'instruction suivante crée un fichier DOT représentant l'arbre."
   ]
  },
  {
   "cell_type": "code",
   "execution_count": 19,
   "id": "0573c17b",
   "metadata": {},
   "outputs": [],
   "source": [
    "dt.export_graphviz(DT1,out_file=\"cdc4_tree.dot\",\\\n",
    "                   feature_names=list_of_the_attributes,\\\n",
    "                   class_names=[\"Active\",\"Inactive\"],\n",
    "                  rounded=True, filled=True)"
   ]
  },
  {
   "cell_type": "markdown",
   "id": "da6f1c49",
   "metadata": {},
   "source": [
    "Ensuite, on peut convertir el fichier \"dot\" en fichier image au format souahité grace au programme dot du paquet graphviz :\n",
    "`dot -Tpng cdc2_tree.dot -o cdc2_tree.png`"
   ]
  },
  {
   "cell_type": "markdown",
   "id": "0d6cddfc",
   "metadata": {},
   "source": [
    "### La mesure des performances\n",
    "* Aide des différentes mesures proposées :\n",
    "https://scikit-learn.org/dev/modules/model_evaluation.html#classification-metrics"
   ]
  },
  {
   "cell_type": "code",
   "execution_count": 15,
   "id": "38e2f514",
   "metadata": {},
   "outputs": [],
   "source": [
    "import sklearn.metrics as mt"
   ]
  },
  {
   "cell_type": "markdown",
   "id": "dc8495c1",
   "metadata": {},
   "source": [
    "#### Le taux de bonnes prédictions\n",
    "* Indiquez le taux de bonnes prédictions à associer au classifieur construit."
   ]
  },
  {
   "cell_type": "code",
   "execution_count": 19,
   "id": "6eb15406",
   "metadata": {},
   "outputs": [
    {
     "name": "stdout",
     "output_type": "stream",
     "text": [
      "Score de classifieur :  0.7712177121771218\n"
     ]
    }
   ],
   "source": [
    "print(\"Score de classifieur : \",mt.accuracy_score(y_perd,test_targets))"
   ]
  },
  {
   "cell_type": "markdown",
   "id": "ce5ee6eb",
   "metadata": {},
   "source": [
    "#### La matrice de confusion\n",
    "* Indiquez la matrice de confusion associée."
   ]
  },
  {
   "cell_type": "code",
   "execution_count": 21,
   "id": "92e8fa9a",
   "metadata": {},
   "outputs": [
    {
     "data": {
      "text/plain": [
       "array([[ 53,  27],\n",
       "       [ 35, 156]])"
      ]
     },
     "execution_count": 21,
     "metadata": {},
     "output_type": "execute_result"
    }
   ],
   "source": [
    "mt.confusion_matrix(y_perd,test_targets)"
   ]
  },
  {
   "cell_type": "markdown",
   "id": "428894ce",
   "metadata": {},
   "source": [
    "Pour représenter la matrice de confusion :\n",
    "* une aide à : https://scikit-learn.org/dev/modules/generated/sklearn.metrics.ConfusionMatrixDisplay.html#sklearn.metrics.ConfusionMatrixDisplay.from_predictions\n",
    "\n",
    "* Pour choisir la couleur :\n",
    "https://matplotlib.org/stable/gallery/color/colormap_reference.html"
   ]
  },
  {
   "cell_type": "code",
   "execution_count": null,
   "id": "e6c9eaa4",
   "metadata": {},
   "outputs": [],
   "source": [
    "mt.ConfusionMatrixDisplay.from_predictions(DT_CDC4 ,y_perd,test_targets) "
   ]
  },
  {
   "cell_type": "markdown",
   "id": "fbb0cfc7",
   "metadata": {},
   "source": [
    "## glass : un cas de classification non binaire\n",
    "* Ici un cas de classification non binaire (6 classes différentes)."
   ]
  },
  {
   "cell_type": "code",
   "execution_count": 28,
   "id": "de6b1113",
   "metadata": {},
   "outputs": [],
   "source": [
    "DS_Glass = pd.read_csv(\"./DonneesGlass/glass.csv\")"
   ]
  },
  {
   "cell_type": "markdown",
   "id": "0e30667a",
   "metadata": {},
   "source": [
    "### Partitionner en échantillon de test / échantillon d'apprentissage\n",
    "* Dans le cas de glass, la partition n'est pas donnée à l'avance.\n",
    "* Grâce à la méthode split de model_selection, partitionnez le jeu de données en deux : un échantillon d'apprentissage rassemblant 75\\% des exemples et un jeu de test rassemblant ... 25 \\% des données."
   ]
  },
  {
   "cell_type": "code",
   "execution_count": 27,
   "id": "bb592d0f",
   "metadata": {},
   "outputs": [],
   "source": [
    "import sklearn.model_selection as ms"
   ]
  },
  {
   "cell_type": "markdown",
   "id": "de995de6",
   "metadata": {},
   "source": [
    "* Pour réaliser une partition \"simple\" du jeu de données en jeu d'entrainement/jeu de test :\n",
    "il y a train_test_split\n",
    "https://scikit-learn.org/stable/modules/generated/sklearn.model_selection.train_test_split.html"
   ]
  },
  {
   "cell_type": "code",
   "execution_count": 29,
   "id": "5b7f9d03",
   "metadata": {},
   "outputs": [],
   "source": [
    "(glass_train,glass_test)= "
   ]
  },
  {
   "cell_type": "markdown",
   "id": "48572e08",
   "metadata": {},
   "source": [
    "* Séparez la description de la cible."
   ]
  },
  {
   "cell_type": "code",
   "execution_count": 31,
   "id": "fae58c86",
   "metadata": {},
   "outputs": [],
   "source": [
    "glass_train_descriptions = \n",
    "glass_train_targets = \n",
    "glass_test_descriptions = \n",
    "glass_test_targets = "
   ]
  },
  {
   "cell_type": "markdown",
   "id": "71ecbecf",
   "metadata": {},
   "source": [
    "#### Un arbre de décision à partir du jeu d'apprentissage\n",
    "* de manière similaire à l'exemple précédent, faites un arbre de décision, faites un image"
   ]
  },
  {
   "cell_type": "code",
   "execution_count": 32,
   "id": "3281b774",
   "metadata": {},
   "outputs": [],
   "source": []
  },
  {
   "cell_type": "code",
   "execution_count": 33,
   "id": "9774f1ef",
   "metadata": {},
   "outputs": [
    {
     "data": {
      "text/plain": [
       "DecisionTreeClassifier()"
      ]
     },
     "execution_count": 33,
     "metadata": {},
     "output_type": "execute_result"
    }
   ],
   "source": []
  },
  {
   "cell_type": "code",
   "execution_count": 34,
   "id": "47d7211f",
   "metadata": {},
   "outputs": [],
   "source": []
  },
  {
   "cell_type": "code",
   "execution_count": 35,
   "id": "66827b3f",
   "metadata": {},
   "outputs": [
    {
     "name": "stdout",
     "output_type": "stream",
     "text": [
      "7\n"
     ]
    }
   ],
   "source": []
  },
  {
   "cell_type": "markdown",
   "id": "529dff3d",
   "metadata": {},
   "source": [
    "#### Le taux de bonnes performances\n",
    "* Indiquez le taux de bonnes performances de l'arbre"
   ]
  },
  {
   "cell_type": "code",
   "execution_count": 37,
   "id": "c0eed5d9",
   "metadata": {},
   "outputs": [],
   "source": []
  },
  {
   "cell_type": "code",
   "execution_count": 39,
   "id": "cd22cbe8",
   "metadata": {},
   "outputs": [
    {
     "name": "stdout",
     "output_type": "stream",
     "text": [
      "Les performances sont 0.9815 \n"
     ]
    }
   ],
   "source": []
  },
  {
   "cell_type": "markdown",
   "id": "99759061",
   "metadata": {},
   "source": [
    "#### La matrice de confusion"
   ]
  },
  {
   "cell_type": "markdown",
   "id": "78909a42",
   "metadata": {},
   "source": [
    "* Représentation de la matrice de confusion avec la fonction inspirée de : https://stackoverflow.com/questions/71574168/how-to-plot-confusion-matrix-without-color-coding"
   ]
  },
  {
   "cell_type": "code",
   "execution_count": 46,
   "id": "7fe23be1",
   "metadata": {},
   "outputs": [],
   "source": [
    "import seaborn as sns\n",
    "import matplotlib.pyplot as plt"
   ]
  },
  {
   "cell_type": "code",
   "execution_count": 48,
   "id": "7e6c3900",
   "metadata": {},
   "outputs": [],
   "source": [
    "def plot_confusion_matrix(cm, classes, title,\n",
    "                          normalize=False,\n",
    "                          file='confusion_matrix',\n",
    "                          cmap='gray_r',\n",
    "                          linecolor='k'):\n",
    "    \n",
    "    if normalize:\n",
    "        cm = cm.astype('float') / cm.sum(axis=1)[:, np.newaxis]\n",
    "        cm_title = 'Confusion matrix, with normalization'\n",
    "    else:\n",
    "        cm_title = title\n",
    "\n",
    "    fmt = '.3f' if normalize else 'd'\n",
    "    sns.heatmap(cm, fmt=fmt, annot=True, square=True,\n",
    "                yticklabels=classes, #xticklabels=classes,\n",
    "                cmap=cmap, vmin=0, vmax=0,\n",
    "                linewidths=0.5, linecolor=linecolor,\n",
    "                cbar=False)\n",
    "    sns.despine(left=False, right=False, top=False, bottom=False)\n",
    "\n",
    "    plt.title(cm_title)\n",
    "    plt.ylabel('True class')\n",
    "    plt.xlabel('Predicted class')\n",
    "    plt.tight_layout()\n",
    "    plt.savefig(f'{file}.png')"
   ]
  },
  {
   "cell_type": "code",
   "execution_count": 49,
   "id": "58218c6b",
   "metadata": {},
   "outputs": [
    {
     "data": {
      "image/png": "[encoded data removed]",
      "text/plain": [
       "<Figure size 432x288 with 1 Axes>"
      ]
     },
     "metadata": {
      "needs_background": "light"
     },
     "output_type": "display_data"
    }
   ],
   "source": []
  }
 ],
 "metadata": {
  "kernelspec": {
   "display_name": "Python 3 (ipykernel)",
   "language": "python",
   "name": "python3"
  },
  "language_info": {
   "codemirror_mode": {
    "name": "ipython",
    "version": 3
   },
   "file_extension": ".py",
   "mimetype": "text/x-python",
   "name": "python",
   "nbconvert_exporter": "python",
   "pygments_lexer": "ipython3",
   "version": "3.10.12"
  }
 },
 "nbformat": 4,
 "nbformat_minor": 5
}
