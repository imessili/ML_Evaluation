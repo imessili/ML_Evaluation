{
 "cells": [
  {
   "cell_type": "code",
   "execution_count": null,
   "id": "166b6270",
   "metadata": {},
   "outputs": [],
   "source": [
    "## Linear Regression without Gradient Decent\n",
    "## Linear Regression with Gradient Decent\n",
    "## Multiple Linear Regression with Gradient Decent\n",
    "## Linear Regression Lasso\n",
    "## Linear Regression Ridge\n",
    "\n",
    "## Clustering par K-Moyennes\n",
    "## Clustering GaussianMixture\n",
    "## Clustering Spectral\n",
    "## Implémentation DBSCAN\n",
    "## Programmation de l'algorithme des K-Moyennes\n",
    "\n",
    "## SVM\n",
    "## La validation croisée\n",
    "## SVM à l'aide de l'algorithme SMO\n",
    "\n",
    "## Implémentation d'Adaboost\n",
    "## Implémentation Bagging\n",
    "\n",
    "## Dimensionality reduction \n",
    "## Implementation Linear methods PCA / LDA / MDS  \n",
    "## Implementation Non linear methods ISOMAP / Kernel PCA/ t-SNE\n",
    "\n",
    "## Faire exercice TD\n",
    "## Lire cours Theorie de l'apprentisage"
   ]
  }
 ],
 "metadata": {
  "kernelspec": {
   "display_name": "Python 3 (ipykernel)",
   "language": "python",
   "name": "python3"
  },
  "language_info": {
   "codemirror_mode": {
    "name": "ipython",
    "version": 3
   },
   "file_extension": ".py",
   "mimetype": "text/x-python",
   "name": "python",
   "nbconvert_exporter": "python",
   "pygments_lexer": "ipython3",
   "version": "3.10.12"
  }
 },
 "nbformat": 4,
 "nbformat_minor": 5
}
