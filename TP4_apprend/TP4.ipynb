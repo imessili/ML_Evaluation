{
 "cells": [
  {
   "cell_type": "markdown",
   "metadata": {},
   "source": [
    "# TP 4 : Boosting"
   ]
  },
  {
   "cell_type": "markdown",
   "metadata": {},
   "source": [
    "## 0 - Introduction\n",
    "\n",
    "L'objectif de ce premier TP est d'étudier les methodes d'ensemble, en particulier le Boosting.\n",
    "Il sera à réaliser en python 3. Les librairies utilisées sont installées sur les machines de l'université et de l'Ensicaen, vous pouvez néanmoins les installer sur vos propres machines à l'aide de l'utilitaire pip présent par défaut avec python.\n",
    "\t\n",
    "N'hésitez pas à regarder régulièrement la documentation de ces librairies, des exemples d'utilisation accompagnent généralement l'explication de chaque fonction.\n",
    "\n",
    "\n",
    "Langage utilisé:\n",
    "- Python 3: https://docs.python.org/3/\n",
    "\n",
    "Librairie de math:\n",
    "- Numpy: https://docs.scipy.org/doc/numpy/reference/\n",
    "- Scipy: https://docs.scipy.org/doc/scipy/reference/\n",
    "\n",
    "Librairie d'affichage de données:\n",
    "- Matplotilb: https://matplotlib.org/contents.html\n",
    "\n",
    "Librairie de traitement d'image:\n",
    "- Scikit-image: https://scikit-image.org/\n",
    "\n",
    "Librairie d'apprentissage automatique:\n",
    "- Scikit-learn: http://scikit-learn.org\n",
    "\n",
    "**Afin d'avoir un code optimisé, vous éviterez d'utiliser les instructions python3 `if`, `for` et `while` (sauf mention contraire dans le sujet).**"
   ]
  },
  {
   "cell_type": "code",
   "execution_count": 1,
   "metadata": {},
   "outputs": [],
   "source": [
    "import numpy as np\n",
    "import sklearn as skl\n",
    "from sklearn import datasets\n",
    "from sklearn.datasets import load_diabetes, make_circles\n",
    "from sklearn.model_selection import train_test_split, GridSearchCV\n",
    "from sklearn.metrics import classification_report\n",
    "from sklearn.ensemble import AdaBoostClassifier, RandomForestClassifier\n",
    "from sklearn.tree import DecisionTreeClassifier\n",
    "from sklearn.linear_model import Perceptron\n",
    "import matplotlib.pyplot as plt\n",
    "from sklearn.svm import SVC\n",
    "from sklearn.decomposition import PCA\n",
    "from sklearn.inspection import DecisionBoundaryDisplay\n",
    "from matplotlib.colors import ListedColormap\n",
    "from sklearn.preprocessing import StandardScaler\n",
    "\n",
    "import copy"
   ]
  },
  {
   "cell_type": "markdown",
   "metadata": {},
   "source": [
    "## 1 - Récupération des données d'apprentissage et de test"
   ]
  },
  {
   "cell_type": "markdown",
   "metadata": {},
   "source": [
    "Nous  allons  travailler  sur  des  données  d’apprentissage  réparties  en  deux  classes. Ces données sont issu de la base `iris`, disponible directement depuis `scikit learn`. \n",
    "\n",
    "Chaque exemple est composé des 4 caractéristiques suivantes:\n",
    "\n",
    "1. Sepal length en cm\n",
    "2. Sepal width en cm\n",
    "3. Petal length in cm\n",
    "4. Petal width in cm"
   ]
  },
  {
   "cell_type": "code",
   "execution_count": 2,
   "metadata": {},
   "outputs": [],
   "source": [
    "X, y = datasets.load_iris(return_X_y=True)"
   ]
  },
  {
   "cell_type": "markdown",
   "metadata": {},
   "source": [
    "En utilisant la fonction `train_test_split` de `scikit-learn` ( https://scikit-learn.org/stable/modules/generated/sklearn.model_selection.train_test_split.html ) découpez les données en deux ensembles (*train* et *val*) de sorte à ce que 80% des données soit dans *train* et 20% dans test. \n",
    "Vous nommerez les données `X_train` et `X_test` et les labels `y_train` et `y_test`."
   ]
  },
  {
   "cell_type": "code",
   "execution_count": 3,
   "metadata": {},
   "outputs": [],
   "source": [
    "X_train, X_test, y_train, y_test = train_test_split(X, y, test_size=0.2)"
   ]
  },
  {
   "cell_type": "markdown",
   "metadata": {},
   "source": [
    "En utilisant un objet de la classe `StandardScaler` de scikit-learn ( https://scikit-learn.org/stable/modules/generated/sklearn.preprocessing.StandardScaler.html ) normalisez les données de manière à avoir la moyenne à 0 et l’écart-type à 1. Vous placerez le résultat dans les variables `X_train_` et `X_test_`.\n",
    "\n",
    "L’opérateur précédent applique la transformation suivante: $z = \\dfrac{x -  \\mu}{\\sigma}$."
   ]
  },
  {
   "cell_type": "code",
   "execution_count": 11,
   "metadata": {},
   "outputs": [
    {
     "name": "stdout",
     "output_type": "stream",
     "text": [
      "[[-0.95964876  0.56934563 -1.28582924 -1.26430253]\n",
      " [-0.95964876  1.04879458 -1.17270644 -0.74069148]\n",
      " [ 0.24619261 -0.38955227  0.46757427  0.4374334 ]\n",
      " [ 0.8491133   0.32962115  0.80694269  1.09194723]\n",
      " [ 0.60794503 -1.82789912  0.41101287  0.17562788]\n",
      " [-1.44198531  0.8090701  -1.28582924 -1.13339977]\n",
      " [ 0.24619261 -0.1498278   0.63725848  0.8301417 ]\n",
      " [ 1.09028158  0.08989668  0.41101287  0.30653064]\n",
      " [ 0.60794503 -0.86900122  0.69381988  0.8301417 ]\n",
      " [-0.83906462  1.767968   -1.17270644 -1.26430253]\n",
      " [ 0.36677675 -0.38955227  0.58069708  0.30653064]\n",
      " [-0.1155598  -0.38955227  0.29789006  0.17562788]\n",
      " [ 0.48736089 -0.38955227  0.35445146  0.17562788]\n",
      " [-0.83906462  0.8090701  -1.22926784 -1.26430253]\n",
      " [-1.20081704  0.08989668 -1.17270644 -1.26430253]\n",
      " [-1.32140118  0.32962115 -1.34239065 -1.26430253]\n",
      " [ 1.45203399  0.32962115  0.58069708  0.30653064]\n",
      " [ 0.72852917 -0.86900122  0.9200655   0.96104446]\n",
      " [ 1.09028158  0.08989668  1.08974971  1.61555828]\n",
      " [ 0.48736089  0.8090701   0.9766269   1.48465552]\n",
      " [ 0.36677675 -0.62927675  0.58069708  0.04472511]\n",
      " [-0.95964876 -0.1498278  -1.17270644 -1.26430253]\n",
      " [ 1.57261813 -0.1498278   1.25943392  1.22284999]\n",
      " [ 0.00502434 -0.86900122  0.80694269  0.96104446]\n",
      " [ 0.60794503 -1.34845017  0.69381988  0.4374334 ]\n",
      " [-0.95964876 -2.54707255 -0.09803977 -0.21708042]\n",
      " [-0.83906462  1.04879458 -1.28582924 -1.26430253]\n",
      " [-0.35672807 -1.58817465  0.07164444 -0.08617765]\n",
      " [ 1.21086572 -0.62927675  0.63725848  0.30653064]\n",
      " [-0.83906462 -1.34845017 -0.38084678 -0.08617765]\n",
      " [-0.47731221 -0.1498278   0.46757427  0.4374334 ]\n",
      " [-1.0802329  -1.34845017  0.46757427  0.69923893]\n",
      " [-1.0802329  -0.1498278  -1.28582924 -1.26430253]\n",
      " [-1.68315359 -0.38955227 -1.28582924 -1.26430253]\n",
      " [ 2.17553882 -0.1498278   1.65536375  1.22284999]\n",
      " [ 0.8491133  -0.1498278   1.20287252  1.35375276]\n",
      " [ 0.96969744 -0.38955227  0.52413567  0.17562788]\n",
      " [ 2.29612296  1.767968    1.71192515  1.35375276]\n",
      " [-0.35672807 -1.58817465  0.01508304 -0.21708042]\n",
      " [ 0.72852917  0.32962115  0.9200655   1.48465552]\n",
      " [ 0.60794503 -1.34845017  0.75038129  0.96104446]\n",
      " [ 0.36677675 -0.1498278   0.69381988  0.8301417 ]\n",
      " [ 0.24619261 -0.86900122  0.80694269  0.56833617]\n",
      " [ 0.8491133  -0.1498278   0.8635041   1.09194723]\n",
      " [ 0.72852917 -0.62927675  1.08974971  1.35375276]\n",
      " [-0.35672807 -1.34845017  0.18476725  0.17562788]\n",
      " [ 0.36677675 -1.1087257   1.08974971  0.30653064]\n",
      " [ 1.21086572  0.32962115  1.25943392  1.48465552]\n",
      " [-1.0802329   1.28851905 -1.28582924 -1.3952053 ]\n",
      " [-0.47731221  0.8090701  -1.11614503 -1.26430253]\n",
      " [ 0.24619261 -2.0676236   0.75038129  0.4374334 ]\n",
      " [ 0.12560848  0.32962115  0.63725848  0.8301417 ]\n",
      " [-0.59789635  1.52824353 -1.22926784 -1.26430253]\n",
      " [-1.80373773 -0.1498278  -1.45551345 -1.3952053 ]\n",
      " [ 1.33144985  0.08989668  0.80694269  1.48465552]\n",
      " [ 1.09028158  0.56934563  1.14631111  1.22284999]\n",
      " [-0.1155598   1.767968   -1.11614503 -1.13339977]\n",
      " [ 0.00502434 -0.86900122  0.24132866 -0.21708042]\n",
      " [-0.95964876  0.8090701  -1.17270644 -1.002497  ]\n",
      " [ 1.33144985  0.08989668  0.9766269   1.22284999]\n",
      " [ 2.53729123  1.767968    1.54224094  1.09194723]\n",
      " [-1.20081704  0.8090701  -1.00302222 -1.26430253]\n",
      " [ 1.21086572 -0.1498278   1.03318831  1.22284999]\n",
      " [-0.23614394 -0.1498278   0.24132866  0.17562788]\n",
      " [ 1.69320227  0.32962115  1.31599532  0.8301417 ]\n",
      " [-0.95964876  1.28851905 -1.28582924 -1.26430253]\n",
      " [ 0.60794503 -0.62927675  0.80694269  0.4374334 ]\n",
      " [-0.95964876  1.04879458 -1.34239065 -1.13339977]\n",
      " [-0.47731221  0.8090701  -1.22926784 -1.002497  ]\n",
      " [ 0.00502434 -0.62927675  0.80694269  1.61555828]\n",
      " [ 1.69320227 -0.1498278   1.20287252  0.56833617]\n",
      " [ 0.8491133  -0.1498278   1.03318831  0.8301417 ]\n",
      " [-0.1155598  -1.1087257  -0.09803977 -0.21708042]\n",
      " [-0.47731221  2.00769248 -1.34239065 -1.002497  ]\n",
      " [ 0.48736089 -0.62927675  0.63725848  0.8301417 ]\n",
      " [-1.0802329  -1.58817465 -0.21116257 -0.21708042]\n",
      " [-0.23614394 -1.34845017  0.12820585 -0.08617765]\n",
      " [ 1.93437054 -0.62927675  1.37255673  0.96104446]\n",
      " [ 1.33144985  0.32962115  1.14631111  1.48465552]\n",
      " [ 0.72852917 -0.38955227  0.35445146  0.17562788]\n",
      " [ 0.00502434 -0.86900122  0.80694269  0.96104446]\n",
      " [-0.71848049  0.8090701  -1.28582924 -1.26430253]\n",
      " [-1.44198531  0.08989668 -1.22926784 -1.26430253]\n",
      " [-1.56256945 -1.82789912 -1.34239065 -1.13339977]\n",
      " [ 0.60794503  0.8090701   1.08974971  1.61555828]\n",
      " [ 1.09028158 -0.1498278   0.75038129  0.69923893]\n",
      " [-0.47731221  2.00769248 -1.11614503 -1.002497  ]\n",
      " [-0.83906462  0.56934563 -1.11614503 -0.87159424]\n",
      " [ 1.09028158  0.08989668  0.58069708  0.4374334 ]\n",
      " [-1.68315359  0.32962115 -1.34239065 -1.26430253]\n",
      " [-0.23614394 -0.62927675  0.69381988  1.09194723]\n",
      " [ 1.33144985  0.08989668  0.69381988  0.4374334 ]\n",
      " [ 0.12560848 -0.1498278   0.29789006  0.4374334 ]\n",
      " [-0.47731221  1.52824353 -1.22926784 -1.26430253]\n",
      " [ 2.29612296 -0.62927675  1.71192515  1.09194723]\n",
      " [-0.83906462  1.767968   -1.22926784 -1.13339977]\n",
      " [-0.83906462  1.767968   -1.00302222 -1.002497  ]\n",
      " [ 0.36677675 -0.62927675  0.18476725  0.17562788]\n",
      " [ 0.36677675 -0.1498278   0.52413567  0.30653064]\n",
      " [-1.44198531  1.28851905 -1.51207486 -1.26430253]\n",
      " [-0.1155598  -1.34845017  0.75038129  1.09194723]\n",
      " [-0.35672807  2.72686591 -1.28582924 -1.26430253]\n",
      " [ 0.72852917  0.08989668  1.03318831  0.8301417 ]\n",
      " [-0.35672807  1.04879458 -1.34239065 -1.26430253]\n",
      " [-1.44198531  0.32962115 -1.28582924 -1.26430253]\n",
      " [-1.68315359 -0.1498278  -1.34239065 -1.26430253]\n",
      " [ 0.48736089 -2.0676236   0.46757427  0.4374334 ]\n",
      " [-1.20081704  0.8090701  -1.17270644 -1.26430253]\n",
      " [-1.0802329   0.08989668 -1.22926784 -1.3952053 ]\n",
      " [-0.83906462  1.04879458 -1.28582924 -1.13339977]\n",
      " [-1.20081704 -0.1498278  -1.28582924 -1.3952053 ]\n",
      " [-0.23614394 -0.1498278   0.46757427  0.4374334 ]\n",
      " [ 0.00502434  2.24741695 -1.39895205 -1.26430253]\n",
      " [ 1.09028158  0.56934563  1.14631111  1.74646105]\n",
      " [-1.20081704 -0.1498278  -1.28582924 -1.13339977]\n",
      " [-0.71848049 -0.86900122  0.12820585  0.30653064]\n",
      " [-0.23614394 -0.86900122  0.29789006  0.17562788]\n",
      " [-0.1155598  -0.1498278   0.29789006  0.04472511]\n",
      " [-0.1155598  -0.62927675  0.46757427  0.17562788]\n",
      " [-1.32140118  0.32962115 -1.17270644 -1.26430253]]\n",
      "*********************************************************\n",
      "[[-0.23614394 -0.38955227 -0.04147836  0.17562788]\n",
      " [-1.0802329   0.08989668 -1.22926784 -1.26430253]\n",
      " [ 0.00502434 -1.1087257   0.18476725  0.04472511]\n",
      " [-0.95964876  0.32962115 -1.39895205 -1.26430253]\n",
      " [ 2.29612296 -1.1087257   1.82504796  1.48465552]\n",
      " [-0.35672807 -1.82789912  0.18476725  0.17562788]\n",
      " [ 0.24619261  0.8090701   0.46757427  0.56833617]\n",
      " [ 1.8137864  -0.38955227  1.48567954  0.8301417 ]\n",
      " [ 2.29612296 -0.1498278   1.37255673  1.48465552]\n",
      " [-0.71848049  2.48714143 -1.22926784 -1.3952053 ]\n",
      " [ 0.60794503  0.56934563  1.31599532  1.74646105]\n",
      " [ 0.60794503 -0.38955227  1.08974971  0.8301417 ]\n",
      " [ 0.60794503  0.56934563  0.58069708  0.56833617]\n",
      " [ 0.8491133  -0.62927675  0.52413567  0.4374334 ]\n",
      " [ 1.09028158 -1.34845017  1.20287252  0.8301417 ]\n",
      " [-0.35672807 -1.1087257   0.41101287  0.04472511]\n",
      " [ 0.24619261 -2.0676236   0.18476725 -0.21708042]\n",
      " [ 0.72852917  0.32962115  0.46757427  0.4374334 ]\n",
      " [ 0.12560848 -0.1498278   0.80694269  0.8301417 ]\n",
      " [ 0.00502434 -0.86900122  0.12820585  0.04472511]\n",
      " [-0.71848049  1.04879458 -1.22926784 -1.26430253]\n",
      " [-0.83906462  1.52824353 -1.22926784 -1.002497  ]\n",
      " [ 0.72852917 -0.62927675  1.08974971  1.22284999]\n",
      " [ 1.09028158 -0.1498278   0.8635041   1.48465552]\n",
      " [ 1.69320227  1.28851905  1.37255673  1.74646105]\n",
      " [-0.1155598   3.20631486 -1.22926784 -1.002497  ]\n",
      " [ 0.96969744 -0.1498278   0.41101287  0.30653064]\n",
      " [-0.1155598  -0.62927675  0.24132866  0.17562788]\n",
      " [-0.95964876 -1.82789912 -0.21116257 -0.21708042]\n",
      " [-0.95964876  0.8090701  -1.22926784 -1.26430253]]\n"
     ]
    }
   ],
   "source": [
    "from sklearn.preprocessing import StandardScaler\n",
    "\n",
    "# Initialiser le StandardScaler\n",
    "scaler = StandardScaler()\n",
    "\n",
    "# Adapter (calculer la moyenne et l'écart-type) sur l'ensemble d'entraînement\n",
    "scaler.fit(X_train)\n",
    "\n",
    "# Normaliser les ensembles d'entraînement et de test\n",
    "X_train_ = scaler.transform(X_train)\n",
    "X_test_ = scaler.transform(X_test)\n",
    "\n",
    "print(X_train_)\n",
    "print(\"*********************************************************\")\n",
    "print(X_test_)"
   ]
  },
  {
   "cell_type": "markdown",
   "metadata": {},
   "source": [
    "## 2 - Boosting à l'aide de Scikit-learn "
   ]
  },
  {
   "cell_type": "markdown",
   "metadata": {},
   "source": [
    "Nous utiliserons dans cette partie les fonctions de la librairie `scikit-learn` pour implémenter des méthodes de Boosting, en particulier AdaBoost.\n",
    "\n",
    "Nous étudierons dans cette partie les différents éléments important du Boosting à savoir:\n",
    "- le choix du modèle de base.\n",
    "- le nombre de modèle de base.\n",
    "\n",
    "Pour plus d'information sur l'utilisation d'AdaBoost dans `scikit-learn`, vous pouvez vous référer à la documentation : https://scikit-learn.org/stable/modules/generated/sklearn.ensemble.AdaBoostClassifier.html"
   ]
  },
  {
   "cell_type": "markdown",
   "metadata": {},
   "source": [
    "### 2.1 - AdaBoost par défaut"
   ]
  },
  {
   "cell_type": "markdown",
   "metadata": {},
   "source": [
    "En vous basant sur la documentation ( https://scikit-learn.org/stable/modules/generated/sklearn.ensemble.AdaBoostClassifier.html ), apprenez un AdaBoost avec `2` comme `nombre d'estimateur` et un `DecisionTreeClassifier` d'une profondeur maximum de `1` comme `estimateur de base` sur les données d'apprentissage normalisées `X_train_`, que vous nommerez `clf_boost`. Vous mettrez à 'SAMME' le paramètre `algorithm`."
   ]
  },
  {
   "cell_type": "code",
   "execution_count": 12,
   "metadata": {},
   "outputs": [
    {
     "data": {
      "text/html": [
       "<style>#sk-container-id-1 {color: black;}#sk-container-id-1 pre{padding: 0;}#sk-container-id-1 div.sk-toggleable {background-color: white;}#sk-container-id-1 label.sk-toggleable__label {cursor: pointer;display: block;width: 100%;margin-bottom: 0;padding: 0.3em;box-sizing: border-box;text-align: center;}#sk-container-id-1 label.sk-toggleable__label-arrow:before {content: \"▸\";float: left;margin-right: 0.25em;color: #696969;}#sk-container-id-1 label.sk-toggleable__label-arrow:hover:before {color: black;}#sk-container-id-1 div.sk-estimator:hover label.sk-toggleable__label-arrow:before {color: black;}#sk-container-id-1 div.sk-toggleable__content {max-height: 0;max-width: 0;overflow: hidden;text-align: left;background-color: #f0f8ff;}#sk-container-id-1 div.sk-toggleable__content pre {margin: 0.2em;color: black;border-radius: 0.25em;background-color: #f0f8ff;}#sk-container-id-1 input.sk-toggleable__control:checked~div.sk-toggleable__content {max-height: 200px;max-width: 100%;overflow: auto;}#sk-container-id-1 input.sk-toggleable__control:checked~label.sk-toggleable__label-arrow:before {content: \"▾\";}#sk-container-id-1 div.sk-estimator input.sk-toggleable__control:checked~label.sk-toggleable__label {background-color: #d4ebff;}#sk-container-id-1 div.sk-label input.sk-toggleable__control:checked~label.sk-toggleable__label {background-color: #d4ebff;}#sk-container-id-1 input.sk-hidden--visually {border: 0;clip: rect(1px 1px 1px 1px);clip: rect(1px, 1px, 1px, 1px);height: 1px;margin: -1px;overflow: hidden;padding: 0;position: absolute;width: 1px;}#sk-container-id-1 div.sk-estimator {font-family: monospace;background-color: #f0f8ff;border: 1px dotted black;border-radius: 0.25em;box-sizing: border-box;margin-bottom: 0.5em;}#sk-container-id-1 div.sk-estimator:hover {background-color: #d4ebff;}#sk-container-id-1 div.sk-parallel-item::after {content: \"\";width: 100%;border-bottom: 1px solid gray;flex-grow: 1;}#sk-container-id-1 div.sk-label:hover label.sk-toggleable__label {background-color: #d4ebff;}#sk-container-id-1 div.sk-serial::before {content: \"\";position: absolute;border-left: 1px solid gray;box-sizing: border-box;top: 0;bottom: 0;left: 50%;z-index: 0;}#sk-container-id-1 div.sk-serial {display: flex;flex-direction: column;align-items: center;background-color: white;padding-right: 0.2em;padding-left: 0.2em;position: relative;}#sk-container-id-1 div.sk-item {position: relative;z-index: 1;}#sk-container-id-1 div.sk-parallel {display: flex;align-items: stretch;justify-content: center;background-color: white;position: relative;}#sk-container-id-1 div.sk-item::before, #sk-container-id-1 div.sk-parallel-item::before {content: \"\";position: absolute;border-left: 1px solid gray;box-sizing: border-box;top: 0;bottom: 0;left: 50%;z-index: -1;}#sk-container-id-1 div.sk-parallel-item {display: flex;flex-direction: column;z-index: 1;position: relative;background-color: white;}#sk-container-id-1 div.sk-parallel-item:first-child::after {align-self: flex-end;width: 50%;}#sk-container-id-1 div.sk-parallel-item:last-child::after {align-self: flex-start;width: 50%;}#sk-container-id-1 div.sk-parallel-item:only-child::after {width: 0;}#sk-container-id-1 div.sk-dashed-wrapped {border: 1px dashed gray;margin: 0 0.4em 0.5em 0.4em;box-sizing: border-box;padding-bottom: 0.4em;background-color: white;}#sk-container-id-1 div.sk-label label {font-family: monospace;font-weight: bold;display: inline-block;line-height: 1.2em;}#sk-container-id-1 div.sk-label-container {text-align: center;}#sk-container-id-1 div.sk-container {/* jupyter's `normalize.less` sets `[hidden] { display: none; }` but bootstrap.min.css set `[hidden] { display: none !important; }` so we also need the `!important` here to be able to override the default hidden behavior on the sphinx rendered scikit-learn.org. See: https://github.com/scikit-learn/scikit-learn/issues/21755 */display: inline-block !important;position: relative;}#sk-container-id-1 div.sk-text-repr-fallback {display: none;}</style><div id=\"sk-container-id-1\" class=\"sk-top-container\"><div class=\"sk-text-repr-fallback\"><pre>AdaBoostClassifier(algorithm=&#x27;SAMME&#x27;,\n",
       "                   estimator=DecisionTreeClassifier(max_depth=1),\n",
       "                   n_estimators=2)</pre><b>In a Jupyter environment, please rerun this cell to show the HTML representation or trust the notebook. <br />On GitHub, the HTML representation is unable to render, please try loading this page with nbviewer.org.</b></div><div class=\"sk-container\" hidden><div class=\"sk-item sk-dashed-wrapped\"><div class=\"sk-label-container\"><div class=\"sk-label sk-toggleable\"><input class=\"sk-toggleable__control sk-hidden--visually\" id=\"sk-estimator-id-1\" type=\"checkbox\" ><label for=\"sk-estimator-id-1\" class=\"sk-toggleable__label sk-toggleable__label-arrow\">AdaBoostClassifier</label><div class=\"sk-toggleable__content\"><pre>AdaBoostClassifier(algorithm=&#x27;SAMME&#x27;,\n",
       "                   estimator=DecisionTreeClassifier(max_depth=1),\n",
       "                   n_estimators=2)</pre></div></div></div><div class=\"sk-parallel\"><div class=\"sk-parallel-item\"><div class=\"sk-item\"><div class=\"sk-label-container\"><div class=\"sk-label sk-toggleable\"><input class=\"sk-toggleable__control sk-hidden--visually\" id=\"sk-estimator-id-2\" type=\"checkbox\" ><label for=\"sk-estimator-id-2\" class=\"sk-toggleable__label sk-toggleable__label-arrow\">estimator: DecisionTreeClassifier</label><div class=\"sk-toggleable__content\"><pre>DecisionTreeClassifier(max_depth=1)</pre></div></div></div><div class=\"sk-serial\"><div class=\"sk-item\"><div class=\"sk-estimator sk-toggleable\"><input class=\"sk-toggleable__control sk-hidden--visually\" id=\"sk-estimator-id-3\" type=\"checkbox\" ><label for=\"sk-estimator-id-3\" class=\"sk-toggleable__label sk-toggleable__label-arrow\">DecisionTreeClassifier</label><div class=\"sk-toggleable__content\"><pre>DecisionTreeClassifier(max_depth=1)</pre></div></div></div></div></div></div></div></div></div></div>"
      ],
      "text/plain": [
       "AdaBoostClassifier(algorithm='SAMME',\n",
       "                   estimator=DecisionTreeClassifier(max_depth=1),\n",
       "                   n_estimators=2)"
      ]
     },
     "execution_count": 12,
     "metadata": {},
     "output_type": "execute_result"
    }
   ],
   "source": [
    "from sklearn.ensemble import AdaBoostClassifier\n",
    "from sklearn.tree import DecisionTreeClassifier\n",
    "\n",
    "# Créer un DecisionTreeClassifier de profondeur maximale 1\n",
    "base_classifier = DecisionTreeClassifier(max_depth=1)\n",
    "\n",
    "# Initialiser AdaBoostClassifier avec 2 estimateurs et 'SAMME' comme algorithme\n",
    "clf_boost = AdaBoostClassifier(base_classifier, n_estimators=2, algorithm='SAMME')\n",
    "\n",
    "# Entraîner le modèle sur les données d'apprentissage normalisées\n",
    "clf_boost.fit(X_train_, y_train)"
   ]
  },
  {
   "cell_type": "code",
   "execution_count": 13,
   "metadata": {},
   "outputs": [
    {
     "name": "stdout",
     "output_type": "stream",
     "text": [
      "\u001b[92m Ok - Tous les tests sont validés.\u001b[00m\n"
     ]
    },
    {
     "name": "stderr",
     "output_type": "stream",
     "text": [
      "/home/messili231/.local/lib/python3.10/site-packages/sklearn/utils/deprecation.py:101: FutureWarning: Attribute `base_estimator_` was deprecated in version 1.2 and will be removed in 1.4. Use `estimator_` instead.\n",
      "  warnings.warn(msg, category=FutureWarning)\n"
     ]
    }
   ],
   "source": [
    "# Ce bloc permet de valider votre code. Vous ne devez pas le modifier.  \n",
    "try:\n",
    "    np.testing.assert_equal(type(clf_boost),skl.ensemble._weight_boosting.AdaBoostClassifier,err_msg=\"\\033[93m {}\\033[00m\" .format('Test 1 : Le type de clf_boost est incorrect.'))\n",
    "    np.testing.assert_equal(type(clf_boost.base_estimator_),skl.tree._classes.DecisionTreeClassifier,err_msg=\"\\033[93m {}\\033[00m\" .format('Test 2 : Le type de base_estimator est incorrect.'))\n",
    "    try:\n",
    "        assert 'estimator_weights_' in clf_boost.__dict__\n",
    "    except Exception as e:\n",
    "        raise AssertionError(\"\\033[93m {}\\033[00m\" .format('Test 3 : Vous n\\'avez pas appris clf_boost.'))\n",
    "except Exception as e: \n",
    "    print(\"\\033[91m {}\\033[00m\" .format('KO - Au moins un test n\\'est pas validé')) \n",
    "    print('Information sur le test non valide:')\n",
    "    print(e)\n",
    "    raise e\n",
    "else:\n",
    "    print(\"\\033[92m {}\\033[00m\" .format('Ok - Tous les tests sont validés.')) "
   ]
  },
  {
   "cell_type": "markdown",
   "metadata": {},
   "source": [
    "En utilisant la fonction `classification_report` ( https://scikit-learn.org/stable/modules/generated/sklearn.metrics.classification_report.html ) de `scikit_learn`, affichez les performances du classifieurs sur la base de test."
   ]
  },
  {
   "cell_type": "code",
   "execution_count": 15,
   "metadata": {},
   "outputs": [
    {
     "name": "stdout",
     "output_type": "stream",
     "text": [
      "Classification Report for Training Set:\n",
      "               precision    recall  f1-score   support\n",
      "\n",
      "           0       1.00      1.00      1.00        43\n",
      "           1       0.48      1.00      0.65        37\n",
      "           2       0.00      0.00      0.00        40\n",
      "\n",
      "    accuracy                           0.67       120\n",
      "   macro avg       0.49      0.67      0.55       120\n",
      "weighted avg       0.51      0.67      0.56       120\n",
      "\n",
      "\n",
      "Classification Report for Test Set:\n",
      "               precision    recall  f1-score   support\n",
      "\n",
      "           0       1.00      1.00      1.00         7\n",
      "           1       0.57      1.00      0.72        13\n",
      "           2       0.00      0.00      0.00        10\n",
      "\n",
      "    accuracy                           0.67        30\n",
      "   macro avg       0.52      0.67      0.57        30\n",
      "weighted avg       0.48      0.67      0.55        30\n",
      "\n"
     ]
    },
    {
     "name": "stderr",
     "output_type": "stream",
     "text": [
      "/home/messili231/.local/lib/python3.10/site-packages/sklearn/metrics/_classification.py:1471: UndefinedMetricWarning: Precision and F-score are ill-defined and being set to 0.0 in labels with no predicted samples. Use `zero_division` parameter to control this behavior.\n",
      "  _warn_prf(average, modifier, msg_start, len(result))\n",
      "/home/messili231/.local/lib/python3.10/site-packages/sklearn/metrics/_classification.py:1471: UndefinedMetricWarning: Precision and F-score are ill-defined and being set to 0.0 in labels with no predicted samples. Use `zero_division` parameter to control this behavior.\n",
      "  _warn_prf(average, modifier, msg_start, len(result))\n",
      "/home/messili231/.local/lib/python3.10/site-packages/sklearn/metrics/_classification.py:1471: UndefinedMetricWarning: Precision and F-score are ill-defined and being set to 0.0 in labels with no predicted samples. Use `zero_division` parameter to control this behavior.\n",
      "  _warn_prf(average, modifier, msg_start, len(result))\n",
      "/home/messili231/.local/lib/python3.10/site-packages/sklearn/metrics/_classification.py:1471: UndefinedMetricWarning: Precision and F-score are ill-defined and being set to 0.0 in labels with no predicted samples. Use `zero_division` parameter to control this behavior.\n",
      "  _warn_prf(average, modifier, msg_start, len(result))\n",
      "/home/messili231/.local/lib/python3.10/site-packages/sklearn/metrics/_classification.py:1471: UndefinedMetricWarning: Precision and F-score are ill-defined and being set to 0.0 in labels with no predicted samples. Use `zero_division` parameter to control this behavior.\n",
      "  _warn_prf(average, modifier, msg_start, len(result))\n",
      "/home/messili231/.local/lib/python3.10/site-packages/sklearn/metrics/_classification.py:1471: UndefinedMetricWarning: Precision and F-score are ill-defined and being set to 0.0 in labels with no predicted samples. Use `zero_division` parameter to control this behavior.\n",
      "  _warn_prf(average, modifier, msg_start, len(result))\n"
     ]
    }
   ],
   "source": [
    "from sklearn.metrics import classification_report\n",
    "\n",
    "y_train_pred = clf_boost.predict(X_train_)\n",
    "y_test_pred = clf_boost.predict(X_test_)\n",
    "\n",
    "# Classification report for the training set\n",
    "report_train = classification_report(y_train, y_train_pred)\n",
    "print(\"Classification Report for Training Set:\\n\", report_train)\n",
    "\n",
    "# Classification report for the test set\n",
    "report_test = classification_report(y_test, y_test_pred)\n",
    "print(\"\\nClassification Report for Test Set:\\n\", report_test)"
   ]
  },
  {
   "cell_type": "markdown",
   "metadata": {},
   "source": [
    "À votre avis, cette première utilisation d’Adaboost est-elle performante ?"
   ]
  },
  {
   "cell_type": "markdown",
   "metadata": {},
   "source": [
    "### 2.2 La validation croisée"
   ]
  },
  {
   "cell_type": "markdown",
   "metadata": {},
   "source": [
    "Le nombre de paramètres à explorer est potentiellement important et il n'est pas toujours évident de connaiter les meilleurs combinaisons à utiliser pour un problème donné. `Scikit-learrn` met à disposition plusieurs solution pour explorer les paramètres possibles et calculer les performances finales. Vous retrouverez ces information à l'adresse: https://scikit-learn.org/stable/model_selection.html .\n",
    "Nous allons dans cette partie, nous concentrer plus particulièrement sur la validation croisée: https://scikit-learn.org/stable/modules/cross_validation.html .\n",
    "Commencez par lire en détail la documentation.\n",
    "\n",
    "À l'aide de la classe `GridSearchCV` https://scikit-learn.org/stable/modules/generated/sklearn.model_selection.GridSearchCV.html , trouvez les meilleurs paramètres parmi les configurations suivantes pour une fonction de coût de type `accuracy`:\n",
    "- Nombre estimateur entre [$1,20$].\n",
    "- Base estimateur doit être soit un `perceptron` ou un `arbre de décision`.\n",
    "- Dans le cas d'un `arbre de décision` vous ferez varier la profondeur maximum de l'arbre entre 1 et 10."
   ]
  },
  {
   "cell_type": "code",
   "execution_count": 22,
   "metadata": {},
   "outputs": [
    {
     "name": "stdout",
     "output_type": "stream",
     "text": [
      "Best Parameters: {'max_iter': 50}\n",
      "Best Accuracy: 0.8583333333333332\n"
     ]
    },
    {
     "name": "stderr",
     "output_type": "stream",
     "text": [
      "/home/messili231/.local/lib/python3.10/site-packages/sklearn/linear_model/_stochastic_gradient.py:713: ConvergenceWarning: Maximum number of iteration reached before convergence. Consider increasing max_iter to improve the fit.\n",
      "  warnings.warn(\n",
      "/home/messili231/.local/lib/python3.10/site-packages/sklearn/linear_model/_stochastic_gradient.py:713: ConvergenceWarning: Maximum number of iteration reached before convergence. Consider increasing max_iter to improve the fit.\n",
      "  warnings.warn(\n",
      "/home/messili231/.local/lib/python3.10/site-packages/sklearn/linear_model/_stochastic_gradient.py:713: ConvergenceWarning: Maximum number of iteration reached before convergence. Consider increasing max_iter to improve the fit.\n",
      "  warnings.warn(\n",
      "/home/messili231/.local/lib/python3.10/site-packages/sklearn/linear_model/_stochastic_gradient.py:713: ConvergenceWarning: Maximum number of iteration reached before convergence. Consider increasing max_iter to improve the fit.\n",
      "  warnings.warn(\n",
      "/home/messili231/.local/lib/python3.10/site-packages/sklearn/linear_model/_stochastic_gradient.py:713: ConvergenceWarning: Maximum number of iteration reached before convergence. Consider increasing max_iter to improve the fit.\n",
      "  warnings.warn(\n",
      "/home/messili231/.local/lib/python3.10/site-packages/sklearn/linear_model/_stochastic_gradient.py:713: ConvergenceWarning: Maximum number of iteration reached before convergence. Consider increasing max_iter to improve the fit.\n",
      "  warnings.warn(\n",
      "/home/messili231/.local/lib/python3.10/site-packages/sklearn/linear_model/_stochastic_gradient.py:713: ConvergenceWarning: Maximum number of iteration reached before convergence. Consider increasing max_iter to improve the fit.\n",
      "  warnings.warn(\n",
      "/home/messili231/.local/lib/python3.10/site-packages/sklearn/linear_model/_stochastic_gradient.py:713: ConvergenceWarning: Maximum number of iteration reached before convergence. Consider increasing max_iter to improve the fit.\n",
      "  warnings.warn(\n",
      "/home/messili231/.local/lib/python3.10/site-packages/sklearn/linear_model/_stochastic_gradient.py:713: ConvergenceWarning: Maximum number of iteration reached before convergence. Consider increasing max_iter to improve the fit.\n",
      "  warnings.warn(\n",
      "/home/messili231/.local/lib/python3.10/site-packages/sklearn/linear_model/_stochastic_gradient.py:713: ConvergenceWarning: Maximum number of iteration reached before convergence. Consider increasing max_iter to improve the fit.\n",
      "  warnings.warn(\n",
      "/home/messili231/.local/lib/python3.10/site-packages/sklearn/linear_model/_stochastic_gradient.py:713: ConvergenceWarning: Maximum number of iteration reached before convergence. Consider increasing max_iter to improve the fit.\n",
      "  warnings.warn(\n",
      "/home/messili231/.local/lib/python3.10/site-packages/sklearn/linear_model/_stochastic_gradient.py:713: ConvergenceWarning: Maximum number of iteration reached before convergence. Consider increasing max_iter to improve the fit.\n",
      "  warnings.warn(\n",
      "/home/messili231/.local/lib/python3.10/site-packages/sklearn/linear_model/_stochastic_gradient.py:713: ConvergenceWarning: Maximum number of iteration reached before convergence. Consider increasing max_iter to improve the fit.\n",
      "  warnings.warn(\n",
      "/home/messili231/.local/lib/python3.10/site-packages/sklearn/linear_model/_stochastic_gradient.py:713: ConvergenceWarning: Maximum number of iteration reached before convergence. Consider increasing max_iter to improve the fit.\n",
      "  warnings.warn(\n",
      "/home/messili231/.local/lib/python3.10/site-packages/sklearn/linear_model/_stochastic_gradient.py:713: ConvergenceWarning: Maximum number of iteration reached before convergence. Consider increasing max_iter to improve the fit.\n",
      "  warnings.warn(\n"
     ]
    }
   ],
   "source": [
    "from sklearn.model_selection import GridSearchCV\n",
    "from sklearn.linear_model import Perceptron\n",
    "\n",
    "# Create Perceptron object\n",
    "clf = Perceptron()\n",
    "\n",
    "# Define parameters to search\n",
    "param_grid = {\n",
    "    'max_iter': [1, 5, 10, 50, 100],  # Adjust this based on your needs\n",
    "}\n",
    "\n",
    "# Use GridSearchCV with accuracy scoring and 5-fold cross-validation\n",
    "grid_search = GridSearchCV(clf, param_grid, scoring='accuracy', cv=5)\n",
    "\n",
    "# Perform grid search on the normalized training data\n",
    "grid_search.fit(X_train_, y_train)\n",
    "\n",
    "# Print the best parameters found\n",
    "print(\"Best Parameters:\", grid_search.best_params_)\n",
    "\n",
    "# Print the best accuracy\n",
    "print(\"Best Accuracy:\", grid_search.best_score_)"
   ]
  },
  {
   "cell_type": "markdown",
   "metadata": {},
   "source": [
    "### 2.3 - Application d'une PCA sur les données"
   ]
  },
  {
   "cell_type": "markdown",
   "metadata": {},
   "source": [
    "Afin de pouvoir visualiser les données vous devez appliquer une réduction de la dimensionnalité, pour cela nous allons appliquer une `PCA` sur les données `X_train_`. En vous basant sur la documentation (https://scikit-learn.org/stable/modules/generated/sklearn.decomposition.PCA.html), apprenez une `PCA` avec 2 composantes conservées sur `X_train_` ensuite transformez `X_train_` et `X_train_` en `X_train_pca` `X_test_pca` ."
   ]
  },
  {
   "cell_type": "code",
   "execution_count": null,
   "metadata": {},
   "outputs": [],
   "source": [
    "from sklearn.decomposition import PCA\n",
    "\n",
    "pca = PCA(n_components=2)\n",
    "pca.fit(X_train_)\n",
    "\n",
    "X_train_pca = pca.fit_transform(X_train_)\n",
    "X_test_pca = pca.fit_transform(X_test_)\n",
    "\n",
    "# Utiliser LDA pour la réduction de dimensionnalité\n",
    "lda = LinearDiscriminantAnalysis(n_components=2)\n",
    "lda.fit(X_train_, y_train)\n",
    "\n",
    "X_train_lda = lda.transform(X_train_)\n",
    "X_test_lda = lda.transform(X_test_)\n",
    "\n",
    "# Utiliser MDS pour la réduction de dimensionnalité\n",
    "mds = MDS(n_components=2)\n",
    "X_train_mds = mds.fit_transform(X_train_)\n",
    "X_test_mds = mds.fit_transform(X_test_)"
   ]
  },
  {
   "cell_type": "markdown",
   "metadata": {},
   "source": [
    "Apprendre le même classifieur (2 estimateurs, `DecisionTreeClassifier` de profondeur 1) que précédemment sur `X_train_pca`, vous l'appelerez `clf_boost_pca`."
   ]
  },
  {
   "cell_type": "code",
   "execution_count": 24,
   "metadata": {},
   "outputs": [
    {
     "data": {
      "text/html": [
       "<style>#sk-container-id-2 {color: black;}#sk-container-id-2 pre{padding: 0;}#sk-container-id-2 div.sk-toggleable {background-color: white;}#sk-container-id-2 label.sk-toggleable__label {cursor: pointer;display: block;width: 100%;margin-bottom: 0;padding: 0.3em;box-sizing: border-box;text-align: center;}#sk-container-id-2 label.sk-toggleable__label-arrow:before {content: \"▸\";float: left;margin-right: 0.25em;color: #696969;}#sk-container-id-2 label.sk-toggleable__label-arrow:hover:before {color: black;}#sk-container-id-2 div.sk-estimator:hover label.sk-toggleable__label-arrow:before {color: black;}#sk-container-id-2 div.sk-toggleable__content {max-height: 0;max-width: 0;overflow: hidden;text-align: left;background-color: #f0f8ff;}#sk-container-id-2 div.sk-toggleable__content pre {margin: 0.2em;color: black;border-radius: 0.25em;background-color: #f0f8ff;}#sk-container-id-2 input.sk-toggleable__control:checked~div.sk-toggleable__content {max-height: 200px;max-width: 100%;overflow: auto;}#sk-container-id-2 input.sk-toggleable__control:checked~label.sk-toggleable__label-arrow:before {content: \"▾\";}#sk-container-id-2 div.sk-estimator input.sk-toggleable__control:checked~label.sk-toggleable__label {background-color: #d4ebff;}#sk-container-id-2 div.sk-label input.sk-toggleable__control:checked~label.sk-toggleable__label {background-color: #d4ebff;}#sk-container-id-2 input.sk-hidden--visually {border: 0;clip: rect(1px 1px 1px 1px);clip: rect(1px, 1px, 1px, 1px);height: 1px;margin: -1px;overflow: hidden;padding: 0;position: absolute;width: 1px;}#sk-container-id-2 div.sk-estimator {font-family: monospace;background-color: #f0f8ff;border: 1px dotted black;border-radius: 0.25em;box-sizing: border-box;margin-bottom: 0.5em;}#sk-container-id-2 div.sk-estimator:hover {background-color: #d4ebff;}#sk-container-id-2 div.sk-parallel-item::after {content: \"\";width: 100%;border-bottom: 1px solid gray;flex-grow: 1;}#sk-container-id-2 div.sk-label:hover label.sk-toggleable__label {background-color: #d4ebff;}#sk-container-id-2 div.sk-serial::before {content: \"\";position: absolute;border-left: 1px solid gray;box-sizing: border-box;top: 0;bottom: 0;left: 50%;z-index: 0;}#sk-container-id-2 div.sk-serial {display: flex;flex-direction: column;align-items: center;background-color: white;padding-right: 0.2em;padding-left: 0.2em;position: relative;}#sk-container-id-2 div.sk-item {position: relative;z-index: 1;}#sk-container-id-2 div.sk-parallel {display: flex;align-items: stretch;justify-content: center;background-color: white;position: relative;}#sk-container-id-2 div.sk-item::before, #sk-container-id-2 div.sk-parallel-item::before {content: \"\";position: absolute;border-left: 1px solid gray;box-sizing: border-box;top: 0;bottom: 0;left: 50%;z-index: -1;}#sk-container-id-2 div.sk-parallel-item {display: flex;flex-direction: column;z-index: 1;position: relative;background-color: white;}#sk-container-id-2 div.sk-parallel-item:first-child::after {align-self: flex-end;width: 50%;}#sk-container-id-2 div.sk-parallel-item:last-child::after {align-self: flex-start;width: 50%;}#sk-container-id-2 div.sk-parallel-item:only-child::after {width: 0;}#sk-container-id-2 div.sk-dashed-wrapped {border: 1px dashed gray;margin: 0 0.4em 0.5em 0.4em;box-sizing: border-box;padding-bottom: 0.4em;background-color: white;}#sk-container-id-2 div.sk-label label {font-family: monospace;font-weight: bold;display: inline-block;line-height: 1.2em;}#sk-container-id-2 div.sk-label-container {text-align: center;}#sk-container-id-2 div.sk-container {/* jupyter's `normalize.less` sets `[hidden] { display: none; }` but bootstrap.min.css set `[hidden] { display: none !important; }` so we also need the `!important` here to be able to override the default hidden behavior on the sphinx rendered scikit-learn.org. See: https://github.com/scikit-learn/scikit-learn/issues/21755 */display: inline-block !important;position: relative;}#sk-container-id-2 div.sk-text-repr-fallback {display: none;}</style><div id=\"sk-container-id-2\" class=\"sk-top-container\"><div class=\"sk-text-repr-fallback\"><pre>AdaBoostClassifier(algorithm=&#x27;SAMME&#x27;,\n",
       "                   estimator=DecisionTreeClassifier(max_depth=1),\n",
       "                   n_estimators=2)</pre><b>In a Jupyter environment, please rerun this cell to show the HTML representation or trust the notebook. <br />On GitHub, the HTML representation is unable to render, please try loading this page with nbviewer.org.</b></div><div class=\"sk-container\" hidden><div class=\"sk-item sk-dashed-wrapped\"><div class=\"sk-label-container\"><div class=\"sk-label sk-toggleable\"><input class=\"sk-toggleable__control sk-hidden--visually\" id=\"sk-estimator-id-4\" type=\"checkbox\" ><label for=\"sk-estimator-id-4\" class=\"sk-toggleable__label sk-toggleable__label-arrow\">AdaBoostClassifier</label><div class=\"sk-toggleable__content\"><pre>AdaBoostClassifier(algorithm=&#x27;SAMME&#x27;,\n",
       "                   estimator=DecisionTreeClassifier(max_depth=1),\n",
       "                   n_estimators=2)</pre></div></div></div><div class=\"sk-parallel\"><div class=\"sk-parallel-item\"><div class=\"sk-item\"><div class=\"sk-label-container\"><div class=\"sk-label sk-toggleable\"><input class=\"sk-toggleable__control sk-hidden--visually\" id=\"sk-estimator-id-5\" type=\"checkbox\" ><label for=\"sk-estimator-id-5\" class=\"sk-toggleable__label sk-toggleable__label-arrow\">estimator: DecisionTreeClassifier</label><div class=\"sk-toggleable__content\"><pre>DecisionTreeClassifier(max_depth=1)</pre></div></div></div><div class=\"sk-serial\"><div class=\"sk-item\"><div class=\"sk-estimator sk-toggleable\"><input class=\"sk-toggleable__control sk-hidden--visually\" id=\"sk-estimator-id-6\" type=\"checkbox\" ><label for=\"sk-estimator-id-6\" class=\"sk-toggleable__label sk-toggleable__label-arrow\">DecisionTreeClassifier</label><div class=\"sk-toggleable__content\"><pre>DecisionTreeClassifier(max_depth=1)</pre></div></div></div></div></div></div></div></div></div></div>"
      ],
      "text/plain": [
       "AdaBoostClassifier(algorithm='SAMME',\n",
       "                   estimator=DecisionTreeClassifier(max_depth=1),\n",
       "                   n_estimators=2)"
      ]
     },
     "execution_count": 24,
     "metadata": {},
     "output_type": "execute_result"
    }
   ],
   "source": [
    "from sklearn.tree import DecisionTreeClassifier\n",
    "from sklearn.decomposition import PCA\n",
    "\n",
    "base_classifier = DecisionTreeClassifier(max_depth=1)\n",
    "\n",
    "clf_boost_pca = AdaBoostClassifier(base_classifier, n_estimators=2, algorithm='SAMME')\n",
    "\n",
    "clf_boost_pca.fit(X_train_pca, y_train)"
   ]
  },
  {
   "cell_type": "markdown",
   "metadata": {},
   "source": [
    "En utilisant la fonction `classification_report` ( https://scikit-learn.org/stable/modules/generated/sklearn.metrics.classification_report.html ) de `scikit_learn`, affichez les performances du classifieurs sur la base de `X_test_pca`."
   ]
  },
  {
   "cell_type": "code",
   "execution_count": 25,
   "metadata": {},
   "outputs": [
    {
     "name": "stdout",
     "output_type": "stream",
     "text": [
      "Classification Report for Test Set with PCA:\n",
      "               precision    recall  f1-score   support\n",
      "\n",
      "           0       0.00      0.00      0.00         7\n",
      "           1       0.62      1.00      0.76        13\n",
      "           2       0.00      0.00      0.00        10\n",
      "\n",
      "    accuracy                           0.43        30\n",
      "   macro avg       0.21      0.33      0.25        30\n",
      "weighted avg       0.27      0.43      0.33        30\n",
      "\n"
     ]
    },
    {
     "name": "stderr",
     "output_type": "stream",
     "text": [
      "/home/messili231/.local/lib/python3.10/site-packages/sklearn/metrics/_classification.py:1471: UndefinedMetricWarning: Precision and F-score are ill-defined and being set to 0.0 in labels with no predicted samples. Use `zero_division` parameter to control this behavior.\n",
      "  _warn_prf(average, modifier, msg_start, len(result))\n",
      "/home/messili231/.local/lib/python3.10/site-packages/sklearn/metrics/_classification.py:1471: UndefinedMetricWarning: Precision and F-score are ill-defined and being set to 0.0 in labels with no predicted samples. Use `zero_division` parameter to control this behavior.\n",
      "  _warn_prf(average, modifier, msg_start, len(result))\n",
      "/home/messili231/.local/lib/python3.10/site-packages/sklearn/metrics/_classification.py:1471: UndefinedMetricWarning: Precision and F-score are ill-defined and being set to 0.0 in labels with no predicted samples. Use `zero_division` parameter to control this behavior.\n",
      "  _warn_prf(average, modifier, msg_start, len(result))\n"
     ]
    }
   ],
   "source": [
    "from sklearn.metrics import classification_report\n",
    "\n",
    "# Make predictions on X_test_pca using clf_boost_pca\n",
    "y_test_pca_pred = clf_boost_pca.predict(X_test_pca)\n",
    "\n",
    "# Display the classification report\n",
    "report_test_pca = classification_report(y_test, y_test_pca_pred)\n",
    "print(\"Classification Report for Test Set with PCA:\\n\", report_test_pca)"
   ]
  },
  {
   "cell_type": "markdown",
   "metadata": {},
   "source": [
    "Que pouvez-vous dire des performances ?"
   ]
  },
  {
   "cell_type": "raw",
   "metadata": {},
   "source": [
    "Faible"
   ]
  },
  {
   "cell_type": "markdown",
   "metadata": {},
   "source": [
    "### 2.4 Influence du nombre d'estimateur"
   ]
  },
  {
   "cell_type": "markdown",
   "metadata": {},
   "source": [
    "Nous vous donnons le code suivant permettant de visualiser les performances du classifieur `clf` sur les données du TP."
   ]
  },
  {
   "cell_type": "code",
   "execution_count": 26,
   "metadata": {},
   "outputs": [],
   "source": [
    "def plot_boundary(clf, X_train, X_test, y_train, y_test,n_estimators, sample_weight=1):\n",
    "    cm_bright = ListedColormap([\"#FF0000\", \"#0000FF\"]) if len(np.unique(y_train))==2 else ListedColormap([\"#FF0000\", \"#00FF00\", \"#0000FF\"]) \n",
    "    disp = DecisionBoundaryDisplay.from_estimator(clf, X_train, cmap=cm_bright, alpha=0.3, eps=0.5)\n",
    "    disp.figure_.set_figheight(12)\n",
    "    disp.figure_.set_figwidth(20)\n",
    "    disp.ax_.scatter(X_train[:,0], \n",
    "                     X_train[:,1], \n",
    "                     c=y_train, \n",
    "                     cmap=cm_bright, \n",
    "                     edgecolors=\"k\",\n",
    "                     s=100*sample_weight\n",
    "                    )\n",
    "\n",
    "    if X_test is not None and y_test is not None:\n",
    "        disp.ax_.scatter(X_test[:,0], \n",
    "                         X_test[:,1], \n",
    "                         c=y_test, \n",
    "                         cmap=cm_bright, \n",
    "                         edgecolors=\"k\", \n",
    "                         marker='x',\n",
    "                         s=100\n",
    "                        )\n",
    "    disp.ax_.set_title('nombre estimateur: '+str(n_estimators))\n",
    "    plt.figure(figsize=(20, 10))"
   ]
  },
  {
   "cell_type": "markdown",
   "metadata": {},
   "source": [
    "Faites varier le nombre d'estimateur utilisé entre 1 et 20 (en prenant une valeur sur 2) avec un arbre de décision de profondeur 1 pour l'estimateur de base et visualisez le changement dans la fonction apprise avec `plot_boundary`."
   ]
  },
  {
   "cell_type": "code",
   "execution_count": null,
   "metadata": {},
   "outputs": [],
   "source": [
    "# Faites varier le nombre d'estimateurs entre 1 et 20 avec un pas de 2\n",
    "for n_estimators in range(1, 21, 2):\n",
    "    # Création d'un classifieur AdaBoost avec un arbre de décision de profondeur 1\n",
    "    clf = AdaBoostClassifier(base_estimator=DecisionTreeClassifier(max_depth=1),\n",
    "                             n_estimators=n_estimators,\n",
    "                             random_state=42)\n",
    "    # Entraînement du classifieur\n",
    "    clf.fit(X_train_pca, y_train)\n",
    "    \n",
    "    # Visualisation de la frontière de décision et des points de données\n",
    "    plot_boundary(clf, X_train_pca, X_test_pca, y_train, y_test, n_estimators)"
   ]
  },
  {
   "cell_type": "markdown",
   "metadata": {},
   "source": [
    "Même question que précédemment mais utilisez un `Perceptron` avec les paramètres par défaut comme estimateur de base."
   ]
  },
  {
   "cell_type": "code",
   "execution_count": null,
   "metadata": {},
   "outputs": [],
   "source": [
    "### Your Code Here\n",
    "raise NotImplementedError()"
   ]
  },
  {
   "cell_type": "markdown",
   "metadata": {},
   "source": [
    "## 3 - Implémentation d'Adaboost"
   ]
  },
  {
   "cell_type": "markdown",
   "metadata": {},
   "source": [
    "AdaBoost (Adaptive Boosting) est une technique permettant d'améliorer les performances d'un algorithme de classification donné en prenant une somme pondérée intelligente de plusieurs instances du classificateur.\n",
    "\n",
    "Cette technique est basée sur la construction itérative d'une série de classifieurs tout en conservant un vecteur de poids indiquant la qualité de la classification de chaque point par les classifieurs précédents. À chaque étape, l'algorithme tente de construire un classifieur qui corrige les erreurs commises par les classifieurs précédents.\n",
    "\n",
    "En utilisant la notation suivante :\n",
    "\n",
    "- N - est la taille de l'ensemble de données.\n",
    "- $\\{x_{i},y_{i}\\}$ - Sont les features et les étiquettes entre {-1, 1}.\n",
    "\n",
    "les étapes de cet algorithme sont les suivantes :\n",
    "\n",
    "- Initialiser un vecteur de poids uniforme pour chaque point de données: $w^{(t=0)}_{i}=\\frac{1}{N}$\n",
    "- Itérer sur les étapes suivantes, avec un indice t, jusqu'à atteindre un certain critère d'arrêt :\n",
    "\n",
    "    1. Construire un classifieur optimal $h_{t}$ selon les données pondérées données $w^{t-1}_{i}$\n",
    "    2. Calculer l'erreur de prédiction de $h_{t}$ sur l'ensemble des données pondérées : $\\epsilon=\\dfrac{\\sum_{i}w^{t}_{i}\\mathbb{1}_{{h(x_{i}) \\neq y_{i}}}}{\\sum_{i}w^{t}_{i}}$.\n",
    "    3. Calculer le poids pour le classifieur $h_{t}$ selon : $\\alpha_{t}=\\gamma \\ln\\left(\\dfrac{1-\\epsilon}{\\epsilon}\\right)$ avec $\\gamma=\\frac{1}{2}$ par défaut.\n",
    "    4. Mettre à jour les poids des données selon $w^{t}_{i}=w^{t-1}_{i}\\exp\\left(-\\alpha_{t} y_{i} h(x_{i})\\right)$.\n",
    "    5. Normaliser le poids par $Z=\\sum_{i}w^{t}_{i}$ selon : $w^{t}_{i}=\\frac{w^{t}_{i}}{Z}$.\n",
    "\n",
    "\n",
    "\n",
    "- La prédiction finale sera alors la combinaison linéaire suivante des classifieurs entraînés : $h(x_{i})=\\text{sign}\\left(\\sum_{t}\\alpha_{t}h_{t}(x_{i})\\right)$."
   ]
  },
  {
   "cell_type": "markdown",
   "metadata": {},
   "source": [
    "Écrivez une fonction `init_sample` qui initialise un vecteur de taille $N$ de poids uniforme pour chaque point de données: $w^{(t=0)}_{i}=\\frac{1}{N}$"
   ]
  },
  {
   "cell_type": "code",
   "execution_count": 5,
   "metadata": {},
   "outputs": [],
   "source": [
    "def init_sample(N):\n",
    "    return [1/N] * N"
   ]
  },
  {
   "cell_type": "code",
   "execution_count": 6,
   "metadata": {},
   "outputs": [
    {
     "name": "stdout",
     "output_type": "stream",
     "text": [
      "\u001b[92m Ok - Tous les tests sont validés.\u001b[00m\n"
     ]
    }
   ],
   "source": [
    "# Ce bloc permet de valider votre code. Vous ne devez pas le modifier.  \n",
    "try:\n",
    "    np.testing.assert_equal(init_sample(100), np.ones(100)/100,\n",
    "                            err_msg=\"\\033[93m {}\\033[00m\" .format('Test 1 : Les valeurs de init_sample ne sont pas bien initialisées.'))\n",
    "except Exception as e: \n",
    "    print(\"\\033[91m {}\\033[00m\" .format('KO - Au moins un test n\\'est pas validé')) \n",
    "    print('Information sur le test non valide:')\n",
    "    print(e)\n",
    "    raise e\n",
    "else:\n",
    "    print(\"\\033[92m {}\\033[00m\" .format('Ok - Tous les tests sont validés.')) "
   ]
  },
  {
   "cell_type": "markdown",
   "metadata": {},
   "source": [
    "Écrivez une fonction `copy_and_fit` qui va prendre en argument un estimator, un ensemble de données `{X,Y}` et les poids `sample_weight` ($w$ dans les formules précédentes) et qui retournera l'estimator apprit avec les `sample_weights`. Vous clonerez l'estimator avant de l'utiliser sur l'ensemble `{X,Y}` en utilisant librairie `copy`. Cette étape correspond à l'étape de construire d'un classifieur optimal $h_{t}$ selon les données pondérées données $w^{t-1}_{i}$."
   ]
  },
  {
   "cell_type": "code",
   "execution_count": 14,
   "metadata": {},
   "outputs": [],
   "source": [
    "def copy_and_fit(estimator, X, y, sample_weight):\n",
    "    # Cloner l'estimateur\n",
    "    estimator_copy = copy.deepcopy(estimator)\n",
    "    \n",
    "    # Ajuster l'estimateur sur les données avec les poids d'échantillon donnés\n",
    "    estimator_copy.fit(X, y, sample_weight=sample_weight)\n",
    "    \n",
    "    return estimator_copy\n",
    "    "
   ]
  },
  {
   "cell_type": "markdown",
   "metadata": {},
   "source": [
    "Écrivez une fonction `estimate_error` qui va prendre en argument un estimator, un ensemble de données `{X,Y}` et les `sample_weight`. Cette fonction va renvoyé l'erreur de classification qui correspond à l'étape de calcule de l'erreur de prédiction de $h_{t}$ sur l'ensemble des données pondérées : $\\epsilon=\\dfrac{\\sum_{i}w^{t}_{i}\\mathbb{1}_{{h(x_{i}) \\neq y_{i}}}}{\\sum_{i}w^{t}_{i}}$. "
   ]
  },
  {
   "cell_type": "code",
   "execution_count": 7,
   "metadata": {},
   "outputs": [],
   "source": [
    "def estimate_error(estimator, X, y, sample_weight):\n",
    "    # Fit the estimator on the data with the given sample weights\n",
    "    fitted_estimator = copy_and_fit(estimator, X, y, sample_weight)\n",
    "    \n",
    "    # Make predictions using the fitted estimator\n",
    "    predictions = fitted_estimator.predict(X)\n",
    "    \n",
    "    # Calculate the weighted sum of misclassifications\n",
    "    error = np.sum(sample_weight[predictions != y])\n",
    "    \n",
    "    # Calculate the total sum of sample weights\n",
    "    total_weight = np.sum(sample_weight)\n",
    "    \n",
    "    # Calculate the weighted error rate\n",
    "    weighted_error = error / total_weight\n",
    "    \n",
    "    return weighted_error"
   ]
  },
  {
   "cell_type": "markdown",
   "metadata": {},
   "source": [
    "Écrivez une fonction `compute_weight_classifier` qui prend en paramétres `classification_error` et $\\gamma$. Cette fonction calcule le poids $\\alpha_t$ pour le classifieur $h_{t}$ selon : $\\alpha_{t}=\\gamma \\ln\\left(\\dfrac{1-\\epsilon}{\\epsilon}\\right)$."
   ]
  },
  {
   "cell_type": "code",
   "execution_count": 8,
   "metadata": {},
   "outputs": [],
   "source": [
    "def compute_weight_classifier(classification_error, gamma=0.5):\n",
    "    alpha_t = gamma * np.log((1 - classification_error) / classification_error)\n",
    "    return alpha_t"
   ]
  },
  {
   "cell_type": "markdown",
   "metadata": {},
   "source": [
    "Écrivez une fonction `update_sample_weight` qui prend en paramétres le poids pour le classifieur $h_{t}$ (`estimator_weight`), le poids des exemples (`sample_weight`) et les vecteurs y, y\\_predict. Cette fonction retourne la mise à jour les poids des données selon $w^{t}_{i}=w^{t-1}_{i}\\exp\\left(-\\alpha_{t} y_{i} h(x_{i}) \\right)$ et normalise les poids par $Z=\\sum_{i}w^{t}_{i}$ selon : $w^{t}_{i}=\\frac{w^{t}_{i}}{Z}$."
   ]
  },
  {
   "cell_type": "code",
   "execution_count": 10,
   "metadata": {},
   "outputs": [],
   "source": [
    "def update_sample_weight(estimator_weight, sample_weight, y, y_predict):\n",
    "    # Calculate the weight update factor\n",
    "    weight_update = np.exp(-estimator_weight * y * y_predict)\n",
    "    \n",
    "    # Update sample weights\n",
    "    sample_weight *= weight_update\n",
    "    \n",
    "    # Normalize sample weights\n",
    "    sample_weight /= np.sum(sample_weight)\n",
    "    \n",
    "    return sample_weight"
   ]
  },
  {
   "cell_type": "markdown",
   "metadata": {},
   "source": [
    "Écrivez une fonction `predict` qui prendra `X` un ensemble de données, la liste des estimators `estimators_list` et enfin `estimators_weights` la liste des poids de chaque classifieurs. Cette fonction va prédire la prédiction finale qui sera alors la combinaison linéaire suivante des classifieurs entraînés : $h(x_{i})=\\text{sign}\\left(\\sum_{t}\\alpha_{t}h_{t}(x_{i})\\right)$."
   ]
  },
  {
   "cell_type": "code",
   "execution_count": 11,
   "metadata": {},
   "outputs": [],
   "source": [
    "def predict(X, estimators_list, estimators_weights):\n",
    "    # Initialize an array to store the weighted sum of predictions\n",
    "    weighted_sum_predictions = np.zeros(len(X))\n",
    "    \n",
    "    # Loop through each estimator and its corresponding weight\n",
    "    for estimator, weight in zip(estimators_list, estimators_weights):\n",
    "        # Make predictions using the current estimator\n",
    "        predictions = estimator.predict(X)\n",
    "        \n",
    "        # Weight the predictions by the corresponding weight\n",
    "        weighted_predictions = weight * predictions\n",
    "        \n",
    "        # Accumulate the weighted predictions\n",
    "        weighted_sum_predictions += weighted_predictions\n",
    "    \n",
    "    # Apply sign function to get the final prediction\n",
    "    final_predictions = np.sign(weighted_sum_predictions)\n",
    "    \n",
    "    return final_predictions"
   ]
  },
  {
   "cell_type": "markdown",
   "metadata": {},
   "source": [
    "Remplissez la classe suivante avec les fonctions précédente."
   ]
  },
  {
   "cell_type": "code",
   "execution_count": 12,
   "metadata": {},
   "outputs": [],
   "source": [
    "class AdaBoost:\n",
    "    def __init__(self, estimator=None, n_estimators=50, learning_rate=0.5):\n",
    "        \"\"\"\n",
    "        estimator: L'estimateur de base à partir duquel l'ensemble boosté est construit.\n",
    "        n_estimators:(int) Le nombre maximum d'estimateurs pour lequel le boosting est terminé.\n",
    "        learning_rate: (float, default=1.0) Poids appliqué à chaque classificateur à chaque itération de boosting. \n",
    "        \"\"\"\n",
    "        self.n_estimators = n_estimators\n",
    "        self.learning_rate = learning_rate\n",
    "        #Begin Solution\n",
    "        self.estimator = estimator or DecisionTreeClassifier(max_depth=1) #Doit avoir Fit et Predict\n",
    "        #End Solution\n",
    "        self.sample_weight_list = []\n",
    "        self.estimators_list = []\n",
    "        self.estimator_weights_ = None\n",
    "        self.estimator_errors_ = None\n",
    "        self.transform = False\n",
    "    \n",
    "    def fit(self, X, y, sample_weight=None):\n",
    "        # labels de type -1 / 1.\n",
    "        if np.any(y==0):\n",
    "            self.transform = True\n",
    "            y[y==0] = -1\n",
    "        else:\n",
    "            self.transform = False\n",
    "        \n",
    "        #Initialisation des poids des samples\n",
    "        sample_weight = sample_weight if sample_weight is not None else np.ones(len(X)) / len(X)\n",
    "        \n",
    "        #Reset any provious Fit\n",
    "        self.sample_weight_list = []\n",
    "        self.sample_weight_list.append(sample_weight.copy())\n",
    "        self.estimators_list = []\n",
    "        self.estimator_weights_ = np.zeros(self.n_estimators, dtype=np.float64)\n",
    "        self.estimator_errors_ = np.ones(self.n_estimators, dtype=np.float64)\n",
    "        \n",
    "        for num_estimator in range(self.n_estimators):\n",
    "            # Boosting step\n",
    "            #Cloner et apprendre le current estimator\n",
    "            estimator = copy_and_fit(self.estimator, X, y, sample_weight)\n",
    "            \n",
    "            # Fraction d'erreur\n",
    "            estimator_error = estimate_error(estimator, X, y, sample_weight)\n",
    "                        \n",
    "            if estimator_error <= 0:\n",
    "                estimator_weight = 1.0\n",
    "                estimator_error = 0.0\n",
    "                self.estimators_list.append(estimator)\n",
    "                self.estimator_weights_[num_estimator] = estimator_weight\n",
    "                self.estimator_errors_[num_estimator] = estimator_error\n",
    "                break\n",
    "\n",
    "            # Calcule du poids du classifieur\n",
    "            estimator_weight = 0.5 * np.log((1.0 - estimator_error) / estimator_error)\n",
    "            \n",
    "            #Mise a jour des samples weight\n",
    "            sample_weight = update_sample_weight(estimator_weight, sample_weight, y, estimator.predict(X))\n",
    "        \n",
    "            #Save Model, sample_weight, estimator_weights and estimator_errors\n",
    "            self.sample_weight_list.append(sample_weight)\n",
    "            self.estimators_list.append(estimator)\n",
    "            self.estimator_weights_[num_estimator] = estimator_weight\n",
    "            self.estimator_errors_[num_estimator] = estimator_error\n",
    "\n",
    "        if self.transform:\n",
    "            y[y==-1] = 0\n",
    "        return self\n",
    "    \n",
    "    def predict(self, X):\n",
    "        #Prediction\n",
    "        final_predictions = predict(X, self.estimators_list, self.estimator_weights_)\n",
    "        \n",
    "        if self.transform:\n",
    "            final_predictions[final_predictions == -1] = 0 \n",
    "            \n",
    "        return final_predictions"
   ]
  },
  {
   "cell_type": "markdown",
   "metadata": {},
   "source": [
    "Testez votre modèle en utilisant `make_circles` de `scikit-learn` (https://scikit-learn.org/stable/modules/generated/sklearn.datasets.make_circles.html). Vous allez utiliser 500 samples, un bruit de 0.04 et un facteur de 0.3.\n",
    "\n",
    "Ensuite testez votre modèle en faisant varier le nombre d'estimateurs (utilisez la fonction plot_boundary)"
   ]
  },
  {
   "cell_type": "code",
   "execution_count": 17,
   "metadata": {},
   "outputs": [
    {
     "data": {
      "image/png": "[encoded data removed]",
      "text/plain": [
       "<Figure size 640x480 with 1 Axes>"
      ]
     },
     "metadata": {},
     "output_type": "display_data"
    }
   ],
   "source": [
    "from sklearn.metrics import accuracy_score\n",
    "\n",
    "# Generate synthetic data with make_circles\n",
    "X, y = make_circles(n_samples=500, noise=0.04, factor=0.3, random_state=42)\n",
    "\n",
    "# Split data into train and test sets\n",
    "X_train, X_test, y_train, y_test = train_test_split(X, y, test_size=0.2, random_state=42)\n",
    "\n",
    "# Define number of estimators to test\n",
    "n_estimators_list = [1, 10, 50, 100]\n",
    "\n",
    "# Initialize lists to store accuracy scores\n",
    "train_accuracy = []\n",
    "test_accuracy = []\n",
    "\n",
    "# Train and test the AdaBoost model for each number of estimators\n",
    "for n_estimators in n_estimators_list:\n",
    "    # Initialize AdaBoost model\n",
    "    ada_model = AdaBoost(estimator=DecisionTreeClassifier(max_depth=1), n_estimators=n_estimators)\n",
    "    \n",
    "    # Train the model\n",
    "    ada_model.fit(X_train, y_train)\n",
    "    \n",
    "    # Make predictions on training and test sets\n",
    "    train_predictions = ada_model.predict(X_train)\n",
    "    test_predictions = ada_model.predict(X_test)\n",
    "    \n",
    "    # Calculate accuracy scores\n",
    "    train_accuracy.append(accuracy_score(y_train, train_predictions))\n",
    "    test_accuracy.append(accuracy_score(y_test, test_predictions))\n",
    "\n",
    "# Plotting the results\n",
    "plt.plot(n_estimators_list, train_accuracy, label='Train Accuracy')\n",
    "plt.plot(n_estimators_list, test_accuracy, label='Test Accuracy')\n",
    "plt.xlabel('Number of Estimators')\n",
    "plt.ylabel('Accuracy')\n",
    "plt.title('Accuracy vs Number of Estimators')\n",
    "plt.legend()\n",
    "plt.show()"
   ]
  },
  {
   "cell_type": "code",
   "execution_count": 18,
   "metadata": {},
   "outputs": [
    {
     "data": {
      "image/png": "[encoded data removed]",
      "text/plain": [
       "<Figure size 640x480 with 1 Axes>"
      ]
     },
     "metadata": {},
     "output_type": "display_data"
    }
   ],
   "source": [
    "import numpy as np\n",
    "import matplotlib.pyplot as plt\n",
    "from sklearn.datasets import make_circles\n",
    "from sklearn.model_selection import train_test_split\n",
    "from sklearn.metrics import accuracy_score\n",
    "from sklearn.ensemble import AdaBoostClassifier\n",
    "\n",
    "# Generate synthetic data with make_circles\n",
    "X, y = make_circles(n_samples=500, noise=0.04, factor=0.3, random_state=42)\n",
    "\n",
    "# Split data into train and test sets\n",
    "X_train, X_test, y_train, y_test = train_test_split(X, y, test_size=0.2, random_state=42)\n",
    "\n",
    "# Define number of estimators to test\n",
    "n_estimators_list = [1, 10, 50, 100]\n",
    "\n",
    "# Initialize lists to store accuracy scores\n",
    "train_accuracy = []\n",
    "test_accuracy = []\n",
    "\n",
    "# Train and test the AdaBoost model for each number of estimators\n",
    "for n_estimators in n_estimators_list:\n",
    "    # Initialize AdaBoost model\n",
    "    ada_model = AdaBoostClassifier(n_estimators=n_estimators, random_state=42)\n",
    "    \n",
    "    # Train the model\n",
    "    ada_model.fit(X_train, y_train)\n",
    "    \n",
    "    # Make predictions on training and test sets\n",
    "    train_predictions = ada_model.predict(X_train)\n",
    "    test_predictions = ada_model.predict(X_test)\n",
    "    \n",
    "    # Calculate accuracy scores\n",
    "    train_accuracy.append(accuracy_score(y_train, train_predictions))\n",
    "    test_accuracy.append(accuracy_score(y_test, test_predictions))\n",
    "\n",
    "# Plotting the results\n",
    "plt.plot(n_estimators_list, train_accuracy, label='Train Accuracy')\n",
    "plt.plot(n_estimators_list, test_accuracy, label='Test Accuracy')\n",
    "plt.xlabel('Number of Estimators')\n",
    "plt.ylabel('Accuracy')\n",
    "plt.title('Accuracy vs Number of Estimators (scikit-learn AdaBoost)')\n",
    "plt.legend()\n",
    "plt.show()"
   ]
  },
  {
   "cell_type": "markdown",
   "metadata": {},
   "source": [
    "## 4 - Implémentation Bagging"
   ]
  },
  {
   "cell_type": "markdown",
   "metadata": {},
   "source": [
    "Le Bagging (Bootstrap Aggregating) est une technique utilisée pour améliorer les performances d'un algorithme de classification donné en combinant les prédictions de plusieurs instances du classifieur.\n",
    "\n",
    "Cette technique est basée sur la création de plusieurs sous-ensembles de l'ensemble de données d'origine à travers le bootstrap, puis l'entraînement d'un classifieur sur chaque sous-ensemble. La prédiction finale est ensuite effectuée en agrégeant les prédictions de tous les classifieurs.\n",
    "\n",
    "En utilisant la notation suivante :\n",
    "\n",
    "N - est la taille de l'ensemble de données.\n",
    "${x_{i},y_{i}}$ - représentent les caractéristiques et les étiquettes, où $y_{i}$ est la variable cible.\n",
    "Les étapes de cet algorithme sont les suivantes :\n",
    "\n",
    "Échantillonnage Bootstrap : Générer plusieurs sous-ensembles aléatoires (avec remplacement) de l'ensemble de données d'origine.\n",
    "Entraînement d'un classifieur : Entraîner un classifieur sur chaque échantillon bootstrap.\n",
    "Prédiction : Pour une entrée donnée $x_{i}$, agréger les prédictions de tous les classifieurs par vote majoritaire (pour les tâches de classification) ou moyennage (pour les tâches de régression).\n",
    "Le Bagging aide à réduire la variance et le surajustement en moyennant les biais et en introduisant de l'aléatoire à travers l'échantillonnage bootstrap."
   ]
  },
  {
   "cell_type": "code",
   "execution_count": 19,
   "metadata": {},
   "outputs": [],
   "source": [
    "import numpy as np\n",
    "from sklearn.utils import resample\n",
    "\n",
    "class BaggingClassifier:\n",
    "    def __init__(self, base_estimator, n_estimators=10):\n",
    "        \"\"\"\n",
    "        base_estimator: L'estimateur de base à partir duquel chaque classifieur est construit.\n",
    "        n_estimators: Le nombre d'estimateurs à utiliser dans le Bagging.\n",
    "        \"\"\"\n",
    "        self.base_estimator = base_estimator\n",
    "        self.n_estimators = n_estimators\n",
    "        self.estimators = []\n",
    "\n",
    "    def fit(self, X, y):\n",
    "        for _ in range(self.n_estimators):\n",
    "            # Bootstrap sampling\n",
    "            X_sample, y_sample = resample(X, y, replace=True, random_state=None)\n",
    "            \n",
    "            # Train base estimator on bootstrap sample\n",
    "            estimator = self.base_estimator.fit(X_sample, y_sample)\n",
    "            \n",
    "            # Add trained estimator to list\n",
    "            self.estimators.append(estimator)\n",
    "\n",
    "    def predict(self, X):\n",
    "        # Make predictions for each base estimator\n",
    "        predictions = np.array([estimator.predict(X) for estimator in self.estimators])\n",
    "        \n",
    "        # Aggregate predictions by majority voting\n",
    "        aggregated_predictions = np.mean(predictions, axis=0)\n",
    "        return np.round(aggregated_predictions)"
   ]
  },
  {
   "cell_type": "code",
   "execution_count": null,
   "metadata": {},
   "outputs": [],
   "source": []
  }
 ],
 "metadata": {
  "kernelspec": {
   "display_name": "Python 3 (ipykernel)",
   "language": "python",
   "name": "python3"
  },
  "language_info": {
   "codemirror_mode": {
    "name": "ipython",
    "version": 3
   },
   "file_extension": ".py",
   "mimetype": "text/x-python",
   "name": "python",
   "nbconvert_exporter": "python",
   "pygments_lexer": "ipython3",
   "version": "3.10.12"
  }
 },
 "nbformat": 4,
 "nbformat_minor": 4
}
